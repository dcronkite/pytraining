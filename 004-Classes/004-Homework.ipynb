{
 "cells": [
  {
   "cell_type": "markdown",
   "metadata": {
    "collapsed": true
   },
   "source": [
    "# Functions / Classes\n",
    "\n",
    "We will help us review some of the material we learned in the last tutorial.\n"
   ]
  },
  {
   "cell_type": "markdown",
   "metadata": {},
   "source": [
    "# Functions\n",
    "This is a further review of functions, and so we're going to focus on:\n",
    "* A brief review of recursion\n",
    "* An introduction to `**kwargs` (we've covered this briefly before)\n",
    "\n",
    "Let's start with recursion."
   ]
  },
  {
   "cell_type": "markdown",
   "metadata": {},
   "source": [
    "## Anagrams\n",
    "\n",
    "An anagram is any rearranging of the letters in a word. (See something like this website for more details: https://wordsmith.org/anagram/)\n",
    "\n",
    "This is an example that can only be solved recursively (try doing it with for-loops if you don't believe me)."
   ]
  },
  {
   "cell_type": "markdown",
   "metadata": {},
   "source": [
    "### Step 1: Find the base case\n",
    "\n",
    "The base case occurs when there is only 1 character."
   ]
  },
  {
   "cell_type": "code",
   "execution_count": null,
   "metadata": {
    "collapsed": true
   },
   "outputs": [],
   "source": [
    "word = 'a'  # the only anagram is itself"
   ]
  },
  {
   "cell_type": "code",
   "execution_count": null,
   "metadata": {
    "collapsed": true
   },
   "outputs": [],
   "source": [
    "# so, if the word has only one letter, we just want to print that letter\n",
    "def anagrams(letters):\n",
    "    if len(letters) == 1:\n",
    "        print(letters)"
   ]
  },
  {
   "cell_type": "code",
   "execution_count": null,
   "metadata": {},
   "outputs": [],
   "source": [
    "# let's test it\n",
    "anagrams(word)"
   ]
  },
  {
   "cell_type": "markdown",
   "metadata": {},
   "source": [
    "### Stage 2: Make it work for the next length\n",
    "\n",
    "Now, we need to handle for 2 characters. What do we need to do?\n",
    "* We need to start each possible letter\n",
    "* We need all the remaining letters to then be added in turn\n"
   ]
  },
  {
   "cell_type": "code",
   "execution_count": null,
   "metadata": {
    "collapsed": true
   },
   "outputs": [],
   "source": [
    "word = 'an'  # result should be 'an', and 'na'"
   ]
  },
  {
   "cell_type": "code",
   "execution_count": null,
   "metadata": {
    "collapsed": true
   },
   "outputs": [],
   "source": [
    "# give it a quick shot\n",
    "# I've added one parameter `word` which contains \n",
    "#   all the letters we've already used\n",
    "def anagrams(letters, word=''):\n",
    "    if len(letters) == 1:\n",
    "        print(word + letters)\n",
    "    else:\n",
    "        # go through each letter\n",
    "        #   and call the anagrams function\n",
    "    "
   ]
  },
  {
   "cell_type": "code",
   "execution_count": null,
   "metadata": {
    "collapsed": true
   },
   "outputs": [],
   "source": [
    "anagrams('an')  # should print 'an' and 'na'\n",
    "anagrams('a')  # should print 'a'"
   ]
  },
  {
   "cell_type": "code",
   "execution_count": null,
   "metadata": {
    "collapsed": true
   },
   "outputs": [],
   "source": [
    "# Here's my solution \n",
    "# for the case of 2 letters\n",
    "def anagrams(letters, word=''):\n",
    "    if len(letters) == 1:\n",
    "        print(word + letters)\n",
    "    else:\n",
    "        anagrams(letters[0], letters[1])\n",
    "        anagrams(letters[1], letters[0])"
   ]
  },
  {
   "cell_type": "code",
   "execution_count": null,
   "metadata": {},
   "outputs": [],
   "source": [
    "anagrams('an')  # should print 'an' and 'na'\n",
    "anagrams('a')  # should print 'a'"
   ]
  },
  {
   "cell_type": "markdown",
   "metadata": {},
   "source": [
    "### Look to generalize the 2-letter solution\n",
    "\n",
    "Here's some observations:\n",
    "* When we look at the first letter, we need to include all the letters after\n",
    "* When we use the second letter, we need to include all the letters after"
   ]
  },
  {
   "cell_type": "code",
   "execution_count": null,
   "metadata": {
    "collapsed": true
   },
   "outputs": [],
   "source": [
    "# In other words, we need to remember to grab all the other\n",
    "#   letters (before and after)\n",
    "# Take for instance the 2 letter in a 5-letter word\n",
    "word = 'hello'\n",
    "current_letter = word[1]  # letter we're using now\n",
    "before_letters = word[:1]  # letters that still need to be used\n",
    "after_letters = word[1+1:]  # letters that still need to be used"
   ]
  },
  {
   "cell_type": "code",
   "execution_count": null,
   "metadata": {
    "collapsed": true
   },
   "outputs": [],
   "source": [
    "# using the above info, give it a try\n",
    "# I have included another solution below if you get stuck\n",
    "def anagrams(letters, word=''):\n",
    "    if len(letters) == 1:\n",
    "        print(word + letters)\n",
    "    else:\n",
    "        # range counts from 0 to the length of the remaining letters\n",
    "        for i in range(len(letters)):\n",
    "            anagrams(unused_letters, word + '??')"
   ]
  },
  {
   "cell_type": "code",
   "execution_count": null,
   "metadata": {
    "collapsed": true
   },
   "outputs": [],
   "source": [
    "# try these\n",
    "anagrams('listen')"
   ]
  },
  {
   "cell_type": "code",
   "execution_count": null,
   "metadata": {
    "collapsed": true
   },
   "outputs": [],
   "source": [
    "anagrams('kitchen')"
   ]
  },
  {
   "cell_type": "code",
   "execution_count": null,
   "metadata": {
    "collapsed": true
   },
   "outputs": [],
   "source": [
    "your_name = ''\n",
    "anagrams(your_name)"
   ]
  },
  {
   "cell_type": "code",
   "execution_count": null,
   "metadata": {
    "collapsed": true
   },
   "outputs": [],
   "source": [
    "# Here's my solution \n",
    "# for the general case\n",
    "def anagrams(letters, word=''):\n",
    "    if len(letters) == 1:\n",
    "        print(word + letters)\n",
    "    else:\n",
    "        # range counts from 0 to the length of the remaining letters\n",
    "        for i in range(len(letters)):\n",
    "            before = letters[:i]  # letters before\n",
    "            current_letter = letters[i]\n",
    "            after = letters[i+1:]  # letters after\n",
    "            unused_letters = before + after\n",
    "            updated_word = word + current_letter\n",
    "            anagrams(unused_letters, updated_word)"
   ]
  },
  {
   "cell_type": "code",
   "execution_count": null,
   "metadata": {
    "collapsed": true
   },
   "outputs": [],
   "source": [
    "# there are a lot of lines in the above\n",
    "# this is help you parse the different steps\n",
    "# can you simplify my (or your) if statement into fewer lines\n"
   ]
  },
  {
   "cell_type": "markdown",
   "metadata": {},
   "source": [
    "## `**kwargs`\n",
    "\n",
    "`**kwargs` are similar to `*args` except that they are based on a dictionary rather than a tuple/list.\n"
   ]
  },
  {
   "cell_type": "code",
   "execution_count": null,
   "metadata": {},
   "outputs": [],
   "source": [
    "def do_something(**kwargs):\n",
    "    print(kwargs)\n",
    "    \n",
    "do_something(a='1', b=2)"
   ]
  },
  {
   "cell_type": "code",
   "execution_count": null,
   "metadata": {
    "collapsed": true
   },
   "outputs": [],
   "source": [
    "# kwargs work with *args and other specified keywords\n",
    "def do_something(*args, a='1', **kwargs):\n",
    "    print('Args:', args)\n",
    "    print('Kwargs:', kwargs)"
   ]
  },
  {
   "cell_type": "code",
   "execution_count": null,
   "metadata": {},
   "outputs": [],
   "source": [
    "# what is going to get printed?\n",
    "# what will kwargs be? \n",
    "# what will args be?\n",
    "do_something(1, 2, 3, a=3, b=4, c=5)"
   ]
  },
  {
   "cell_type": "code",
   "execution_count": null,
   "metadata": {
    "collapsed": true
   },
   "outputs": [],
   "source": [
    "# what happened to a=3? Why is it not in `**kwargs`?"
   ]
  },
  {
   "cell_type": "markdown",
   "metadata": {},
   "source": [
    "Even if you don't understand when you would use `*args` and `**kwargs`, that's okay (and it is not\n",
    "always straightforward). The goal here is to help you understand what you see when you're looking through\n",
    "documentation.\n",
    "\n",
    "And, for the most part, `**kwargs` is not all that common, as `*args` is much more useful and frequent.\n",
    "\n",
    "If you recall the `add` function we wrote that allowed us to include any number of values:\n",
    "```\n",
    "def add(*numbers):\n",
    "    total = 0\n",
    "    for number in numbers:\n",
    "        total += number\n",
    "    return total\n",
    "```\n"
   ]
  },
  {
   "cell_type": "markdown",
   "metadata": {},
   "source": [
    "# Classes\n",
    "\n",
    "Classes, as you recall, are useful when we want to combine data along with useful methods to work with that data. This\n",
    "definition can be a bit fuzzy--as with much terminology--but I think it will be extraordinarily helpful if we work through\n",
    "a few examples to help cement the concepts.\n",
    "\n",
    "We will also look at a few more \"magic methods\" ('method' is a function in an object). These methods begin and end with the double underscore to help distinguish them from \n",
    "normal methods. They are considered \"magic\" because they do special things under the hood. You can find a full list here (it's a bit overwhelming, and most aren't used all that often): http://www.siafoo.net/article/57.\n",
    "Python tends to prefer using a lot of functions rather than a lot of classes.\n",
    "(On a side note, none of your functions should ever begin and end with a double underscore so as to not overwrite them by accident.)\n",
    "\n",
    "Do you recall the names of the two \"magic methods\" we looked at in class?\n",
    "\n",
    "Do you recall what they did?\n",
    "\n",
    "ANSWERS:\n",
    "* `__init__`: create an objects\n",
    "* `__repr__`: provide a readable representation of the object for printing"
   ]
  },
  {
   "cell_type": "markdown",
   "metadata": {},
   "source": [
    "The example we're going to work through is based on a deck of cards. The object will represent a card (suit + value), and we will want to compare \n",
    "cards with each other (e.g., the King is greater than the Jack). For our purposes Aces are low (although, you're doing the homework--so feel free to switch it, \n",
    "or, even better, make it an optional parameter!)\n",
    "\n",
    "By the way, if you get stuck, please reach out or consult the companion `004-Homework-Complete.ipynb` file.\n",
    "\n",
    "What do our cards need?\n",
    "* Suit (Hearts > Diamonds > Clubs > Spades)  => there is no standard ordering, let's use this\n",
    "* Values (2-10, Jack, Queen, King, Ace)\n",
    "\n",
    "To start with, we'll create just a single suit and use the numbers 2-10."
   ]
  },
  {
   "cell_type": "code",
   "execution_count": null,
   "metadata": {
    "collapsed": true
   },
   "outputs": [],
   "source": [
    "class Card(object):\n",
    "    \n",
    "    def __init__(self, value, suit='Clubs'):\n",
    "        # let's save these labels as part of the object\n",
    "        self.value = value\n",
    "        self.suit = suit"
   ]
  },
  {
   "cell_type": "code",
   "execution_count": null,
   "metadata": {},
   "outputs": [],
   "source": [
    "card = Card(2)\n",
    "card.suit, card.value"
   ]
  },
  {
   "cell_type": "code",
   "execution_count": null,
   "metadata": {},
   "outputs": [],
   "source": [
    "card"
   ]
  },
  {
   "cell_type": "code",
   "execution_count": null,
   "metadata": {
    "collapsed": true
   },
   "outputs": [],
   "source": [
    "# printing out card is not pretty\n",
    "# can you add a __repr__ method so that it's easier to read?\n",
    "# Don't forget to include the \"self\" so that the __repr__ method has\n",
    "#   access to `value` and `suit` attributes?\n",
    "class Card(object):\n",
    "    \n",
    "    def __init__(self, value, suit='Clubs'):\n",
    "        # let's save these labels as part of the object\n",
    "        self.value = value\n",
    "        self.suit = suit\n",
    "        \n",
    "    # add __repr__ here"
   ]
  },
  {
   "cell_type": "markdown",
   "metadata": {},
   "source": [
    "Now we're going to introduce the `__eq__` magic method.\n",
    "\n",
    "`__eq__(self, other)` compares two classes/objects and returns True if they are the same.\n",
    "\n",
    "When should `__eq__` return True in our case?"
   ]
  },
  {
   "cell_type": "code",
   "execution_count": null,
   "metadata": {
    "collapsed": true
   },
   "outputs": [],
   "source": [
    "# study the __eq__ method below and add it to your Card class\n",
    "# how can it be simplified?\n",
    "\n",
    "def __eq__(self, other):\n",
    "    \"\"\"\n",
    "    self: this is a reference to the current object\n",
    "    :param other: this is a reference to whatever is being compared\n",
    "    :return: True if self and other are the same\n",
    "    \"\"\"\n",
    "    if self.suit == other.suit:\n",
    "        if self.value == other.value:\n",
    "            return True\n",
    "        else:\n",
    "            return False\n",
    "    else:\n",
    "        return False"
   ]
  },
  {
   "cell_type": "code",
   "execution_count": null,
   "metadata": {},
   "outputs": [],
   "source": [
    "# make sure you remember to indent when you add __eq__ to your card class\n",
    "c = Card(2)\n",
    "c2 = Card(5)\n",
    "c3 = Card(2)\n",
    "print(c == c3)\n",
    "print(c == c2)"
   ]
  },
  {
   "cell_type": "markdown",
   "metadata": {},
   "source": [
    "### What just happened? : Understanding Comparators\n",
    "\n",
    "Did you notice that by implementing the `__eq__(self, other)` method, suddenly we could compare our objects with the `==` sign? Isn't that cool? This is why the method is 'magic'.\n",
    "\n",
    "The `__eq__(self, other)` is definitely worth memorizing (along with `__repr__(self)` and `__init__(self, more, args, ...)`, and you can imagine that it has some relations:\n",
    "* `__gt__(self, other)`: greater than\n",
    "* `__ge__(self, other)`: greater than or equal to \n",
    "* `__lt__(self, other)`: less than\n",
    "* `__le__(self, other)`: less than or equal to \n",
    "\n",
    "Yes, cool...but now your thinking--why do I have to implement all those? Doesn't that sound tedious? And Python tries to be very un-tedious.\n",
    "\n",
    "Well, you're right--there's no reason you need to implement them all--you just need to pick one (along with the `__eq__` method), and python will implement the rest for you. It's very thoughtful.\n",
    "\n",
    "You just need to add the following cell:\n",
    "* import statement\n",
    "* add `@total_ordering` in front of your class\n"
   ]
  },
  {
   "cell_type": "code",
   "execution_count": null,
   "metadata": {
    "collapsed": true
   },
   "outputs": [],
   "source": [
    "from functools import total_ordering  # you'll need to import this\n",
    "\n",
    "@total_ordering  # add this in front of your class\n",
    "class Card(object):\n",
    "    ..."
   ]
  },
  {
   "cell_type": "code",
   "execution_count": null,
   "metadata": {},
   "outputs": [],
   "source": [
    "# pick one of the above functions and add it to your class\n",
    "# I'm partial to the `__gt__(self, other)` method, but pick whichever you like.\n",
    "\n",
    "# Make sure you add it to your class and re-run the cell\n",
    "# Hints:\n",
    "#   * If you do gt/lt, make sure you compare using `>` and `<`\n",
    "#   * If you do ge/le, make sure you compare using `>=` and `<=`\n",
    "#   * You need to compare suits as well as values. This is a bit annoying now, but we'll fix that later.\n",
    "c = Card(2)\n",
    "c2 = Card(5)\n",
    "c3 = Card(2)\n",
    "print('Expected: True; Actual:', c == c3)\n",
    "print('Expected: True; Actual:', c >= c3)\n",
    "print('Expected: False; Actual:', c > c3)\n",
    "print('Expected: True; Actual:', c2 > c3)\n",
    "print('Expected: False; Actual:', c2 < c3)\n",
    "print('Expected: True; Actual:', c2 != c3)"
   ]
  },
  {
   "cell_type": "code",
   "execution_count": null,
   "metadata": {
    "collapsed": true
   },
   "outputs": [],
   "source": [
    "c4 = Card(2, suit='Hearts')\n",
    "print('Expected: False; Actual:', c2 > c4)  # Hearts > Clubs\n",
    "print('Expected: True; Actual:', c3 != c4)  # different suits"
   ]
  },
  {
   "cell_type": "markdown",
   "metadata": {},
   "source": [
    "### Simplifying Suits\n",
    "\n",
    "Okay, it was pretty annoying to write down all those suits. We can make this easier by giving each suit a numeric value.\n",
    "The user won't know this numeric, but will be able to use it. \n",
    "\n",
    "So far, we've learned that each class can have various attributes (e.g., suit and value), but the class itself can have\n",
    "automatic \"global\" attributes. These values can be accessed without even instantiating a class (via the `__init__` method).\n",
    "\n",
    "By convention, the global attributes are uppercase, the local ones are lowercase.\n",
    "\n",
    "Let's take a look:"
   ]
  },
  {
   "cell_type": "code",
   "execution_count": null,
   "metadata": {
    "collapsed": true
   },
   "outputs": [],
   "source": [
    "class Card2(object):\n",
    "    SPADES = 0\n",
    "    CLUBS = 1\n",
    "    DIAMONDS = 2\n",
    "    HEARTS = 3\n"
   ]
  },
  {
   "cell_type": "code",
   "execution_count": null,
   "metadata": {},
   "outputs": [],
   "source": [
    "Card2.SPADES, Card2.CLUBS"
   ]
  },
  {
   "cell_type": "code",
   "execution_count": null,
   "metadata": {},
   "outputs": [],
   "source": [
    "# we can also call these after creating the class\n",
    "c = Card2()  # no init method, so defaults to no parameters\n",
    "c.SPADES"
   ]
  },
  {
   "cell_type": "code",
   "execution_count": null,
   "metadata": {
    "collapsed": true
   },
   "outputs": [],
   "source": [
    "# Add the global attributes from Card2 to your Card class\n",
    "# and update the `__init__` method:\n",
    "def __init__(self, value, suit=None):\n",
    "    self.value = value\n",
    "    if self.suit:  # it's not None\n",
    "        self.suit = suit\n",
    "    else:  # use a default\n",
    "        self.suit = Card.CLUBS"
   ]
  },
  {
   "cell_type": "code",
   "execution_count": null,
   "metadata": {
    "collapsed": true
   },
   "outputs": [],
   "source": [
    "# note that you will need to update your comparator method (gt/ge/lt/le)\n",
    "# write a couple tests to make sure it works\n",
    "c = Card(2)\n",
    "c2 = Card(5)\n",
    "c3 = Card(2)\n",
    "c4 = Card(2, suit=Card.HEARTS)\n",
    "c5 = Card(2, Card.DIAMONDS)"
   ]
  },
  {
   "cell_type": "code",
   "execution_count": null,
   "metadata": {
    "collapsed": true
   },
   "outputs": [],
   "source": [
    "# if you are having trouble, consult 004-Homework-Complete.ipynb (or see in the conclusion section below)\n",
    "# the `__gt__` would look something like:\n",
    "if self.suit == other.suit:\n",
    "    return self.value > other.value\n",
    "return self.suit > other.suit"
   ]
  },
  {
   "cell_type": "code",
   "execution_count": null,
   "metadata": {
    "collapsed": true
   },
   "outputs": [],
   "source": [
    "# how does it print out?\n",
    "c"
   ]
  },
  {
   "cell_type": "code",
   "execution_count": null,
   "metadata": {
    "collapsed": true
   },
   "outputs": [],
   "source": [
    "# What's going on with our `__repr__` method?\n",
    "# it's printing out the number rather than the name\n",
    "# let's add a dict to global attributes\n",
    "SUITS = {\n",
    "    HEARTS : 'Hearts',\n",
    "    SPADES : 'Spades',\n",
    "    CLUBS : 'Clubs',\n",
    "    DIAMONDS : 'Diamonds'\n",
    "}\n",
    "# and update the `__repr__` method so that it calls the dictionary\n",
    "# something like this will get the name of the suit:\n",
    "self.SUITS[self.suit]"
   ]
  },
  {
   "cell_type": "code",
   "execution_count": null,
   "metadata": {
    "collapsed": true
   },
   "outputs": [],
   "source": [
    "# All that's left is to add the Face cards (Ace, Jack, Queen, King). \n",
    "# We can do this in the same way, with globals\n",
    "JACK = 11\n",
    "QUEEN = 12\n",
    "# etc..."
   ]
  },
  {
   "cell_type": "code",
   "execution_count": null,
   "metadata": {
    "collapsed": true
   },
   "outputs": [],
   "source": [
    "# We'll also need a look up table for the __repr__ method.\n",
    "VALUES = {\n",
    "    JACK: 'Jack',\n",
    "    QUEEN: 'Queen', \n",
    "    # etc.\n",
    "}"
   ]
  },
  {
   "cell_type": "markdown",
   "metadata": {},
   "source": [
    "## Conclusion (and Extra Credit!)\n",
    "Give the above a try. If you're having trouble, just consult the solution page.\n",
    "\n",
    "Let's reflect on what we just did.\n",
    "* We created a class to represent playing cards\n",
    "* We made methods so that these cards can be compared\n",
    "\n",
    "In fact, we have the foundation of a program that allows you to play card games. All that's left is:\n",
    "* Build a deck of each card\n",
    "* Put some rules in place\n",
    "* Create a user interface (doing this is only a couple lessons away!)\n",
    "\n",
    "For the first two, check below to see how to play a quick game of 1-card stud (poker) in which one card is dealt without replacement (https://en.wikipedia.org/wiki/Five-card_stud) without any gambling.\n",
    "All we're missing is scoring the hands. Can you add that?\n"
   ]
  },
  {
   "cell_type": "code",
   "execution_count": null,
   "metadata": {
    "collapsed": true
   },
   "outputs": [],
   "source": [
    "import random  # this module will let us randomly pick cards"
   ]
  },
  {
   "cell_type": "code",
   "execution_count": null,
   "metadata": {
    "collapsed": true
   },
   "outputs": [],
   "source": [
    "# my final card class\n",
    "@total_ordering\n",
    "class Card(object):\n",
    "    SPADES = 0\n",
    "    CLUBS = 1\n",
    "    DIAMONDS = 2\n",
    "    HEARTS = 3\n",
    "    \n",
    "    SUITS = {\n",
    "        HEARTS : 'Hearts',\n",
    "        SPADES : 'Spades',\n",
    "        CLUBS : 'Clubs',\n",
    "        DIAMONDS : 'Diamonds'\n",
    "    }\n",
    "    \n",
    "    JACK = 11\n",
    "    QUEEN = 12\n",
    "    KING = 13\n",
    "    ACE = 14\n",
    "    \n",
    "    VALUES = {\n",
    "        JACK: 'Jack',\n",
    "        QUEEN: 'Queen', \n",
    "        KING: 'King', \n",
    "        ACE: 'Ace', \n",
    "    }\n",
    "    \n",
    "    def __init__(self, value, suit=None):\n",
    "        self.value = value\n",
    "        if suit:\n",
    "            self.suit = suit\n",
    "        else:\n",
    "            self.suit = Card.CLUBS\n",
    "        \n",
    "    def __repr__(self):\n",
    "        val = self.value\n",
    "        if self.value in self.VALUES:\n",
    "            val = self.VALUES[self.value]     \n",
    "        return 'Card: ' + str(val) + ' of ' + Card.SUITS[self.suit]\n",
    "    \n",
    "    def __eq__(self, other):\n",
    "        \"\"\"\n",
    "        self: this is a reference to the current object\n",
    "        :param other: this is a reference to whatever is being compared\n",
    "        :return: True if self and other are the same\n",
    "        \"\"\"\n",
    "        return self.suit == other.suit and self.value == other.value\n",
    "    \n",
    "    def __gt__(self, other):\n",
    "        \"\"\"\n",
    "        Exhaustively search each suit in order\n",
    "        :param other: \n",
    "        :return: \n",
    "        \"\"\"\n",
    "        # first check if suits are equal\n",
    "        if self.suit == other.suit:\n",
    "            return self.value > other.value\n",
    "        return self.suit > other.suit"
   ]
  },
  {
   "cell_type": "code",
   "execution_count": null,
   "metadata": {
    "collapsed": true
   },
   "outputs": [],
   "source": [
    "# build a deck\n",
    "deck = []\n",
    "for suit in Card.SUITS:\n",
    "    for value in range(2, 15):  # 2 is min, ace is 14 (remember that the top number is not included)\n",
    "        card = Card(value=value, suit=suit)\n",
    "        deck.append(card)\n",
    "print(len(deck))  # this should be 52"
   ]
  },
  {
   "cell_type": "code",
   "execution_count": null,
   "metadata": {
    "collapsed": true
   },
   "outputs": [],
   "source": [
    "random.shuffle(deck)  # shuffle the deck!"
   ]
  },
  {
   "cell_type": "code",
   "execution_count": null,
   "metadata": {},
   "outputs": [],
   "source": [
    "# or we can sort it\n",
    "deck.sort()\n",
    "deck[:5], deck[-5:]"
   ]
  },
  {
   "cell_type": "code",
   "execution_count": null,
   "metadata": {
    "collapsed": true
   },
   "outputs": [],
   "source": [
    "# now we need a hand to hold the cards\n",
    "@total_ordering\n",
    "class Hand(object):\n",
    "    def __init__(self, card=None):\n",
    "        self.card = card\n",
    "        \n",
    "    def __eq__(self, other):\n",
    "        return self.card == other.card\n",
    "    \n",
    "    def __gt__(self, other):\n",
    "        return self.card > other.card\n",
    "    \n",
    "    def put_card(self, card):\n",
    "        self.card = card\n",
    "        \n",
    "    def __repr__(self):\n",
    "        return repr(self.card)  # ask for repr(esentation) of card, not the card itself"
   ]
  },
  {
   "cell_type": "code",
   "execution_count": null,
   "metadata": {
    "collapsed": true
   },
   "outputs": [],
   "source": [
    "h1 = Hand(deck[0])  # first card\n",
    "h2 = Hand(deck[1])  # second card\n",
    "h1 > h2  # does h1 win?"
   ]
  },
  {
   "cell_type": "code",
   "execution_count": null,
   "metadata": {
    "collapsed": true
   },
   "outputs": [],
   "source": [
    "# let's create people and see how many times they win\n",
    "@total_ordering\n",
    "class Player(object):\n",
    "    def __init__(self, name):\n",
    "        self.name = name\n",
    "        self.wins = 0\n",
    "        self.losses = 0\n",
    "        self.hand = Hand()\n",
    "        \n",
    "    def get_card(self, card):\n",
    "        self.hand.put_card(card)\n",
    "        \n",
    "    def add_win(self):\n",
    "        self.wins += 1\n",
    "        \n",
    "    def add_loss(self):\n",
    "        self.losses += 1\n",
    "        \n",
    "    def __eq__(self, other):\n",
    "        return self.hand == other.hand\n",
    "        \n",
    "    def __gt__(self, other):\n",
    "        return self.hand > other.hand\n",
    "        \n",
    "    def __repr__(self):\n",
    "        return self.name + \"'s Hand:\" + repr(self.hand) "
   ]
  },
  {
   "cell_type": "code",
   "execution_count": null,
   "metadata": {
    "collapsed": true
   },
   "outputs": [],
   "source": [
    "players = [\n",
    "    Player(your_name),\n",
    "    Player('David'),  # me\n",
    "    # you can add more players\n",
    "]\n",
    "number_of_rounds = 5\n",
    "for i in range(number_of_rounds):\n",
    "    print('* ' * 10)  # separator\n",
    "    print('Round', i)\n",
    "    random.shuffle(deck)  # shuffle deck\n",
    "    # enumerate returns an auto-incrementing number (0, then 1, then 2) along\n",
    "    #   with the list\n",
    "    # so this will return:\n",
    "    for num, player in enumerate(players):\n",
    "        card = deck[num]  # get the nth card in the deck\n",
    "        player.get_card(card)  # give card to player\n",
    "        print('#', num, '=', player)\n",
    "    players.sort()  # sort using the `__eq__` and `__gt__`\n",
    "    players[0].add_win()  # the first person in the list is the winner\n",
    "    print('Winner: ' + players[0].name)\n",
    "    for player in players[1:]:\n",
    "        player.add_loss()  # the others lost\n",
    "\n",
    "# when rounds are done, print the results\n",
    "# did I beat you?\n",
    "print('- ' * 10)\n",
    "print('Player, # Wins, # Losses')\n",
    "for player in players:\n",
    "    print(player.name, player.wins, player.losses)"
   ]
  },
  {
   "cell_type": "markdown",
   "metadata": {},
   "source": [
    "If you're interested, try making the game into two-card stud.\n",
    "\n",
    "Steps:\n",
    "* The hand must consist of multiple cards\n",
    "* Sorting the hand has to be on all cards (you'll need to account for PAIRS > SINGLE CARD)\n",
    "* Each player now needs two cards\n"
   ]
  },
  {
   "cell_type": "code",
   "execution_count": null,
   "metadata": {
    "collapsed": true
   },
   "outputs": [],
   "source": []
  }
 ],
 "metadata": {
  "kernelspec": {
   "display_name": "Python 3",
   "language": "python",
   "name": "python3"
  },
  "language_info": {
   "codemirror_mode": {
    "name": "ipython",
    "version": 3
   },
   "file_extension": ".py",
   "mimetype": "text/x-python",
   "name": "python",
   "nbconvert_exporter": "python",
   "pygments_lexer": "ipython3",
   "version": "3.6.1"
  }
 },
 "nbformat": 4,
 "nbformat_minor": 1
}
