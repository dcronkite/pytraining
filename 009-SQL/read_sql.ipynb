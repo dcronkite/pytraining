{
 "cells": [
  {
   "cell_type": "markdown",
   "metadata": {
    "collapsed": true
   },
   "source": [
    "# SQL: Connecting to Data\n",
    "\n",
    "Agenda:\n",
    "1. Introduction to Python sql: `sqlite3` module\n",
    "2. Connecting to SQL Server or other with ODBC, such as (see https://github.com/mkleehammer/pyodbc/wiki):\n",
    "\t* Access\n",
    "\t* Excel\n",
    "\t* MySQL\n",
    "\t* Netezza\n",
    "\t* Oracle\n",
    "\t* Postgres\n",
    "\t* Teradata\n",
    "\t* Vertica\n",
    "3. Using an ORM (object relational mapping)"
   ]
  },
  {
   "cell_type": "markdown",
   "metadata": {},
   "source": [
    "## sqlite3\n",
    "\n",
    "Sqlite is a 'cheap', mostly compliant SQL server which is useful in embedded applications since it doesn't require a server. If you wanted to ship your Project1 and wanted to use a database, you would include sqlite built-in.\n",
    "\n",
    "The Python standard library comes with the `sqlite3` module. We are using this simplified library because:\n",
    "1. It provides a simple introduction, without external modules\n",
    "2. It, along with most Python database libraries, uses the same API (i.e., the same function calls).\n",
    "\t* https://www.python.org/dev/peps/pep-0249/\n",
    "\n",
    "The basic API pattern is:\n",
    "1. Make a connection using a connection string\n",
    "2. Get a cursor to interact with the connection\n",
    "3. Use the cursor to execute SQL statements\n",
    "4. Commit all in that connection\n",
    "5. Close the connection"
   ]
  },
  {
   "cell_type": "code",
   "execution_count": 2,
   "metadata": {},
   "outputs": [],
   "source": [
    "import sqlite3 \n",
    "conn = sqlite3.connect('example.db')  # step 1\n",
    "cur = conn.cursor()  # step 2\n",
    "cur.execute('''\n",
    "  CREATE TABLE project (\n",
    "    id integer primary key,\n",
    "    name text not null,\n",
    "    begin_date date,\n",
    "    end_date date\n",
    "  ) \n",
    "''')  # step 3\n",
    "cur.execute('''\n",
    "  INSERT INTO project (name, begin_date, end_date)\n",
    "  VALUES ('taper', '2018-03-01', '2019-01-01')\n",
    "''')  # step 3b\n",
    "conn.commit()  # step 4\n",
    "conn.close()  # step 5"
   ]
  },
  {
   "cell_type": "markdown",
   "metadata": {},
   "source": [
    "I'm using PyCharm, which allows viewing the database we've just created. If you don't have a tool, try something like \"DB Browser for Sqlite\": \n",
    "* https://github.com/sqlitebrowser/sqlitebrowser/releases"
   ]
  },
  {
   "cell_type": "code",
   "execution_count": 3,
   "metadata": {},
   "outputs": [],
   "source": [
    "# we would like to parametrize these values (not hard-code them), especially \n",
    "#   if we're building this into an application\n",
    "conn = sqlite3.connect('example.db')\n",
    "cur = conn.cursor()\n",
    "project = 'cannabis'\n",
    "begin_date = '2018-02-02'\n",
    "end_date = '2018-12-31'\n",
    "cur.execute('''\n",
    "  INSERT INTO project (name, begin_date, end_date)\n",
    "  VALUES ('{}', '{}', '{}')\n",
    "'''.format(project, begin_date, end_date))\n",
    "conn.commit()"
   ]
  },
  {
   "cell_type": "code",
   "execution_count": 4,
   "metadata": {},
   "outputs": [],
   "source": [
    "# let's make this into a function\n",
    "def insert(conn, project, begin_date, end_date):\n",
    "    cur = conn.cursor()\n",
    "    cur.execute('''\n",
    "      INSERT INTO project (name, begin_date, end_date)\n",
    "      VALUES ('{}', '{}', '{}')\n",
    "    '''.format(project, begin_date, end_date))"
   ]
  },
  {
   "cell_type": "markdown",
   "metadata": {},
   "source": [
    "What's wrong with this? It makes the database open to a SQL injection attack. https://xkcd.com/327/\n",
    "\n",
    "Instead, we need to 'sanitize' our input by making sure that nothing bad is included. All SQL engines give us the opportunity to have this done automatically using a `?`."
   ]
  },
  {
   "cell_type": "code",
   "execution_count": 8,
   "metadata": {},
   "outputs": [],
   "source": [
    "# let's make this into a function\n",
    "def insert(conn, project, begin_date, end_date):\n",
    "    cur = conn.cursor()\n",
    "    cur.execute('''\n",
    "      INSERT INTO project (name, begin_date, end_date)\n",
    "      VALUES (?, ?, ?)\n",
    "    ''', (project, begin_date, end_date))\n",
    "    return cur.lastrowid  # return project id"
   ]
  },
  {
   "cell_type": "code",
   "execution_count": 9,
   "metadata": {},
   "outputs": [],
   "source": [
    "insert(conn, '1b', '2018-01-20', '2019-01-01')\n",
    "conn.commit()"
   ]
  },
  {
   "cell_type": "code",
   "execution_count": 10,
   "metadata": {},
   "outputs": [
    {
     "data": {
      "text/plain": [
       "<sqlite3.Cursor at 0x188f1addd50>"
      ]
     },
     "execution_count": 10,
     "metadata": {},
     "output_type": "execute_result"
    }
   ],
   "source": [
    "# querying data\n",
    "cur = conn.cursor()\n",
    "cur.execute('select * from project where name = \"1b\"')"
   ]
  },
  {
   "cell_type": "code",
   "execution_count": 11,
   "metadata": {},
   "outputs": [
    {
     "name": "stdout",
     "output_type": "stream",
     "text": [
      "(3, '1b', '2018-01-20', '2019-01-01')\n(4, '1b', '2018-01-20', '2019-01-01')\n"
     ]
    }
   ],
   "source": [
    "# get the rows by using a for-loop on a cursor\n",
    "for row in cur:\n",
    "    print(row)"
   ]
  },
  {
   "cell_type": "code",
   "execution_count": 12,
   "metadata": {},
   "outputs": [],
   "source": [
    "def get_name(conn, project_name):\n",
    "    cur = conn.cursor()\n",
    "    cur.execute('select * from project where name = ?', (project_name, ))\n",
    "    return [row for row in cur]"
   ]
  },
  {
   "cell_type": "code",
   "execution_count": 13,
   "metadata": {},
   "outputs": [
    {
     "data": {
      "text/plain": [
       "[(3, '1b', '2018-01-20', '2019-01-01'), (4, '1b', '2018-01-20', '2019-01-01')]"
      ]
     },
     "execution_count": 13,
     "metadata": {},
     "output_type": "execute_result"
    }
   ],
   "source": [
    "get_name(conn, '1b')"
   ]
  },
  {
   "cell_type": "code",
   "execution_count": 49,
   "metadata": {},
   "outputs": [
    {
     "name": "stderr",
     "output_type": "stream",
     "text": [
      "ERROR:root:An unexpected error occurred while tokenizing input\nThe following traceback may be corrupted or invalid\nThe error message is: ('EOF in multi-line string', (1, 0))\n\n"
     ]
    },
    {
     "ename": "ProgrammingError",
     "evalue": "The cursor's connection has been closed.",
     "traceback": [
      "\u001b[1;31m---------------------------------------------------------------------------\u001b[0m",
      "\u001b[1;31mProgrammingError\u001b[0m                          Traceback (most recent call last)",
      "\u001b[1;32m<ipython-input-49-1a6f43acee6f>\u001b[0m in \u001b[0;36m<module>\u001b[1;34m()\u001b[0m\n\u001b[0;32m      8\u001b[0m     \u001b[0mdue_date\u001b[0m \u001b[0mdate\u001b[0m\u001b[1;33m\u001b[0m\u001b[0m\n\u001b[0;32m      9\u001b[0m   ) \n\u001b[1;32m---> 10\u001b[1;33m ''')\n\u001b[0m\u001b[0;32m     11\u001b[0m \u001b[0mconn\u001b[0m\u001b[1;33m.\u001b[0m\u001b[0mcursor\u001b[0m\u001b[1;33m(\u001b[0m\u001b[1;33m)\u001b[0m\u001b[1;33m\u001b[0m\u001b[0m\n",
      "\u001b[1;31mProgrammingError\u001b[0m: The cursor's connection has been closed."
     ],
     "output_type": "error"
    }
   ],
   "source": [
    "cur.execute('''\n",
    "  CREATE TABLE task (\n",
    "    id integer primary key,\n",
    "    name text not null,\n",
    "    priority integer,\n",
    "    status_id integer,\n",
    "    project_id integer,\n",
    "    due_date date\n",
    "  ) \n",
    "''')\n",
    "conn.cursor()"
   ]
  },
  {
   "cell_type": "markdown",
   "metadata": {},
   "source": [
    "## pyodbc\n",
    "\n",
    "Pyodbc is included in the Anaconda distribution (but is not a default library).\n",
    "\n",
    "The tricky bit is figuring out the connection string. You can get some help searching on Stackoverflow or in the documentation here: https://github.com/mkleehammer/pyodbc/wiki."
   ]
  },
  {
   "cell_type": "code",
   "execution_count": 14,
   "metadata": {},
   "outputs": [],
   "source": [
    "import pyodbc"
   ]
  },
  {
   "cell_type": "code",
   "execution_count": 16,
   "metadata": {},
   "outputs": [],
   "source": [
    "# for sql server (you will need a sql server installation)\n",
    "conn = pyodbc.connect(driver='SQL Server', server='test', database='test')\n",
    "conn = pyodbc.connect(\n",
    "    'DRIVER={SQL Server};SERVER=test;DATABASE=test;Trusted_Connection=yes;'\n",
    ")"
   ]
  },
  {
   "cell_type": "code",
   "execution_count": 17,
   "metadata": {},
   "outputs": [],
   "source": [
    "cur = conn.cursor()\n",
    "cur.execute('''\n",
    "  CREATE TABLE project (\n",
    "    id integer primary key identity(1, 1),\n",
    "    name varchar(50) not null,\n",
    "    begin_date datetime,\n",
    "    end_date datetime\n",
    "  ) \n",
    "''')\n",
    "cur.execute('''\n",
    "  INSERT INTO project (name, begin_date, end_date)\n",
    "  VALUES ('taper', '2018-03-01', '2019-01-01')\n",
    "''')  # step 3b\n",
    "conn.commit()  # step 4\n",
    "conn.close()  # step 5"
   ]
  },
  {
   "cell_type": "markdown",
   "metadata": {},
   "source": [
    "## ORM with SQL Alchemy\n",
    "\n",
    "ORM: Object-relational mapper. \n",
    "\n",
    "Again, the most difficult part is figuring out the connection string. You can get some help from here: \n",
    "\t* http://docs.sqlalchemy.org/en/latest/core/engines.html\n",
    "\t* For sql server: `r'mssql+pyodbc://SERVER/DATABASE?driver=SQL Server'`\n",
    "\t* Troubleshooting: https://stackoverflow.com/questions/17787042/sqlalchemy-connection-string\n"
   ]
  },
  {
   "cell_type": "code",
   "execution_count": 21,
   "metadata": {},
   "outputs": [],
   "source": [
    "import sqlalchemy"
   ]
  },
  {
   "cell_type": "code",
   "execution_count": 42,
   "metadata": {},
   "outputs": [],
   "source": [
    "from sqlalchemy import create_engine\n",
    "from sqlalchemy.orm import relationship, sessionmaker\n",
    "from sqlalchemy.ext.declarative import declarative_base\n",
    "from sqlalchemy import Column, Integer, String, DateTime, ForeignKey\n",
    "\n",
    "Base = declarative_base()"
   ]
  },
  {
   "cell_type": "code",
   "execution_count": 43,
   "metadata": {},
   "outputs": [],
   "source": [
    "class Project(Base):\n",
    "    __tablename__ = 'projects'\n",
    "    \n",
    "    id = Column(Integer, primary_key=True)\n",
    "    name = Column(String)\n",
    "    begin_date = Column(DateTime)\n",
    "    end_date = Column(DateTime)\n",
    "    tasks = relationship('Task')\n",
    "    \n",
    "    def __repr__(self):\n",
    "        return f'<Project \"{self.name}\": {self.begin_date}-{self.end_date}>'\n",
    "    \n",
    "    def __str__(self):\n",
    "        return f'<Project \"{self.name}\": {self.begin_date}-{self.end_date}>'"
   ]
  },
  {
   "cell_type": "code",
   "execution_count": 44,
   "metadata": {},
   "outputs": [],
   "source": [
    "class Task(Base):\n",
    "    __tablename__ = 'tasks'  # optional, if you want a different name\n",
    "    \n",
    "    id = Column(Integer, primary_key=True)\n",
    "    name = Column(String(20))\n",
    "    priority = Column(Integer)  # 1=most important\n",
    "    status_id = Column(Integer, default=0)  # 0=Not started, 1=in progress, 2=done\n",
    "    project_id = Column(Integer, ForeignKey('projects.id'))\n",
    "    due_date = Column(DateTime)\n",
    "    \n",
    "    def __repr__(self):\n",
    "        return f'<Task \"{self.name}\", Due:{self.due_date}, Priority:{self.priority}>'\n",
    "    \n",
    "    def __str__(self):\n",
    "        return f'<Task \"{self.name}\", Due:{self.due_date}, Priority:{self.priority}>'"
   ]
  },
  {
   "cell_type": "code",
   "execution_count": 45,
   "metadata": {},
   "outputs": [],
   "source": [
    "connection_str = r'sqlite:///:memory:'  # this for an in-memory only version\n",
    "eng = create_engine(connection_str)\n",
    "Base.metadata.create_all(eng)"
   ]
  },
  {
   "cell_type": "code",
   "execution_count": 46,
   "metadata": {},
   "outputs": [],
   "source": [
    "session = sessionmaker(bind=eng)()"
   ]
  },
  {
   "cell_type": "code",
   "execution_count": 47,
   "metadata": {},
   "outputs": [],
   "source": [
    "import datetime\n",
    "p = Project(name='cannabis', \n",
    "            begin_date=datetime.datetime(2018, 1, 1), \n",
    "            end_date=datetime.datetime(2019, 1, 1))\n",
    "print(p.id)\n",
    "session.add(p)\n",
    "session.commit()\n",
    "print(p.id)"
   ]
  },
  {
   "cell_type": "code",
   "execution_count": 48,
   "metadata": {},
   "outputs": [
    {
     "name": "stdout",
     "output_type": "stream",
     "text": [
      "None\n1\n"
     ]
    }
   ],
   "source": [
    "t1 = Task(name='review timeline',\n",
    "          priority=2,\n",
    "          project_id=p.id,\n",
    "          due_date=datetime.datetime(2018, 5, 1)\n",
    "          )\n",
    "print(t1.id)\n",
    "session.add(t1)\n",
    "session.commit()\n",
    "print(t1.id)"
   ]
  },
  {
   "cell_type": "code",
   "execution_count": 50,
   "metadata": {},
   "outputs": [
    {
     "data": {
      "text/plain": [
       "<Task \"review timeline\", Due:2018-05-01 00:00:00, Priority:2>"
      ]
     },
     "execution_count": 50,
     "metadata": {},
     "output_type": "execute_result"
    }
   ],
   "source": [
    "session.query(Task).filter_by(name='review timeline').first()"
   ]
  },
  {
   "cell_type": "code",
   "execution_count": 51,
   "metadata": {},
   "outputs": [
    {
     "data": {
      "text/plain": [
       "[<Task \"review timeline\", Due:2018-05-01 00:00:00, Priority:2>]"
      ]
     },
     "execution_count": 51,
     "metadata": {},
     "output_type": "execute_result"
    }
   ],
   "source": [
    "session.query(Task).filter_by(name='review timeline').all()"
   ]
  },
  {
   "cell_type": "code",
   "execution_count": 56,
   "metadata": {},
   "outputs": [
    {
     "data": {
      "text/plain": [
       "[<Task \"review timeline\", Due:2018-05-01 00:00:00, Priority:2>]"
      ]
     },
     "execution_count": 56,
     "metadata": {},
     "output_type": "execute_result"
    }
   ],
   "source": [
    "# more complex queries\n",
    "# ilike = case insensitive\n",
    "session.query(Task).filter(Task.name.like('review%')).order_by(Task.id).all()"
   ]
  },
  {
   "cell_type": "markdown",
   "metadata": {},
   "source": [
    "Other options, see http://docs.sqlalchemy.org/en/latest/orm/tutorial.html#common-filter-operators:\n",
    "* EQUALS: `Task.name == x`\n",
    "* NOT EQUALS: `Task.name != x`\n",
    "* IN: `Task.name.in_(x)`\n",
    "* NOT IN: `~Task.name.in_(x)`\n",
    "* IS NULL: `Task.name == None`\n",
    "\n",
    "For `AND`/`OR`:\n",
    "* `from sqlalchemy import and_, or_`\n",
    "* `(or_(Task.name == 'x', Task.id != 1))`"
   ]
  },
  {
   "cell_type": "code",
   "execution_count": null,
   "metadata": {},
   "outputs": [],
   "source": []
  }
 ],
 "metadata": {
  "kernelspec": {
   "display_name": "Python 2",
   "language": "python",
   "name": "python2"
  },
  "language_info": {
   "codemirror_mode": {
    "name": "ipython",
    "version": 2
   },
   "file_extension": ".py",
   "mimetype": "text/x-python",
   "name": "python",
   "nbconvert_exporter": "python",
   "pygments_lexer": "ipython2",
   "version": "2.7.6"
  }
 },
 "nbformat": 4,
 "nbformat_minor": 0
}
