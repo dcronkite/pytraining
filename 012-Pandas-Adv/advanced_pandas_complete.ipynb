{
 "cells": [
  {
   "cell_type": "markdown",
   "metadata": {},
   "source": [
    "# Advanced Pandas\n",
    "\n",
    "Pandas: \"Python Data Analysis Library\"\n",
    "\n",
    "Pandas is _THE_ data science library for Python. It's built on top of a variety of very good and very fast numerical computing Python libraries. If you're familiar with R, Pandas was essentially an R clone, although it has developed and grown over the past decade...not to mention that it also bears the power of Python behind it. It's integration with jupyter notebooks makes Pandas excel, and allows for the use of documented, repeatable data analysis.\n",
    "\n",
    "Pandas is entirely Python code, but the syntax doesn't feel quite python-y.\n",
    "\n",
    "The data from this work can be downloaded from: https://www.kaggle.com/donorschoose/io/data\n",
    "\n",
    "\n",
    "## Agenda\n",
    "\n",
    "* SQLAlchemy to read SQL Server\n",
    "* \"SQL Queries\" in Pandas\n",
    "    * select\n",
    "    * filtering\n",
    "    * grouping\n",
    "    * ordering\n",
    "    * merging\n",
    "* Cleaning Data\n",
    "* Intro to building graphs\n",
    "* Extras:\n",
    "    * Additional graphs\n"
   ]
  },
  {
   "cell_type": "code",
   "execution_count": 1,
   "metadata": {
    "collapsed": true
   },
   "outputs": [],
   "source": [
    "import pandas as pd\n",
    "import numpy as np"
   ]
  },
  {
   "cell_type": "markdown",
   "metadata": {},
   "source": [
    "# Read SQL Server Table with SQLAlchemy"
   ]
  },
  {
   "cell_type": "code",
   "execution_count": 2,
   "metadata": {},
   "outputs": [],
   "source": [
    "from sqlalchemy import create_engine\n",
    "dbapi = 'mssql+pyodbc'\n",
    "server = ''  # name of server\n",
    "database = ''  # name of database to connect to\n",
    "driver = 'SQL Server'\n",
    "eng = create_engine(\n",
    "    '{dbapi}://@{server}/{database}?driver={driver}'.format(\n",
    "        dbapi=dbapi, server=server, database=database, driver=driver\n",
    "    ))\n",
    "pd.read_sql('select x, y from table where', eng)  # sql query you want to execute"
   ]
  },
  {
   "cell_type": "markdown",
   "metadata": {},
   "source": [
    "# SQL Queries in Pandas"
   ]
  },
  {
   "cell_type": "code",
   "execution_count": 3,
   "metadata": {},
   "outputs": [],
   "source": [
    "proj_df = pd.read_excel('io/Projects.xlsx')  # main data file"
   ]
  },
  {
   "cell_type": "code",
   "execution_count": 4,
   "metadata": {},
   "outputs": [],
   "source": [
    "school_df = pd.read_csv('io/Schools.csv')  # secondary, to demonstrate merging\n",
    "teach_df = pd.read_csv('io/Teachers.csv')  # secondary, to demonstrate merging"
   ]
  },
  {
   "cell_type": "code",
   "execution_count": 5,
   "metadata": {},
   "outputs": [
    {
     "data": {
      "text/html": [
       "<div>\n",
       "<style>\n",
       "    .dataframe thead tr:only-child th {\n",
       "        text-align: right;\n",
       "    }\n",
       "\n",
       "    .dataframe thead th {\n",
       "        text-align: left;\n",
       "    }\n",
       "\n",
       "    .dataframe tbody tr th {\n",
       "        vertical-align: top;\n",
       "    }\n",
       "</style>\n",
       "<table border=\"1\" class=\"dataframe\">\n",
       "  <thead>\n",
       "    <tr style=\"text-align: right;\">\n",
       "      <th></th>\n",
       "      <th>Unnamed: 0</th>\n",
       "      <th>Project ID</th>\n",
       "      <th>School ID</th>\n",
       "      <th>Teacher ID</th>\n",
       "      <th>Teacher Project Posted Sequence</th>\n",
       "      <th>Project Type</th>\n",
       "      <th>Project Title</th>\n",
       "      <th>Project Essay</th>\n",
       "      <th>Project Short Description</th>\n",
       "      <th>Project Need Statement</th>\n",
       "      <th>Project Subject Category Tree</th>\n",
       "      <th>Project Subject Subcategory Tree</th>\n",
       "      <th>Project Grade Level Category</th>\n",
       "      <th>Project Resource Category</th>\n",
       "      <th>Project Cost</th>\n",
       "      <th>Project Posted Date</th>\n",
       "      <th>Project Expiration Date</th>\n",
       "      <th>Project Current Status</th>\n",
       "      <th>Project Fully Funded Date</th>\n",
       "    </tr>\n",
       "  </thead>\n",
       "  <tbody>\n",
       "    <tr>\n",
       "      <th>0</th>\n",
       "      <td>0</td>\n",
       "      <td>7685f0265a19d7b52a470ee4bac883ba</td>\n",
       "      <td>e180c7424cb9c68cb49f141b092a988f</td>\n",
       "      <td>4ee5200e89d9e2998ec8baad8a3c5968</td>\n",
       "      <td>25</td>\n",
       "      <td>Teacher-Led</td>\n",
       "      <td>Stand Up to Bullying: Together We Can!</td>\n",
       "      <td>Did you know that 1-7 students in grades K-12 ...</td>\n",
       "      <td>Did you know that 1-7 students in grades K-12 ...</td>\n",
       "      <td>My students need 25 copies of \"Bullying in Sch...</td>\n",
       "      <td>Applied Learning</td>\n",
       "      <td>Character Education, Early Development</td>\n",
       "      <td>Grades PreK-2</td>\n",
       "      <td>Technology</td>\n",
       "      <td>361.80</td>\n",
       "      <td>2013-01-01</td>\n",
       "      <td>2013-05-30</td>\n",
       "      <td>Fully Funded</td>\n",
       "      <td>2013-01-11</td>\n",
       "    </tr>\n",
       "    <tr>\n",
       "      <th>1</th>\n",
       "      <td>1</td>\n",
       "      <td>f9f4af7099061fb4bf44642a03e5c331</td>\n",
       "      <td>08b20f1e2125103ed7aa17e8d76c71d4</td>\n",
       "      <td>cca2d1d277fb4adb50147b49cdc3b156</td>\n",
       "      <td>3</td>\n",
       "      <td>Teacher-Led</td>\n",
       "      <td>Learning in Color!</td>\n",
       "      <td>Help us have a fun, interactive listening cent...</td>\n",
       "      <td>Help us have a fun, interactive listening cent...</td>\n",
       "      <td>My students need a listening center, read alon...</td>\n",
       "      <td>Applied Learning, Literacy &amp; Language</td>\n",
       "      <td>Early Development, Literacy</td>\n",
       "      <td>Grades PreK-2</td>\n",
       "      <td>Technology</td>\n",
       "      <td>512.85</td>\n",
       "      <td>2013-01-01</td>\n",
       "      <td>2013-05-31</td>\n",
       "      <td>Expired</td>\n",
       "      <td>NaN</td>\n",
       "    </tr>\n",
       "    <tr>\n",
       "      <th>2</th>\n",
       "      <td>2</td>\n",
       "      <td>afd99a01739ad5557b51b1ba0174e832</td>\n",
       "      <td>1287f5128b1f36bf8434e5705a7cc04d</td>\n",
       "      <td>6c5bd0d4f20547a001628aefd71de89e</td>\n",
       "      <td>1</td>\n",
       "      <td>Teacher-Led</td>\n",
       "      <td>Help Second Grade ESL Students Develop Languag...</td>\n",
       "      <td>Visiting or moving to a new place can be very ...</td>\n",
       "      <td>Visiting or moving to a new place can be very ...</td>\n",
       "      <td>My students need beginning vocabulary audio ca...</td>\n",
       "      <td>Literacy &amp; Language</td>\n",
       "      <td>ESL</td>\n",
       "      <td>Grades PreK-2</td>\n",
       "      <td>Supplies</td>\n",
       "      <td>435.92</td>\n",
       "      <td>2013-01-01</td>\n",
       "      <td>2013-05-30</td>\n",
       "      <td>Fully Funded</td>\n",
       "      <td>2013-05-22</td>\n",
       "    </tr>\n",
       "    <tr>\n",
       "      <th>3</th>\n",
       "      <td>3</td>\n",
       "      <td>c614a38bb1a5e68e2ae6ad9d94bb2492</td>\n",
       "      <td>900fec9cd7a3188acbc90586a09584ef</td>\n",
       "      <td>8ed6f8181d092a8f4c008b18d18e54ad</td>\n",
       "      <td>40</td>\n",
       "      <td>Teacher-Led</td>\n",
       "      <td>Help Bilingual Students Strengthen Reading Com...</td>\n",
       "      <td>Students at our school are still working hard ...</td>\n",
       "      <td>Students at our school are still working hard ...</td>\n",
       "      <td>My students need one copy of each book in The ...</td>\n",
       "      <td>Literacy &amp; Language</td>\n",
       "      <td>ESL, Literacy</td>\n",
       "      <td>Grades 3-5</td>\n",
       "      <td>Books</td>\n",
       "      <td>161.26</td>\n",
       "      <td>2013-01-01</td>\n",
       "      <td>2013-05-31</td>\n",
       "      <td>Fully Funded</td>\n",
       "      <td>2013-02-06</td>\n",
       "    </tr>\n",
       "    <tr>\n",
       "      <th>4</th>\n",
       "      <td>4</td>\n",
       "      <td>ec82a697fab916c0db0cdad746338df9</td>\n",
       "      <td>3b200e7fe3e6dde3c169c02e5fb5ae86</td>\n",
       "      <td>893173d62775f8be7c30bf4220ad0c33</td>\n",
       "      <td>2</td>\n",
       "      <td>Teacher-Led</td>\n",
       "      <td>Help Us Make Each Minute Count!</td>\n",
       "      <td>\"Idle hands\" were something that Issac Watts s...</td>\n",
       "      <td>\"Idle hands\" were something that Issac Watts s...</td>\n",
       "      <td>My students need items such as Velcro, two pou...</td>\n",
       "      <td>Special Needs</td>\n",
       "      <td>Special Needs</td>\n",
       "      <td>Grades 3-5</td>\n",
       "      <td>Supplies</td>\n",
       "      <td>264.19</td>\n",
       "      <td>2013-01-01</td>\n",
       "      <td>2013-05-30</td>\n",
       "      <td>Fully Funded</td>\n",
       "      <td>2013-01-01</td>\n",
       "    </tr>\n",
       "  </tbody>\n",
       "</table>\n",
       "</div>"
      ],
      "text/plain": [
       "   Unnamed: 0                        Project ID  \\\n",
       "0           0  7685f0265a19d7b52a470ee4bac883ba   \n",
       "1           1  f9f4af7099061fb4bf44642a03e5c331   \n",
       "2           2  afd99a01739ad5557b51b1ba0174e832   \n",
       "3           3  c614a38bb1a5e68e2ae6ad9d94bb2492   \n",
       "4           4  ec82a697fab916c0db0cdad746338df9   \n",
       "\n",
       "                          School ID                        Teacher ID  \\\n",
       "0  e180c7424cb9c68cb49f141b092a988f  4ee5200e89d9e2998ec8baad8a3c5968   \n",
       "1  08b20f1e2125103ed7aa17e8d76c71d4  cca2d1d277fb4adb50147b49cdc3b156   \n",
       "2  1287f5128b1f36bf8434e5705a7cc04d  6c5bd0d4f20547a001628aefd71de89e   \n",
       "3  900fec9cd7a3188acbc90586a09584ef  8ed6f8181d092a8f4c008b18d18e54ad   \n",
       "4  3b200e7fe3e6dde3c169c02e5fb5ae86  893173d62775f8be7c30bf4220ad0c33   \n",
       "\n",
       "   Teacher Project Posted Sequence Project Type  \\\n",
       "0                               25  Teacher-Led   \n",
       "1                                3  Teacher-Led   \n",
       "2                                1  Teacher-Led   \n",
       "3                               40  Teacher-Led   \n",
       "4                                2  Teacher-Led   \n",
       "\n",
       "                                       Project Title  \\\n",
       "0             Stand Up to Bullying: Together We Can!   \n",
       "1                                 Learning in Color!   \n",
       "2  Help Second Grade ESL Students Develop Languag...   \n",
       "3  Help Bilingual Students Strengthen Reading Com...   \n",
       "4                   Help Us Make Each Minute Count!    \n",
       "\n",
       "                                       Project Essay  \\\n",
       "0  Did you know that 1-7 students in grades K-12 ...   \n",
       "1  Help us have a fun, interactive listening cent...   \n",
       "2  Visiting or moving to a new place can be very ...   \n",
       "3  Students at our school are still working hard ...   \n",
       "4  \"Idle hands\" were something that Issac Watts s...   \n",
       "\n",
       "                           Project Short Description  \\\n",
       "0  Did you know that 1-7 students in grades K-12 ...   \n",
       "1  Help us have a fun, interactive listening cent...   \n",
       "2  Visiting or moving to a new place can be very ...   \n",
       "3  Students at our school are still working hard ...   \n",
       "4  \"Idle hands\" were something that Issac Watts s...   \n",
       "\n",
       "                              Project Need Statement  \\\n",
       "0  My students need 25 copies of \"Bullying in Sch...   \n",
       "1  My students need a listening center, read alon...   \n",
       "2  My students need beginning vocabulary audio ca...   \n",
       "3  My students need one copy of each book in The ...   \n",
       "4  My students need items such as Velcro, two pou...   \n",
       "\n",
       "           Project Subject Category Tree  \\\n",
       "0                       Applied Learning   \n",
       "1  Applied Learning, Literacy & Language   \n",
       "2                    Literacy & Language   \n",
       "3                    Literacy & Language   \n",
       "4                          Special Needs   \n",
       "\n",
       "         Project Subject Subcategory Tree Project Grade Level Category  \\\n",
       "0  Character Education, Early Development                Grades PreK-2   \n",
       "1             Early Development, Literacy                Grades PreK-2   \n",
       "2                                     ESL                Grades PreK-2   \n",
       "3                           ESL, Literacy                   Grades 3-5   \n",
       "4                           Special Needs                   Grades 3-5   \n",
       "\n",
       "  Project Resource Category  Project Cost Project Posted Date  \\\n",
       "0                Technology        361.80          2013-01-01   \n",
       "1                Technology        512.85          2013-01-01   \n",
       "2                  Supplies        435.92          2013-01-01   \n",
       "3                     Books        161.26          2013-01-01   \n",
       "4                  Supplies        264.19          2013-01-01   \n",
       "\n",
       "  Project Expiration Date Project Current Status Project Fully Funded Date  \n",
       "0              2013-05-30           Fully Funded                2013-01-11  \n",
       "1              2013-05-31                Expired                       NaN  \n",
       "2              2013-05-30           Fully Funded                2013-05-22  \n",
       "3              2013-05-31           Fully Funded                2013-02-06  \n",
       "4              2013-05-30           Fully Funded                2013-01-01  "
      ]
     },
     "execution_count": 5,
     "metadata": {},
     "output_type": "execute_result"
    }
   ],
   "source": [
    "proj_df.head()"
   ]
  },
  {
   "cell_type": "code",
   "execution_count": 6,
   "metadata": {},
   "outputs": [
    {
     "data": {
      "text/html": [
       "<div>\n",
       "<style>\n",
       "    .dataframe thead tr:only-child th {\n",
       "        text-align: right;\n",
       "    }\n",
       "\n",
       "    .dataframe thead th {\n",
       "        text-align: left;\n",
       "    }\n",
       "\n",
       "    .dataframe tbody tr th {\n",
       "        vertical-align: top;\n",
       "    }\n",
       "</style>\n",
       "<table border=\"1\" class=\"dataframe\">\n",
       "  <thead>\n",
       "    <tr style=\"text-align: right;\">\n",
       "      <th></th>\n",
       "      <th>Project Type</th>\n",
       "      <th>Project Title</th>\n",
       "      <th>Project Essay</th>\n",
       "    </tr>\n",
       "  </thead>\n",
       "  <tbody>\n",
       "    <tr>\n",
       "      <th>0</th>\n",
       "      <td>Teacher-Led</td>\n",
       "      <td>Stand Up to Bullying: Together We Can!</td>\n",
       "      <td>Did you know that 1-7 students in grades K-12 ...</td>\n",
       "    </tr>\n",
       "    <tr>\n",
       "      <th>1</th>\n",
       "      <td>Teacher-Led</td>\n",
       "      <td>Learning in Color!</td>\n",
       "      <td>Help us have a fun, interactive listening cent...</td>\n",
       "    </tr>\n",
       "    <tr>\n",
       "      <th>2</th>\n",
       "      <td>Teacher-Led</td>\n",
       "      <td>Help Second Grade ESL Students Develop Languag...</td>\n",
       "      <td>Visiting or moving to a new place can be very ...</td>\n",
       "    </tr>\n",
       "    <tr>\n",
       "      <th>3</th>\n",
       "      <td>Teacher-Led</td>\n",
       "      <td>Help Bilingual Students Strengthen Reading Com...</td>\n",
       "      <td>Students at our school are still working hard ...</td>\n",
       "    </tr>\n",
       "    <tr>\n",
       "      <th>4</th>\n",
       "      <td>Teacher-Led</td>\n",
       "      <td>Help Us Make Each Minute Count!</td>\n",
       "      <td>\"Idle hands\" were something that Issac Watts s...</td>\n",
       "    </tr>\n",
       "  </tbody>\n",
       "</table>\n",
       "</div>"
      ],
      "text/plain": [
       "  Project Type                                      Project Title  \\\n",
       "0  Teacher-Led             Stand Up to Bullying: Together We Can!   \n",
       "1  Teacher-Led                                 Learning in Color!   \n",
       "2  Teacher-Led  Help Second Grade ESL Students Develop Languag...   \n",
       "3  Teacher-Led  Help Bilingual Students Strengthen Reading Com...   \n",
       "4  Teacher-Led                   Help Us Make Each Minute Count!    \n",
       "\n",
       "                                       Project Essay  \n",
       "0  Did you know that 1-7 students in grades K-12 ...  \n",
       "1  Help us have a fun, interactive listening cent...  \n",
       "2  Visiting or moving to a new place can be very ...  \n",
       "3  Students at our school are still working hard ...  \n",
       "4  \"Idle hands\" were something that Issac Watts s...  "
      ]
     },
     "execution_count": 6,
     "metadata": {},
     "output_type": "execute_result"
    }
   ],
   "source": [
    "# That's a lot, let's only look at a subset\n",
    "proj_df[['Project Type', 'Project Title', 'Project Essay']].head()"
   ]
  },
  {
   "cell_type": "code",
   "execution_count": 7,
   "metadata": {},
   "outputs": [
    {
     "data": {
      "text/html": [
       "<div>\n",
       "<style>\n",
       "    .dataframe thead tr:only-child th {\n",
       "        text-align: right;\n",
       "    }\n",
       "\n",
       "    .dataframe thead th {\n",
       "        text-align: left;\n",
       "    }\n",
       "\n",
       "    .dataframe tbody tr th {\n",
       "        vertical-align: top;\n",
       "    }\n",
       "</style>\n",
       "<table border=\"1\" class=\"dataframe\">\n",
       "  <thead>\n",
       "    <tr style=\"text-align: right;\">\n",
       "      <th></th>\n",
       "      <th>Project Type</th>\n",
       "      <th>Project Title</th>\n",
       "      <th>Project Essay</th>\n",
       "    </tr>\n",
       "  </thead>\n",
       "  <tbody>\n",
       "    <tr>\n",
       "      <th>93059</th>\n",
       "      <td>Professional Development</td>\n",
       "      <td>Table for Teacher Led Centers</td>\n",
       "      <td>Teaching today is all about differentiating in...</td>\n",
       "    </tr>\n",
       "  </tbody>\n",
       "</table>\n",
       "</div>"
      ],
      "text/plain": [
       "                   Project Type                  Project Title  \\\n",
       "93059  Professional Development  Table for Teacher Led Centers   \n",
       "\n",
       "                                           Project Essay  \n",
       "93059  Teaching today is all about differentiating in...  "
      ]
     },
     "execution_count": 7,
     "metadata": {},
     "output_type": "execute_result"
    }
   ],
   "source": [
    "proj_df[proj_df['Project Type'] != 'Teacher-Led'][['Project Type', 'Project Title', 'Project Essay']].head()"
   ]
  },
  {
   "cell_type": "code",
   "execution_count": 8,
   "metadata": {},
   "outputs": [
    {
     "data": {
      "text/plain": [
       "True     99999\n",
       "False        1\n",
       "Name: Project Type, dtype: int64"
      ]
     },
     "execution_count": 8,
     "metadata": {},
     "output_type": "execute_result"
    }
   ],
   "source": [
    "teacher_led = proj_df['Project Type'] == 'Teacher-Led'\n",
    "teacher_led.value_counts()"
   ]
  },
  {
   "cell_type": "markdown",
   "metadata": {},
   "source": [
    "What is `teacher_led`? Series? DataFrame?"
   ]
  },
  {
   "cell_type": "code",
   "execution_count": 9,
   "metadata": {},
   "outputs": [
    {
     "data": {
      "text/html": [
       "<div>\n",
       "<style>\n",
       "    .dataframe thead tr:only-child th {\n",
       "        text-align: right;\n",
       "    }\n",
       "\n",
       "    .dataframe thead th {\n",
       "        text-align: left;\n",
       "    }\n",
       "\n",
       "    .dataframe tbody tr th {\n",
       "        vertical-align: top;\n",
       "    }\n",
       "</style>\n",
       "<table border=\"1\" class=\"dataframe\">\n",
       "  <thead>\n",
       "    <tr style=\"text-align: right;\">\n",
       "      <th></th>\n",
       "      <th>Unnamed: 0</th>\n",
       "      <th>Project ID</th>\n",
       "      <th>School ID</th>\n",
       "      <th>Teacher ID</th>\n",
       "      <th>Teacher Project Posted Sequence</th>\n",
       "      <th>Project Type</th>\n",
       "      <th>Project Title</th>\n",
       "      <th>Project Essay</th>\n",
       "      <th>Project Short Description</th>\n",
       "      <th>Project Need Statement</th>\n",
       "      <th>Project Subject Category Tree</th>\n",
       "      <th>Project Subject Subcategory Tree</th>\n",
       "      <th>Project Grade Level Category</th>\n",
       "      <th>Project Resource Category</th>\n",
       "      <th>Project Cost</th>\n",
       "      <th>Project Posted Date</th>\n",
       "      <th>Project Expiration Date</th>\n",
       "      <th>Project Current Status</th>\n",
       "      <th>Project Fully Funded Date</th>\n",
       "    </tr>\n",
       "  </thead>\n",
       "  <tbody>\n",
       "    <tr>\n",
       "      <th>0</th>\n",
       "      <td>0</td>\n",
       "      <td>7685f0265a19d7b52a470ee4bac883ba</td>\n",
       "      <td>e180c7424cb9c68cb49f141b092a988f</td>\n",
       "      <td>4ee5200e89d9e2998ec8baad8a3c5968</td>\n",
       "      <td>25</td>\n",
       "      <td>Teacher-Led</td>\n",
       "      <td>Stand Up to Bullying: Together We Can!</td>\n",
       "      <td>Did you know that 1-7 students in grades K-12 ...</td>\n",
       "      <td>Did you know that 1-7 students in grades K-12 ...</td>\n",
       "      <td>My students need 25 copies of \"Bullying in Sch...</td>\n",
       "      <td>Applied Learning</td>\n",
       "      <td>Character Education, Early Development</td>\n",
       "      <td>Grades PreK-2</td>\n",
       "      <td>Technology</td>\n",
       "      <td>361.80</td>\n",
       "      <td>2013-01-01</td>\n",
       "      <td>2013-05-30</td>\n",
       "      <td>Fully Funded</td>\n",
       "      <td>2013-01-11</td>\n",
       "    </tr>\n",
       "    <tr>\n",
       "      <th>1</th>\n",
       "      <td>1</td>\n",
       "      <td>f9f4af7099061fb4bf44642a03e5c331</td>\n",
       "      <td>08b20f1e2125103ed7aa17e8d76c71d4</td>\n",
       "      <td>cca2d1d277fb4adb50147b49cdc3b156</td>\n",
       "      <td>3</td>\n",
       "      <td>Teacher-Led</td>\n",
       "      <td>Learning in Color!</td>\n",
       "      <td>Help us have a fun, interactive listening cent...</td>\n",
       "      <td>Help us have a fun, interactive listening cent...</td>\n",
       "      <td>My students need a listening center, read alon...</td>\n",
       "      <td>Applied Learning, Literacy &amp; Language</td>\n",
       "      <td>Early Development, Literacy</td>\n",
       "      <td>Grades PreK-2</td>\n",
       "      <td>Technology</td>\n",
       "      <td>512.85</td>\n",
       "      <td>2013-01-01</td>\n",
       "      <td>2013-05-31</td>\n",
       "      <td>Expired</td>\n",
       "      <td>NaN</td>\n",
       "    </tr>\n",
       "    <tr>\n",
       "      <th>2</th>\n",
       "      <td>2</td>\n",
       "      <td>afd99a01739ad5557b51b1ba0174e832</td>\n",
       "      <td>1287f5128b1f36bf8434e5705a7cc04d</td>\n",
       "      <td>6c5bd0d4f20547a001628aefd71de89e</td>\n",
       "      <td>1</td>\n",
       "      <td>Teacher-Led</td>\n",
       "      <td>Help Second Grade ESL Students Develop Languag...</td>\n",
       "      <td>Visiting or moving to a new place can be very ...</td>\n",
       "      <td>Visiting or moving to a new place can be very ...</td>\n",
       "      <td>My students need beginning vocabulary audio ca...</td>\n",
       "      <td>Literacy &amp; Language</td>\n",
       "      <td>ESL</td>\n",
       "      <td>Grades PreK-2</td>\n",
       "      <td>Supplies</td>\n",
       "      <td>435.92</td>\n",
       "      <td>2013-01-01</td>\n",
       "      <td>2013-05-30</td>\n",
       "      <td>Fully Funded</td>\n",
       "      <td>2013-05-22</td>\n",
       "    </tr>\n",
       "    <tr>\n",
       "      <th>3</th>\n",
       "      <td>3</td>\n",
       "      <td>c614a38bb1a5e68e2ae6ad9d94bb2492</td>\n",
       "      <td>900fec9cd7a3188acbc90586a09584ef</td>\n",
       "      <td>8ed6f8181d092a8f4c008b18d18e54ad</td>\n",
       "      <td>40</td>\n",
       "      <td>Teacher-Led</td>\n",
       "      <td>Help Bilingual Students Strengthen Reading Com...</td>\n",
       "      <td>Students at our school are still working hard ...</td>\n",
       "      <td>Students at our school are still working hard ...</td>\n",
       "      <td>My students need one copy of each book in The ...</td>\n",
       "      <td>Literacy &amp; Language</td>\n",
       "      <td>ESL, Literacy</td>\n",
       "      <td>Grades 3-5</td>\n",
       "      <td>Books</td>\n",
       "      <td>161.26</td>\n",
       "      <td>2013-01-01</td>\n",
       "      <td>2013-05-31</td>\n",
       "      <td>Fully Funded</td>\n",
       "      <td>2013-02-06</td>\n",
       "    </tr>\n",
       "    <tr>\n",
       "      <th>4</th>\n",
       "      <td>4</td>\n",
       "      <td>ec82a697fab916c0db0cdad746338df9</td>\n",
       "      <td>3b200e7fe3e6dde3c169c02e5fb5ae86</td>\n",
       "      <td>893173d62775f8be7c30bf4220ad0c33</td>\n",
       "      <td>2</td>\n",
       "      <td>Teacher-Led</td>\n",
       "      <td>Help Us Make Each Minute Count!</td>\n",
       "      <td>\"Idle hands\" were something that Issac Watts s...</td>\n",
       "      <td>\"Idle hands\" were something that Issac Watts s...</td>\n",
       "      <td>My students need items such as Velcro, two pou...</td>\n",
       "      <td>Special Needs</td>\n",
       "      <td>Special Needs</td>\n",
       "      <td>Grades 3-5</td>\n",
       "      <td>Supplies</td>\n",
       "      <td>264.19</td>\n",
       "      <td>2013-01-01</td>\n",
       "      <td>2013-05-30</td>\n",
       "      <td>Fully Funded</td>\n",
       "      <td>2013-01-01</td>\n",
       "    </tr>\n",
       "  </tbody>\n",
       "</table>\n",
       "</div>"
      ],
      "text/plain": [
       "   Unnamed: 0                        Project ID  \\\n",
       "0           0  7685f0265a19d7b52a470ee4bac883ba   \n",
       "1           1  f9f4af7099061fb4bf44642a03e5c331   \n",
       "2           2  afd99a01739ad5557b51b1ba0174e832   \n",
       "3           3  c614a38bb1a5e68e2ae6ad9d94bb2492   \n",
       "4           4  ec82a697fab916c0db0cdad746338df9   \n",
       "\n",
       "                          School ID                        Teacher ID  \\\n",
       "0  e180c7424cb9c68cb49f141b092a988f  4ee5200e89d9e2998ec8baad8a3c5968   \n",
       "1  08b20f1e2125103ed7aa17e8d76c71d4  cca2d1d277fb4adb50147b49cdc3b156   \n",
       "2  1287f5128b1f36bf8434e5705a7cc04d  6c5bd0d4f20547a001628aefd71de89e   \n",
       "3  900fec9cd7a3188acbc90586a09584ef  8ed6f8181d092a8f4c008b18d18e54ad   \n",
       "4  3b200e7fe3e6dde3c169c02e5fb5ae86  893173d62775f8be7c30bf4220ad0c33   \n",
       "\n",
       "   Teacher Project Posted Sequence Project Type  \\\n",
       "0                               25  Teacher-Led   \n",
       "1                                3  Teacher-Led   \n",
       "2                                1  Teacher-Led   \n",
       "3                               40  Teacher-Led   \n",
       "4                                2  Teacher-Led   \n",
       "\n",
       "                                       Project Title  \\\n",
       "0             Stand Up to Bullying: Together We Can!   \n",
       "1                                 Learning in Color!   \n",
       "2  Help Second Grade ESL Students Develop Languag...   \n",
       "3  Help Bilingual Students Strengthen Reading Com...   \n",
       "4                   Help Us Make Each Minute Count!    \n",
       "\n",
       "                                       Project Essay  \\\n",
       "0  Did you know that 1-7 students in grades K-12 ...   \n",
       "1  Help us have a fun, interactive listening cent...   \n",
       "2  Visiting or moving to a new place can be very ...   \n",
       "3  Students at our school are still working hard ...   \n",
       "4  \"Idle hands\" were something that Issac Watts s...   \n",
       "\n",
       "                           Project Short Description  \\\n",
       "0  Did you know that 1-7 students in grades K-12 ...   \n",
       "1  Help us have a fun, interactive listening cent...   \n",
       "2  Visiting or moving to a new place can be very ...   \n",
       "3  Students at our school are still working hard ...   \n",
       "4  \"Idle hands\" were something that Issac Watts s...   \n",
       "\n",
       "                              Project Need Statement  \\\n",
       "0  My students need 25 copies of \"Bullying in Sch...   \n",
       "1  My students need a listening center, read alon...   \n",
       "2  My students need beginning vocabulary audio ca...   \n",
       "3  My students need one copy of each book in The ...   \n",
       "4  My students need items such as Velcro, two pou...   \n",
       "\n",
       "           Project Subject Category Tree  \\\n",
       "0                       Applied Learning   \n",
       "1  Applied Learning, Literacy & Language   \n",
       "2                    Literacy & Language   \n",
       "3                    Literacy & Language   \n",
       "4                          Special Needs   \n",
       "\n",
       "         Project Subject Subcategory Tree Project Grade Level Category  \\\n",
       "0  Character Education, Early Development                Grades PreK-2   \n",
       "1             Early Development, Literacy                Grades PreK-2   \n",
       "2                                     ESL                Grades PreK-2   \n",
       "3                           ESL, Literacy                   Grades 3-5   \n",
       "4                           Special Needs                   Grades 3-5   \n",
       "\n",
       "  Project Resource Category  Project Cost Project Posted Date  \\\n",
       "0                Technology        361.80          2013-01-01   \n",
       "1                Technology        512.85          2013-01-01   \n",
       "2                  Supplies        435.92          2013-01-01   \n",
       "3                     Books        161.26          2013-01-01   \n",
       "4                  Supplies        264.19          2013-01-01   \n",
       "\n",
       "  Project Expiration Date Project Current Status Project Fully Funded Date  \n",
       "0              2013-05-30           Fully Funded                2013-01-11  \n",
       "1              2013-05-31                Expired                       NaN  \n",
       "2              2013-05-30           Fully Funded                2013-05-22  \n",
       "3              2013-05-31           Fully Funded                2013-02-06  \n",
       "4              2013-05-30           Fully Funded                2013-01-01  "
      ]
     },
     "execution_count": 9,
     "metadata": {},
     "output_type": "execute_result"
    }
   ],
   "source": [
    "proj_df[teacher_led].head()"
   ]
  },
  {
   "cell_type": "code",
   "execution_count": 10,
   "metadata": {},
   "outputs": [
    {
     "data": {
      "text/html": [
       "<div>\n",
       "<style>\n",
       "    .dataframe thead tr:only-child th {\n",
       "        text-align: right;\n",
       "    }\n",
       "\n",
       "    .dataframe thead th {\n",
       "        text-align: left;\n",
       "    }\n",
       "\n",
       "    .dataframe tbody tr th {\n",
       "        vertical-align: top;\n",
       "    }\n",
       "</style>\n",
       "<table border=\"1\" class=\"dataframe\">\n",
       "  <thead>\n",
       "    <tr style=\"text-align: right;\">\n",
       "      <th></th>\n",
       "      <th>Unnamed: 0</th>\n",
       "      <th>Project ID</th>\n",
       "      <th>School ID</th>\n",
       "      <th>Teacher ID</th>\n",
       "      <th>Teacher Project Posted Sequence</th>\n",
       "      <th>Project Type</th>\n",
       "      <th>Project Title</th>\n",
       "      <th>Project Essay</th>\n",
       "      <th>Project Short Description</th>\n",
       "      <th>Project Need Statement</th>\n",
       "      <th>Project Subject Category Tree</th>\n",
       "      <th>Project Subject Subcategory Tree</th>\n",
       "      <th>Project Grade Level Category</th>\n",
       "      <th>Project Resource Category</th>\n",
       "      <th>Project Cost</th>\n",
       "      <th>Project Posted Date</th>\n",
       "      <th>Project Expiration Date</th>\n",
       "      <th>Project Current Status</th>\n",
       "      <th>Project Fully Funded Date</th>\n",
       "    </tr>\n",
       "  </thead>\n",
       "  <tbody>\n",
       "    <tr>\n",
       "      <th>2</th>\n",
       "      <td>2</td>\n",
       "      <td>afd99a01739ad5557b51b1ba0174e832</td>\n",
       "      <td>1287f5128b1f36bf8434e5705a7cc04d</td>\n",
       "      <td>6c5bd0d4f20547a001628aefd71de89e</td>\n",
       "      <td>1</td>\n",
       "      <td>Teacher-Led</td>\n",
       "      <td>Help Second Grade ESL Students Develop Languag...</td>\n",
       "      <td>Visiting or moving to a new place can be very ...</td>\n",
       "      <td>Visiting or moving to a new place can be very ...</td>\n",
       "      <td>My students need beginning vocabulary audio ca...</td>\n",
       "      <td>Literacy &amp; Language</td>\n",
       "      <td>ESL</td>\n",
       "      <td>Grades PreK-2</td>\n",
       "      <td>Supplies</td>\n",
       "      <td>435.92</td>\n",
       "      <td>2013-01-01</td>\n",
       "      <td>2013-05-30</td>\n",
       "      <td>Fully Funded</td>\n",
       "      <td>2013-05-22</td>\n",
       "    </tr>\n",
       "  </tbody>\n",
       "</table>\n",
       "</div>"
      ],
      "text/plain": [
       "   Unnamed: 0                        Project ID  \\\n",
       "2           2  afd99a01739ad5557b51b1ba0174e832   \n",
       "\n",
       "                          School ID                        Teacher ID  \\\n",
       "2  1287f5128b1f36bf8434e5705a7cc04d  6c5bd0d4f20547a001628aefd71de89e   \n",
       "\n",
       "   Teacher Project Posted Sequence Project Type  \\\n",
       "2                                1  Teacher-Led   \n",
       "\n",
       "                                       Project Title  \\\n",
       "2  Help Second Grade ESL Students Develop Languag...   \n",
       "\n",
       "                                       Project Essay  \\\n",
       "2  Visiting or moving to a new place can be very ...   \n",
       "\n",
       "                           Project Short Description  \\\n",
       "2  Visiting or moving to a new place can be very ...   \n",
       "\n",
       "                              Project Need Statement  \\\n",
       "2  My students need beginning vocabulary audio ca...   \n",
       "\n",
       "  Project Subject Category Tree Project Subject Subcategory Tree  \\\n",
       "2           Literacy & Language                              ESL   \n",
       "\n",
       "  Project Grade Level Category Project Resource Category  Project Cost  \\\n",
       "2                Grades PreK-2                  Supplies        435.92   \n",
       "\n",
       "  Project Posted Date Project Expiration Date Project Current Status  \\\n",
       "2          2013-01-01              2013-05-30           Fully Funded   \n",
       "\n",
       "  Project Fully Funded Date  \n",
       "2                2013-05-22  "
      ]
     },
     "execution_count": 10,
     "metadata": {},
     "output_type": "execute_result"
    }
   ],
   "source": [
    "# Multiple filters\n",
    "proj_df[(proj_df['Project Resource Category'] == 'Supplies')].head(1)"
   ]
  },
  {
   "cell_type": "code",
   "execution_count": 11,
   "metadata": {
    "scrolled": true
   },
   "outputs": [
    {
     "data": {
      "text/html": [
       "<div>\n",
       "<style>\n",
       "    .dataframe thead tr:only-child th {\n",
       "        text-align: right;\n",
       "    }\n",
       "\n",
       "    .dataframe thead th {\n",
       "        text-align: left;\n",
       "    }\n",
       "\n",
       "    .dataframe tbody tr th {\n",
       "        vertical-align: top;\n",
       "    }\n",
       "</style>\n",
       "<table border=\"1\" class=\"dataframe\">\n",
       "  <thead>\n",
       "    <tr style=\"text-align: right;\">\n",
       "      <th></th>\n",
       "      <th>Unnamed: 0</th>\n",
       "      <th>Project ID</th>\n",
       "      <th>School ID</th>\n",
       "      <th>Teacher ID</th>\n",
       "      <th>Teacher Project Posted Sequence</th>\n",
       "      <th>Project Type</th>\n",
       "      <th>Project Title</th>\n",
       "      <th>Project Essay</th>\n",
       "      <th>Project Short Description</th>\n",
       "      <th>Project Need Statement</th>\n",
       "      <th>Project Subject Category Tree</th>\n",
       "      <th>Project Subject Subcategory Tree</th>\n",
       "      <th>Project Grade Level Category</th>\n",
       "      <th>Project Resource Category</th>\n",
       "      <th>Project Cost</th>\n",
       "      <th>Project Posted Date</th>\n",
       "      <th>Project Expiration Date</th>\n",
       "      <th>Project Current Status</th>\n",
       "      <th>Project Fully Funded Date</th>\n",
       "    </tr>\n",
       "  </thead>\n",
       "  <tbody>\n",
       "    <tr>\n",
       "      <th>4</th>\n",
       "      <td>4</td>\n",
       "      <td>ec82a697fab916c0db0cdad746338df9</td>\n",
       "      <td>3b200e7fe3e6dde3c169c02e5fb5ae86</td>\n",
       "      <td>893173d62775f8be7c30bf4220ad0c33</td>\n",
       "      <td>2</td>\n",
       "      <td>Teacher-Led</td>\n",
       "      <td>Help Us Make Each Minute Count!</td>\n",
       "      <td>\"Idle hands\" were something that Issac Watts s...</td>\n",
       "      <td>\"Idle hands\" were something that Issac Watts s...</td>\n",
       "      <td>My students need items such as Velcro, two pou...</td>\n",
       "      <td>Special Needs</td>\n",
       "      <td>Special Needs</td>\n",
       "      <td>Grades 3-5</td>\n",
       "      <td>Supplies</td>\n",
       "      <td>264.19</td>\n",
       "      <td>2013-01-01</td>\n",
       "      <td>2013-05-30</td>\n",
       "      <td>Fully Funded</td>\n",
       "      <td>2013-01-01</td>\n",
       "    </tr>\n",
       "    <tr>\n",
       "      <th>13</th>\n",
       "      <td>13</td>\n",
       "      <td>49409b4858006bbfba35c36338e10ee7</td>\n",
       "      <td>318346a55244fb197ce8eafbf01b838e</td>\n",
       "      <td>0b163977c92e419cf2823eb5cfb3439c</td>\n",
       "      <td>2</td>\n",
       "      <td>Teacher-Led</td>\n",
       "      <td>\"I Don't Have A Good Pencil Or Eraser Today!\"</td>\n",
       "      <td>We have tried having communities of materials ...</td>\n",
       "      <td>We have tried having communities of materials ...</td>\n",
       "      <td>My students need a pencil sharpener, 12 packs ...</td>\n",
       "      <td>History &amp; Civics, Math &amp; Science</td>\n",
       "      <td>Economics, Environmental Science</td>\n",
       "      <td>Grades 3-5</td>\n",
       "      <td>Supplies</td>\n",
       "      <td>294.60</td>\n",
       "      <td>2013-01-01</td>\n",
       "      <td>2013-03-03</td>\n",
       "      <td>Expired</td>\n",
       "      <td>NaN</td>\n",
       "    </tr>\n",
       "    <tr>\n",
       "      <th>28</th>\n",
       "      <td>28</td>\n",
       "      <td>ec7a0cfa371ac1d04b27658c461b45e6</td>\n",
       "      <td>3b4267536e8a0b00fda72a5dfdf94e11</td>\n",
       "      <td>d26dd92f2133fc789d118327ae3d0b5c</td>\n",
       "      <td>67</td>\n",
       "      <td>Teacher-Led</td>\n",
       "      <td>Creativity With Epson</td>\n",
       "      <td>My students are a fabulous group of high energ...</td>\n",
       "      <td>My students are a fabulous group of high energ...</td>\n",
       "      <td>My students need Epson Glossy Photo Paper and ...</td>\n",
       "      <td>Literacy &amp; Language, Music &amp; The Arts</td>\n",
       "      <td>Literature &amp; Writing, Visual Arts</td>\n",
       "      <td>Grades 3-5</td>\n",
       "      <td>Supplies</td>\n",
       "      <td>300.88</td>\n",
       "      <td>2013-01-01</td>\n",
       "      <td>2013-05-30</td>\n",
       "      <td>Fully Funded</td>\n",
       "      <td>2013-01-01</td>\n",
       "    </tr>\n",
       "    <tr>\n",
       "      <th>29</th>\n",
       "      <td>29</td>\n",
       "      <td>196524f5dc405c7d1fccc6feea95172e</td>\n",
       "      <td>d240f1ce82c064011f7aafeb60c68245</td>\n",
       "      <td>9af89050424311c8d09902ce526da5e3</td>\n",
       "      <td>1</td>\n",
       "      <td>Teacher-Led</td>\n",
       "      <td>Specialized Activities and Games</td>\n",
       "      <td>Do you remember those horrible worksheets? The...</td>\n",
       "      <td>Do you remember those horrible worksheets? The...</td>\n",
       "      <td>My students need materials that are unique to ...</td>\n",
       "      <td>Literacy &amp; Language, Math &amp; Science</td>\n",
       "      <td>Literacy, Mathematics</td>\n",
       "      <td>Grades 3-5</td>\n",
       "      <td>Supplies</td>\n",
       "      <td>175.06</td>\n",
       "      <td>2013-01-01</td>\n",
       "      <td>2013-05-30</td>\n",
       "      <td>Fully Funded</td>\n",
       "      <td>2013-01-02</td>\n",
       "    </tr>\n",
       "    <tr>\n",
       "      <th>36</th>\n",
       "      <td>36</td>\n",
       "      <td>0a7b6fc18c729141dc9a466079581b3b</td>\n",
       "      <td>3efb94613d73cacee41f3888eedbcd6b</td>\n",
       "      <td>ccf25b613ab86b13c4d181ceb0b4d5a6</td>\n",
       "      <td>1</td>\n",
       "      <td>Teacher-Led</td>\n",
       "      <td>Learn To Shoot Correctly</td>\n",
       "      <td>Many of my students aspire to be basketball pl...</td>\n",
       "      <td>Many of my students aspire to be basketball pl...</td>\n",
       "      <td>My students need the 2 different size basketba...</td>\n",
       "      <td>Health &amp; Sports</td>\n",
       "      <td>Health &amp; Wellness, Team Sports</td>\n",
       "      <td>Grades 3-5</td>\n",
       "      <td>Supplies</td>\n",
       "      <td>246.44</td>\n",
       "      <td>2013-01-01</td>\n",
       "      <td>2013-05-30</td>\n",
       "      <td>Fully Funded</td>\n",
       "      <td>2013-05-23</td>\n",
       "    </tr>\n",
       "  </tbody>\n",
       "</table>\n",
       "</div>"
      ],
      "text/plain": [
       "    Unnamed: 0                        Project ID  \\\n",
       "4            4  ec82a697fab916c0db0cdad746338df9   \n",
       "13          13  49409b4858006bbfba35c36338e10ee7   \n",
       "28          28  ec7a0cfa371ac1d04b27658c461b45e6   \n",
       "29          29  196524f5dc405c7d1fccc6feea95172e   \n",
       "36          36  0a7b6fc18c729141dc9a466079581b3b   \n",
       "\n",
       "                           School ID                        Teacher ID  \\\n",
       "4   3b200e7fe3e6dde3c169c02e5fb5ae86  893173d62775f8be7c30bf4220ad0c33   \n",
       "13  318346a55244fb197ce8eafbf01b838e  0b163977c92e419cf2823eb5cfb3439c   \n",
       "28  3b4267536e8a0b00fda72a5dfdf94e11  d26dd92f2133fc789d118327ae3d0b5c   \n",
       "29  d240f1ce82c064011f7aafeb60c68245  9af89050424311c8d09902ce526da5e3   \n",
       "36  3efb94613d73cacee41f3888eedbcd6b  ccf25b613ab86b13c4d181ceb0b4d5a6   \n",
       "\n",
       "    Teacher Project Posted Sequence Project Type  \\\n",
       "4                                 2  Teacher-Led   \n",
       "13                                2  Teacher-Led   \n",
       "28                               67  Teacher-Led   \n",
       "29                                1  Teacher-Led   \n",
       "36                                1  Teacher-Led   \n",
       "\n",
       "                                    Project Title  \\\n",
       "4                Help Us Make Each Minute Count!    \n",
       "13  \"I Don't Have A Good Pencil Or Eraser Today!\"   \n",
       "28                          Creativity With Epson   \n",
       "29               Specialized Activities and Games   \n",
       "36                       Learn To Shoot Correctly   \n",
       "\n",
       "                                        Project Essay  \\\n",
       "4   \"Idle hands\" were something that Issac Watts s...   \n",
       "13  We have tried having communities of materials ...   \n",
       "28  My students are a fabulous group of high energ...   \n",
       "29  Do you remember those horrible worksheets? The...   \n",
       "36  Many of my students aspire to be basketball pl...   \n",
       "\n",
       "                            Project Short Description  \\\n",
       "4   \"Idle hands\" were something that Issac Watts s...   \n",
       "13  We have tried having communities of materials ...   \n",
       "28  My students are a fabulous group of high energ...   \n",
       "29  Do you remember those horrible worksheets? The...   \n",
       "36  Many of my students aspire to be basketball pl...   \n",
       "\n",
       "                               Project Need Statement  \\\n",
       "4   My students need items such as Velcro, two pou...   \n",
       "13  My students need a pencil sharpener, 12 packs ...   \n",
       "28  My students need Epson Glossy Photo Paper and ...   \n",
       "29  My students need materials that are unique to ...   \n",
       "36  My students need the 2 different size basketba...   \n",
       "\n",
       "            Project Subject Category Tree   Project Subject Subcategory Tree  \\\n",
       "4                           Special Needs                      Special Needs   \n",
       "13       History & Civics, Math & Science   Economics, Environmental Science   \n",
       "28  Literacy & Language, Music & The Arts  Literature & Writing, Visual Arts   \n",
       "29    Literacy & Language, Math & Science              Literacy, Mathematics   \n",
       "36                        Health & Sports     Health & Wellness, Team Sports   \n",
       "\n",
       "   Project Grade Level Category Project Resource Category  Project Cost  \\\n",
       "4                    Grades 3-5                  Supplies        264.19   \n",
       "13                   Grades 3-5                  Supplies        294.60   \n",
       "28                   Grades 3-5                  Supplies        300.88   \n",
       "29                   Grades 3-5                  Supplies        175.06   \n",
       "36                   Grades 3-5                  Supplies        246.44   \n",
       "\n",
       "   Project Posted Date Project Expiration Date Project Current Status  \\\n",
       "4           2013-01-01              2013-05-30           Fully Funded   \n",
       "13          2013-01-01              2013-03-03                Expired   \n",
       "28          2013-01-01              2013-05-30           Fully Funded   \n",
       "29          2013-01-01              2013-05-30           Fully Funded   \n",
       "36          2013-01-01              2013-05-30           Fully Funded   \n",
       "\n",
       "   Project Fully Funded Date  \n",
       "4                 2013-01-01  \n",
       "13                       NaN  \n",
       "28                2013-01-01  \n",
       "29                2013-01-02  \n",
       "36                2013-05-23  "
      ]
     },
     "execution_count": 11,
     "metadata": {},
     "output_type": "execute_result"
    }
   ],
   "source": [
    "proj_df[((proj_df['Project Resource Category'] == 'Supplies') & (proj_df['Project Grade Level Category'] == 'Grades 3-5'))].head(5)"
   ]
  },
  {
   "cell_type": "code",
   "execution_count": 12,
   "metadata": {},
   "outputs": [
    {
     "data": {
      "text/plain": [
       "7177.969999999999"
      ]
     },
     "execution_count": 12,
     "metadata": {},
     "output_type": "execute_result"
    }
   ],
   "source": [
    "proj_df[\n",
    "    ((proj_df['Project Resource Category'] == 'Supplies') & (proj_df['Project Grade Level Category'] == 'Grades 3-5'))\n",
    "]['Project Cost'].head(20).sum()"
   ]
  },
  {
   "cell_type": "code",
   "execution_count": 13,
   "metadata": {},
   "outputs": [
    {
     "data": {
      "text/plain": [
       "False    74037\n",
       "True     25963\n",
       "Name: Project Fully Funded Date, dtype: int64"
      ]
     },
     "execution_count": 13,
     "metadata": {},
     "output_type": "execute_result"
    }
   ],
   "source": [
    "proj_df['Project Fully Funded Date'].isnull().value_counts()  # also, .notnull()"
   ]
  },
  {
   "cell_type": "markdown",
   "metadata": {},
   "source": [
    "## Groupby"
   ]
  },
  {
   "cell_type": "code",
   "execution_count": 14,
   "metadata": {},
   "outputs": [
    {
     "data": {
      "text/html": [
       "<div>\n",
       "<style>\n",
       "    .dataframe thead tr:only-child th {\n",
       "        text-align: right;\n",
       "    }\n",
       "\n",
       "    .dataframe thead th {\n",
       "        text-align: left;\n",
       "    }\n",
       "\n",
       "    .dataframe tbody tr th {\n",
       "        vertical-align: top;\n",
       "    }\n",
       "</style>\n",
       "<table border=\"1\" class=\"dataframe\">\n",
       "  <thead>\n",
       "    <tr style=\"text-align: right;\">\n",
       "      <th></th>\n",
       "      <th>Unnamed: 0</th>\n",
       "      <th>Project ID</th>\n",
       "      <th>School ID</th>\n",
       "      <th>Teacher ID</th>\n",
       "      <th>Teacher Project Posted Sequence</th>\n",
       "      <th>Project Type</th>\n",
       "      <th>Project Title</th>\n",
       "      <th>Project Essay</th>\n",
       "      <th>Project Short Description</th>\n",
       "      <th>Project Need Statement</th>\n",
       "      <th>Project Subject Category Tree</th>\n",
       "      <th>Project Subject Subcategory Tree</th>\n",
       "      <th>Project Resource Category</th>\n",
       "      <th>Project Cost</th>\n",
       "      <th>Project Posted Date</th>\n",
       "      <th>Project Expiration Date</th>\n",
       "      <th>Project Current Status</th>\n",
       "      <th>Project Fully Funded Date</th>\n",
       "    </tr>\n",
       "    <tr>\n",
       "      <th>Project Grade Level Category</th>\n",
       "      <th></th>\n",
       "      <th></th>\n",
       "      <th></th>\n",
       "      <th></th>\n",
       "      <th></th>\n",
       "      <th></th>\n",
       "      <th></th>\n",
       "      <th></th>\n",
       "      <th></th>\n",
       "      <th></th>\n",
       "      <th></th>\n",
       "      <th></th>\n",
       "      <th></th>\n",
       "      <th></th>\n",
       "      <th></th>\n",
       "      <th></th>\n",
       "      <th></th>\n",
       "      <th></th>\n",
       "    </tr>\n",
       "  </thead>\n",
       "  <tbody>\n",
       "    <tr>\n",
       "      <th>Grades 3-5</th>\n",
       "      <td>31555</td>\n",
       "      <td>31555</td>\n",
       "      <td>31555</td>\n",
       "      <td>31555</td>\n",
       "      <td>31555</td>\n",
       "      <td>31555</td>\n",
       "      <td>31555</td>\n",
       "      <td>31555</td>\n",
       "      <td>31555</td>\n",
       "      <td>31555</td>\n",
       "      <td>31550</td>\n",
       "      <td>31550</td>\n",
       "      <td>31550</td>\n",
       "      <td>31555</td>\n",
       "      <td>31555</td>\n",
       "      <td>31555</td>\n",
       "      <td>31555</td>\n",
       "      <td>23196</td>\n",
       "    </tr>\n",
       "    <tr>\n",
       "      <th>Grades 6-8</th>\n",
       "      <td>17028</td>\n",
       "      <td>17028</td>\n",
       "      <td>17028</td>\n",
       "      <td>17028</td>\n",
       "      <td>17028</td>\n",
       "      <td>17028</td>\n",
       "      <td>17028</td>\n",
       "      <td>17028</td>\n",
       "      <td>17028</td>\n",
       "      <td>17028</td>\n",
       "      <td>17024</td>\n",
       "      <td>17024</td>\n",
       "      <td>17020</td>\n",
       "      <td>17028</td>\n",
       "      <td>17028</td>\n",
       "      <td>17028</td>\n",
       "      <td>17028</td>\n",
       "      <td>12638</td>\n",
       "    </tr>\n",
       "    <tr>\n",
       "      <th>Grades 9-12</th>\n",
       "      <td>12761</td>\n",
       "      <td>12761</td>\n",
       "      <td>12761</td>\n",
       "      <td>12761</td>\n",
       "      <td>12761</td>\n",
       "      <td>12761</td>\n",
       "      <td>12761</td>\n",
       "      <td>12761</td>\n",
       "      <td>12761</td>\n",
       "      <td>12761</td>\n",
       "      <td>12759</td>\n",
       "      <td>12759</td>\n",
       "      <td>12759</td>\n",
       "      <td>12761</td>\n",
       "      <td>12761</td>\n",
       "      <td>12761</td>\n",
       "      <td>12761</td>\n",
       "      <td>9564</td>\n",
       "    </tr>\n",
       "    <tr>\n",
       "      <th>Grades PreK-2</th>\n",
       "      <td>38656</td>\n",
       "      <td>38656</td>\n",
       "      <td>38656</td>\n",
       "      <td>38656</td>\n",
       "      <td>38656</td>\n",
       "      <td>38656</td>\n",
       "      <td>38656</td>\n",
       "      <td>38656</td>\n",
       "      <td>38656</td>\n",
       "      <td>38656</td>\n",
       "      <td>38645</td>\n",
       "      <td>38645</td>\n",
       "      <td>38643</td>\n",
       "      <td>38656</td>\n",
       "      <td>38656</td>\n",
       "      <td>38656</td>\n",
       "      <td>38656</td>\n",
       "      <td>28639</td>\n",
       "    </tr>\n",
       "  </tbody>\n",
       "</table>\n",
       "</div>"
      ],
      "text/plain": [
       "                              Unnamed: 0  Project ID  School ID  Teacher ID  \\\n",
       "Project Grade Level Category                                                  \n",
       "Grades 3-5                         31555       31555      31555       31555   \n",
       "Grades 6-8                         17028       17028      17028       17028   \n",
       "Grades 9-12                        12761       12761      12761       12761   \n",
       "Grades PreK-2                      38656       38656      38656       38656   \n",
       "\n",
       "                              Teacher Project Posted Sequence  Project Type  \\\n",
       "Project Grade Level Category                                                  \n",
       "Grades 3-5                                              31555         31555   \n",
       "Grades 6-8                                              17028         17028   \n",
       "Grades 9-12                                             12761         12761   \n",
       "Grades PreK-2                                           38656         38656   \n",
       "\n",
       "                              Project Title  Project Essay  \\\n",
       "Project Grade Level Category                                 \n",
       "Grades 3-5                            31555          31555   \n",
       "Grades 6-8                            17028          17028   \n",
       "Grades 9-12                           12761          12761   \n",
       "Grades PreK-2                         38656          38656   \n",
       "\n",
       "                              Project Short Description  \\\n",
       "Project Grade Level Category                              \n",
       "Grades 3-5                                        31555   \n",
       "Grades 6-8                                        17028   \n",
       "Grades 9-12                                       12761   \n",
       "Grades PreK-2                                     38656   \n",
       "\n",
       "                              Project Need Statement  \\\n",
       "Project Grade Level Category                           \n",
       "Grades 3-5                                     31555   \n",
       "Grades 6-8                                     17028   \n",
       "Grades 9-12                                    12761   \n",
       "Grades PreK-2                                  38656   \n",
       "\n",
       "                              Project Subject Category Tree  \\\n",
       "Project Grade Level Category                                  \n",
       "Grades 3-5                                            31550   \n",
       "Grades 6-8                                            17024   \n",
       "Grades 9-12                                           12759   \n",
       "Grades PreK-2                                         38645   \n",
       "\n",
       "                              Project Subject Subcategory Tree  \\\n",
       "Project Grade Level Category                                     \n",
       "Grades 3-5                                               31550   \n",
       "Grades 6-8                                               17024   \n",
       "Grades 9-12                                              12759   \n",
       "Grades PreK-2                                            38645   \n",
       "\n",
       "                              Project Resource Category  Project Cost  \\\n",
       "Project Grade Level Category                                            \n",
       "Grades 3-5                                        31550         31555   \n",
       "Grades 6-8                                        17020         17028   \n",
       "Grades 9-12                                       12759         12761   \n",
       "Grades PreK-2                                     38643         38656   \n",
       "\n",
       "                              Project Posted Date  Project Expiration Date  \\\n",
       "Project Grade Level Category                                                 \n",
       "Grades 3-5                                  31555                    31555   \n",
       "Grades 6-8                                  17028                    17028   \n",
       "Grades 9-12                                 12761                    12761   \n",
       "Grades PreK-2                               38656                    38656   \n",
       "\n",
       "                              Project Current Status  \\\n",
       "Project Grade Level Category                           \n",
       "Grades 3-5                                     31555   \n",
       "Grades 6-8                                     17028   \n",
       "Grades 9-12                                    12761   \n",
       "Grades PreK-2                                  38656   \n",
       "\n",
       "                              Project Fully Funded Date  \n",
       "Project Grade Level Category                             \n",
       "Grades 3-5                                        23196  \n",
       "Grades 6-8                                        12638  \n",
       "Grades 9-12                                        9564  \n",
       "Grades PreK-2                                     28639  "
      ]
     },
     "execution_count": 14,
     "metadata": {},
     "output_type": "execute_result"
    }
   ],
   "source": [
    "# This counts for all the columns\n",
    "proj_df.groupby('Project Grade Level Category').count()"
   ]
  },
  {
   "cell_type": "code",
   "execution_count": 15,
   "metadata": {},
   "outputs": [
    {
     "data": {
      "text/plain": [
       "Project Grade Level Category\n",
       "Grades 3-5       31555\n",
       "Grades 6-8       17028\n",
       "Grades 9-12      12761\n",
       "Grades PreK-2    38656\n",
       "dtype: int64"
      ]
     },
     "execution_count": 15,
     "metadata": {},
     "output_type": "execute_result"
    }
   ],
   "source": [
    "# To just get the size of the group by, use `.size()`\n",
    "proj_df.groupby('Project Grade Level Category').size()"
   ]
  },
  {
   "cell_type": "code",
   "execution_count": 16,
   "metadata": {},
   "outputs": [
    {
     "data": {
      "text/plain": [
       "Project Type\n",
       "Professional Development        1\n",
       "Teacher-Led                 99999\n",
       "Name: Project Cost, dtype: int64"
      ]
     },
     "execution_count": 16,
     "metadata": {},
     "output_type": "execute_result"
    }
   ],
   "source": [
    "# ...or specify only one column for count\n",
    "proj_df.groupby('Project Type')['Project Cost'].count()"
   ]
  },
  {
   "cell_type": "markdown",
   "metadata": {},
   "source": [
    "### Multilevel Groupby (Multilevel Index)"
   ]
  },
  {
   "cell_type": "code",
   "execution_count": 17,
   "metadata": {},
   "outputs": [
    {
     "data": {
      "text/html": [
       "<div>\n",
       "<style>\n",
       "    .dataframe thead tr:only-child th {\n",
       "        text-align: right;\n",
       "    }\n",
       "\n",
       "    .dataframe thead th {\n",
       "        text-align: left;\n",
       "    }\n",
       "\n",
       "    .dataframe tbody tr th {\n",
       "        vertical-align: top;\n",
       "    }\n",
       "</style>\n",
       "<table border=\"1\" class=\"dataframe\">\n",
       "  <thead>\n",
       "    <tr style=\"text-align: right;\">\n",
       "      <th></th>\n",
       "      <th></th>\n",
       "      <th>size</th>\n",
       "      <th>mean</th>\n",
       "    </tr>\n",
       "    <tr>\n",
       "      <th>Project Grade Level Category</th>\n",
       "      <th>Project Resource Category</th>\n",
       "      <th></th>\n",
       "      <th></th>\n",
       "    </tr>\n",
       "  </thead>\n",
       "  <tbody>\n",
       "    <tr>\n",
       "      <th rowspan=\"6\" valign=\"top\">Grades 3-5</th>\n",
       "      <th>Books</th>\n",
       "      <td>6399.0</td>\n",
       "      <td>487.182977</td>\n",
       "    </tr>\n",
       "    <tr>\n",
       "      <th>Other</th>\n",
       "      <td>3568.0</td>\n",
       "      <td>533.538181</td>\n",
       "    </tr>\n",
       "    <tr>\n",
       "      <th>Supplies</th>\n",
       "      <td>9613.0</td>\n",
       "      <td>508.670897</td>\n",
       "    </tr>\n",
       "    <tr>\n",
       "      <th>Technology</th>\n",
       "      <td>11810.0</td>\n",
       "      <td>770.789012</td>\n",
       "    </tr>\n",
       "    <tr>\n",
       "      <th>Trips</th>\n",
       "      <td>115.0</td>\n",
       "      <td>2194.314087</td>\n",
       "    </tr>\n",
       "    <tr>\n",
       "      <th>Visitors</th>\n",
       "      <td>45.0</td>\n",
       "      <td>1412.570889</td>\n",
       "    </tr>\n",
       "    <tr>\n",
       "      <th rowspan=\"6\" valign=\"top\">Grades 6-8</th>\n",
       "      <th>Books</th>\n",
       "      <td>3612.0</td>\n",
       "      <td>493.731631</td>\n",
       "    </tr>\n",
       "    <tr>\n",
       "      <th>Other</th>\n",
       "      <td>1332.0</td>\n",
       "      <td>612.173063</td>\n",
       "    </tr>\n",
       "    <tr>\n",
       "      <th>Supplies</th>\n",
       "      <td>5433.0</td>\n",
       "      <td>558.904095</td>\n",
       "    </tr>\n",
       "    <tr>\n",
       "      <th>Technology</th>\n",
       "      <td>6533.0</td>\n",
       "      <td>843.498108</td>\n",
       "    </tr>\n",
       "    <tr>\n",
       "      <th>Trips</th>\n",
       "      <td>93.0</td>\n",
       "      <td>4322.577419</td>\n",
       "    </tr>\n",
       "    <tr>\n",
       "      <th>Visitors</th>\n",
       "      <td>17.0</td>\n",
       "      <td>1163.480000</td>\n",
       "    </tr>\n",
       "    <tr>\n",
       "      <th rowspan=\"6\" valign=\"top\">Grades 9-12</th>\n",
       "      <th>Books</th>\n",
       "      <td>2649.0</td>\n",
       "      <td>666.741906</td>\n",
       "    </tr>\n",
       "    <tr>\n",
       "      <th>Other</th>\n",
       "      <td>920.0</td>\n",
       "      <td>796.885380</td>\n",
       "    </tr>\n",
       "    <tr>\n",
       "      <th>Supplies</th>\n",
       "      <td>4308.0</td>\n",
       "      <td>817.108598</td>\n",
       "    </tr>\n",
       "    <tr>\n",
       "      <th>Technology</th>\n",
       "      <td>4763.0</td>\n",
       "      <td>972.260624</td>\n",
       "    </tr>\n",
       "    <tr>\n",
       "      <th>Trips</th>\n",
       "      <td>98.0</td>\n",
       "      <td>4128.305612</td>\n",
       "    </tr>\n",
       "    <tr>\n",
       "      <th>Visitors</th>\n",
       "      <td>21.0</td>\n",
       "      <td>1760.707619</td>\n",
       "    </tr>\n",
       "    <tr>\n",
       "      <th rowspan=\"6\" valign=\"top\">Grades PreK-2</th>\n",
       "      <th>Books</th>\n",
       "      <td>6705.0</td>\n",
       "      <td>511.298464</td>\n",
       "    </tr>\n",
       "    <tr>\n",
       "      <th>Other</th>\n",
       "      <td>5595.0</td>\n",
       "      <td>556.364509</td>\n",
       "    </tr>\n",
       "    <tr>\n",
       "      <th>Supplies</th>\n",
       "      <td>13060.0</td>\n",
       "      <td>489.882466</td>\n",
       "    </tr>\n",
       "    <tr>\n",
       "      <th>Technology</th>\n",
       "      <td>13168.0</td>\n",
       "      <td>746.202124</td>\n",
       "    </tr>\n",
       "    <tr>\n",
       "      <th>Trips</th>\n",
       "      <td>81.0</td>\n",
       "      <td>874.453951</td>\n",
       "    </tr>\n",
       "    <tr>\n",
       "      <th>Visitors</th>\n",
       "      <td>34.0</td>\n",
       "      <td>1299.077059</td>\n",
       "    </tr>\n",
       "  </tbody>\n",
       "</table>\n",
       "</div>"
      ],
      "text/plain": [
       "                                                           size         mean\n",
       "Project Grade Level Category Project Resource Category                      \n",
       "Grades 3-5                   Books                       6399.0   487.182977\n",
       "                             Other                       3568.0   533.538181\n",
       "                             Supplies                    9613.0   508.670897\n",
       "                             Technology                 11810.0   770.789012\n",
       "                             Trips                        115.0  2194.314087\n",
       "                             Visitors                      45.0  1412.570889\n",
       "Grades 6-8                   Books                       3612.0   493.731631\n",
       "                             Other                       1332.0   612.173063\n",
       "                             Supplies                    5433.0   558.904095\n",
       "                             Technology                  6533.0   843.498108\n",
       "                             Trips                         93.0  4322.577419\n",
       "                             Visitors                      17.0  1163.480000\n",
       "Grades 9-12                  Books                       2649.0   666.741906\n",
       "                             Other                        920.0   796.885380\n",
       "                             Supplies                    4308.0   817.108598\n",
       "                             Technology                  4763.0   972.260624\n",
       "                             Trips                         98.0  4128.305612\n",
       "                             Visitors                      21.0  1760.707619\n",
       "Grades PreK-2                Books                       6705.0   511.298464\n",
       "                             Other                       5595.0   556.364509\n",
       "                             Supplies                   13060.0   489.882466\n",
       "                             Technology                 13168.0   746.202124\n",
       "                             Trips                         81.0   874.453951\n",
       "                             Visitors                      34.0  1299.077059"
      ]
     },
     "execution_count": 17,
     "metadata": {},
     "output_type": "execute_result"
    }
   ],
   "source": [
    "proj_df.groupby(['Project Grade Level Category', 'Project Resource Category'])['Project Cost'].agg([np.size, np.mean])"
   ]
  },
  {
   "cell_type": "markdown",
   "metadata": {},
   "source": [
    "## Merging (Joining)"
   ]
  },
  {
   "cell_type": "code",
   "execution_count": 18,
   "metadata": {},
   "outputs": [
    {
     "data": {
      "text/html": [
       "<div>\n",
       "<style>\n",
       "    .dataframe thead tr:only-child th {\n",
       "        text-align: right;\n",
       "    }\n",
       "\n",
       "    .dataframe thead th {\n",
       "        text-align: left;\n",
       "    }\n",
       "\n",
       "    .dataframe tbody tr th {\n",
       "        vertical-align: top;\n",
       "    }\n",
       "</style>\n",
       "<table border=\"1\" class=\"dataframe\">\n",
       "  <thead>\n",
       "    <tr style=\"text-align: right;\">\n",
       "      <th></th>\n",
       "      <th>Project ID</th>\n",
       "      <th>School ID</th>\n",
       "      <th>Teacher ID</th>\n",
       "    </tr>\n",
       "  </thead>\n",
       "  <tbody>\n",
       "    <tr>\n",
       "      <th>0</th>\n",
       "      <td>7685f0265a19d7b52a470ee4bac883ba</td>\n",
       "      <td>e180c7424cb9c68cb49f141b092a988f</td>\n",
       "      <td>4ee5200e89d9e2998ec8baad8a3c5968</td>\n",
       "    </tr>\n",
       "    <tr>\n",
       "      <th>1</th>\n",
       "      <td>f9f4af7099061fb4bf44642a03e5c331</td>\n",
       "      <td>08b20f1e2125103ed7aa17e8d76c71d4</td>\n",
       "      <td>cca2d1d277fb4adb50147b49cdc3b156</td>\n",
       "    </tr>\n",
       "    <tr>\n",
       "      <th>2</th>\n",
       "      <td>afd99a01739ad5557b51b1ba0174e832</td>\n",
       "      <td>1287f5128b1f36bf8434e5705a7cc04d</td>\n",
       "      <td>6c5bd0d4f20547a001628aefd71de89e</td>\n",
       "    </tr>\n",
       "    <tr>\n",
       "      <th>3</th>\n",
       "      <td>c614a38bb1a5e68e2ae6ad9d94bb2492</td>\n",
       "      <td>900fec9cd7a3188acbc90586a09584ef</td>\n",
       "      <td>8ed6f8181d092a8f4c008b18d18e54ad</td>\n",
       "    </tr>\n",
       "    <tr>\n",
       "      <th>4</th>\n",
       "      <td>ec82a697fab916c0db0cdad746338df9</td>\n",
       "      <td>3b200e7fe3e6dde3c169c02e5fb5ae86</td>\n",
       "      <td>893173d62775f8be7c30bf4220ad0c33</td>\n",
       "    </tr>\n",
       "  </tbody>\n",
       "</table>\n",
       "</div>"
      ],
      "text/plain": [
       "                         Project ID                         School ID  \\\n",
       "0  7685f0265a19d7b52a470ee4bac883ba  e180c7424cb9c68cb49f141b092a988f   \n",
       "1  f9f4af7099061fb4bf44642a03e5c331  08b20f1e2125103ed7aa17e8d76c71d4   \n",
       "2  afd99a01739ad5557b51b1ba0174e832  1287f5128b1f36bf8434e5705a7cc04d   \n",
       "3  c614a38bb1a5e68e2ae6ad9d94bb2492  900fec9cd7a3188acbc90586a09584ef   \n",
       "4  ec82a697fab916c0db0cdad746338df9  3b200e7fe3e6dde3c169c02e5fb5ae86   \n",
       "\n",
       "                         Teacher ID  \n",
       "0  4ee5200e89d9e2998ec8baad8a3c5968  \n",
       "1  cca2d1d277fb4adb50147b49cdc3b156  \n",
       "2  6c5bd0d4f20547a001628aefd71de89e  \n",
       "3  8ed6f8181d092a8f4c008b18d18e54ad  \n",
       "4  893173d62775f8be7c30bf4220ad0c33  "
      ]
     },
     "execution_count": 18,
     "metadata": {},
     "output_type": "execute_result"
    }
   ],
   "source": [
    "proj_df[['Project ID', 'School ID', 'Teacher ID']].head()"
   ]
  },
  {
   "cell_type": "code",
   "execution_count": 19,
   "metadata": {},
   "outputs": [
    {
     "data": {
      "text/html": [
       "<div>\n",
       "<style>\n",
       "    .dataframe thead tr:only-child th {\n",
       "        text-align: right;\n",
       "    }\n",
       "\n",
       "    .dataframe thead th {\n",
       "        text-align: left;\n",
       "    }\n",
       "\n",
       "    .dataframe tbody tr th {\n",
       "        vertical-align: top;\n",
       "    }\n",
       "</style>\n",
       "<table border=\"1\" class=\"dataframe\">\n",
       "  <thead>\n",
       "    <tr style=\"text-align: right;\">\n",
       "      <th></th>\n",
       "      <th>Teacher ID</th>\n",
       "      <th>Teacher Prefix</th>\n",
       "      <th>Teacher First Project Posted Date</th>\n",
       "    </tr>\n",
       "  </thead>\n",
       "  <tbody>\n",
       "    <tr>\n",
       "      <th>0</th>\n",
       "      <td>00000f7264c27ba6fea0c837ed6aa0aa</td>\n",
       "      <td>Mrs.</td>\n",
       "      <td>2013-08-21</td>\n",
       "    </tr>\n",
       "  </tbody>\n",
       "</table>\n",
       "</div>"
      ],
      "text/plain": [
       "                         Teacher ID Teacher Prefix  \\\n",
       "0  00000f7264c27ba6fea0c837ed6aa0aa           Mrs.   \n",
       "\n",
       "  Teacher First Project Posted Date  \n",
       "0                        2013-08-21  "
      ]
     },
     "execution_count": 19,
     "metadata": {},
     "output_type": "execute_result"
    }
   ],
   "source": [
    "teach_df.head(1)"
   ]
  },
  {
   "cell_type": "code",
   "execution_count": 20,
   "metadata": {},
   "outputs": [
    {
     "data": {
      "text/html": [
       "<div>\n",
       "<style>\n",
       "    .dataframe thead tr:only-child th {\n",
       "        text-align: right;\n",
       "    }\n",
       "\n",
       "    .dataframe thead th {\n",
       "        text-align: left;\n",
       "    }\n",
       "\n",
       "    .dataframe tbody tr th {\n",
       "        vertical-align: top;\n",
       "    }\n",
       "</style>\n",
       "<table border=\"1\" class=\"dataframe\">\n",
       "  <thead>\n",
       "    <tr style=\"text-align: right;\">\n",
       "      <th></th>\n",
       "      <th>Unnamed: 0</th>\n",
       "      <th>Project ID</th>\n",
       "      <th>School ID</th>\n",
       "      <th>Teacher ID</th>\n",
       "      <th>Teacher Project Posted Sequence</th>\n",
       "      <th>Project Type</th>\n",
       "      <th>Project Title</th>\n",
       "      <th>Project Essay</th>\n",
       "      <th>Project Short Description</th>\n",
       "      <th>Project Need Statement</th>\n",
       "      <th>...</th>\n",
       "      <th>Project Subject Subcategory Tree</th>\n",
       "      <th>Project Grade Level Category</th>\n",
       "      <th>Project Resource Category</th>\n",
       "      <th>Project Cost</th>\n",
       "      <th>Project Posted Date</th>\n",
       "      <th>Project Expiration Date</th>\n",
       "      <th>Project Current Status</th>\n",
       "      <th>Project Fully Funded Date</th>\n",
       "      <th>Teacher Prefix</th>\n",
       "      <th>Teacher First Project Posted Date</th>\n",
       "    </tr>\n",
       "  </thead>\n",
       "  <tbody>\n",
       "    <tr>\n",
       "      <th>0</th>\n",
       "      <td>0</td>\n",
       "      <td>7685f0265a19d7b52a470ee4bac883ba</td>\n",
       "      <td>e180c7424cb9c68cb49f141b092a988f</td>\n",
       "      <td>4ee5200e89d9e2998ec8baad8a3c5968</td>\n",
       "      <td>25</td>\n",
       "      <td>Teacher-Led</td>\n",
       "      <td>Stand Up to Bullying: Together We Can!</td>\n",
       "      <td>Did you know that 1-7 students in grades K-12 ...</td>\n",
       "      <td>Did you know that 1-7 students in grades K-12 ...</td>\n",
       "      <td>My students need 25 copies of \"Bullying in Sch...</td>\n",
       "      <td>...</td>\n",
       "      <td>Character Education, Early Development</td>\n",
       "      <td>Grades PreK-2</td>\n",
       "      <td>Technology</td>\n",
       "      <td>361.80</td>\n",
       "      <td>2013-01-01</td>\n",
       "      <td>2013-05-30</td>\n",
       "      <td>Fully Funded</td>\n",
       "      <td>2013-01-11</td>\n",
       "      <td>Mrs.</td>\n",
       "      <td>2011-12-11</td>\n",
       "    </tr>\n",
       "    <tr>\n",
       "      <th>1</th>\n",
       "      <td>1356</td>\n",
       "      <td>e11cc13f5f29c1a92c1a396a8c7471fb</td>\n",
       "      <td>e180c7424cb9c68cb49f141b092a988f</td>\n",
       "      <td>4ee5200e89d9e2998ec8baad8a3c5968</td>\n",
       "      <td>26</td>\n",
       "      <td>Teacher-Led</td>\n",
       "      <td>Recipe For Happiness: Children Need Support!</td>\n",
       "      <td>Did you know that bullying takes many forms? I...</td>\n",
       "      <td>Did you know that bullying takes many forms? I...</td>\n",
       "      <td>My students need the book, \"Bullying in School...</td>\n",
       "      <td>...</td>\n",
       "      <td>Character Education, Health &amp; Wellness</td>\n",
       "      <td>Grades PreK-2</td>\n",
       "      <td>Technology</td>\n",
       "      <td>416.24</td>\n",
       "      <td>2013-01-08</td>\n",
       "      <td>2013-06-05</td>\n",
       "      <td>Fully Funded</td>\n",
       "      <td>2013-02-02</td>\n",
       "      <td>Mrs.</td>\n",
       "      <td>2011-12-11</td>\n",
       "    </tr>\n",
       "    <tr>\n",
       "      <th>2</th>\n",
       "      <td>5828</td>\n",
       "      <td>9e367907db2c9b5c0b23fa6c1318eced</td>\n",
       "      <td>e180c7424cb9c68cb49f141b092a988f</td>\n",
       "      <td>4ee5200e89d9e2998ec8baad8a3c5968</td>\n",
       "      <td>27</td>\n",
       "      <td>Teacher-Led</td>\n",
       "      <td>Follow the Money!</td>\n",
       "      <td>What is the price kids pay when they do not un...</td>\n",
       "      <td>What is the price kids pay when they do not un...</td>\n",
       "      <td>My students need money books to discover and i...</td>\n",
       "      <td>...</td>\n",
       "      <td>Literacy, Mathematics</td>\n",
       "      <td>Grades PreK-2</td>\n",
       "      <td>Supplies</td>\n",
       "      <td>829.08</td>\n",
       "      <td>2013-01-25</td>\n",
       "      <td>2013-05-23</td>\n",
       "      <td>Fully Funded</td>\n",
       "      <td>2013-01-25</td>\n",
       "      <td>Mrs.</td>\n",
       "      <td>2011-12-11</td>\n",
       "    </tr>\n",
       "    <tr>\n",
       "      <th>3</th>\n",
       "      <td>8660</td>\n",
       "      <td>30ee31b91a437f3c03ac6fb35699f182</td>\n",
       "      <td>e180c7424cb9c68cb49f141b092a988f</td>\n",
       "      <td>4ee5200e89d9e2998ec8baad8a3c5968</td>\n",
       "      <td>28</td>\n",
       "      <td>Teacher-Led</td>\n",
       "      <td>Hats Off 2 Math!</td>\n",
       "      <td>Do you remember when you wanted to figure out ...</td>\n",
       "      <td>Do you remember when you wanted to figure out ...</td>\n",
       "      <td>My students need money books like, \"Alexander,...</td>\n",
       "      <td>...</td>\n",
       "      <td>Literacy, Mathematics</td>\n",
       "      <td>Grades PreK-2</td>\n",
       "      <td>Supplies</td>\n",
       "      <td>869.98</td>\n",
       "      <td>2013-02-04</td>\n",
       "      <td>2013-06-02</td>\n",
       "      <td>Fully Funded</td>\n",
       "      <td>2013-02-21</td>\n",
       "      <td>Mrs.</td>\n",
       "      <td>2011-12-11</td>\n",
       "    </tr>\n",
       "    <tr>\n",
       "      <th>4</th>\n",
       "      <td>11035</td>\n",
       "      <td>47746d5cdcd41e5f3b41e3b1206cb1a4</td>\n",
       "      <td>e180c7424cb9c68cb49f141b092a988f</td>\n",
       "      <td>4ee5200e89d9e2998ec8baad8a3c5968</td>\n",
       "      <td>29</td>\n",
       "      <td>Teacher-Led</td>\n",
       "      <td>We Will Not Stand for Hate!</td>\n",
       "      <td>I have a dream to help my students understand ...</td>\n",
       "      <td>I have a dream to help my students understand ...</td>\n",
       "      <td>My students need \"Martin's Big Words,\" a multi...</td>\n",
       "      <td>...</td>\n",
       "      <td>Character Education, Civics &amp; Government</td>\n",
       "      <td>Grades PreK-2</td>\n",
       "      <td>Technology</td>\n",
       "      <td>356.20</td>\n",
       "      <td>2013-02-11</td>\n",
       "      <td>2013-06-10</td>\n",
       "      <td>Fully Funded</td>\n",
       "      <td>2013-02-15</td>\n",
       "      <td>Mrs.</td>\n",
       "      <td>2011-12-11</td>\n",
       "    </tr>\n",
       "  </tbody>\n",
       "</table>\n",
       "<p>5 rows × 21 columns</p>\n",
       "</div>"
      ],
      "text/plain": [
       "   Unnamed: 0                        Project ID  \\\n",
       "0           0  7685f0265a19d7b52a470ee4bac883ba   \n",
       "1        1356  e11cc13f5f29c1a92c1a396a8c7471fb   \n",
       "2        5828  9e367907db2c9b5c0b23fa6c1318eced   \n",
       "3        8660  30ee31b91a437f3c03ac6fb35699f182   \n",
       "4       11035  47746d5cdcd41e5f3b41e3b1206cb1a4   \n",
       "\n",
       "                          School ID                        Teacher ID  \\\n",
       "0  e180c7424cb9c68cb49f141b092a988f  4ee5200e89d9e2998ec8baad8a3c5968   \n",
       "1  e180c7424cb9c68cb49f141b092a988f  4ee5200e89d9e2998ec8baad8a3c5968   \n",
       "2  e180c7424cb9c68cb49f141b092a988f  4ee5200e89d9e2998ec8baad8a3c5968   \n",
       "3  e180c7424cb9c68cb49f141b092a988f  4ee5200e89d9e2998ec8baad8a3c5968   \n",
       "4  e180c7424cb9c68cb49f141b092a988f  4ee5200e89d9e2998ec8baad8a3c5968   \n",
       "\n",
       "   Teacher Project Posted Sequence Project Type  \\\n",
       "0                               25  Teacher-Led   \n",
       "1                               26  Teacher-Led   \n",
       "2                               27  Teacher-Led   \n",
       "3                               28  Teacher-Led   \n",
       "4                               29  Teacher-Led   \n",
       "\n",
       "                                  Project Title  \\\n",
       "0        Stand Up to Bullying: Together We Can!   \n",
       "1  Recipe For Happiness: Children Need Support!   \n",
       "2                             Follow the Money!   \n",
       "3                              Hats Off 2 Math!   \n",
       "4                   We Will Not Stand for Hate!   \n",
       "\n",
       "                                       Project Essay  \\\n",
       "0  Did you know that 1-7 students in grades K-12 ...   \n",
       "1  Did you know that bullying takes many forms? I...   \n",
       "2  What is the price kids pay when they do not un...   \n",
       "3  Do you remember when you wanted to figure out ...   \n",
       "4  I have a dream to help my students understand ...   \n",
       "\n",
       "                           Project Short Description  \\\n",
       "0  Did you know that 1-7 students in grades K-12 ...   \n",
       "1  Did you know that bullying takes many forms? I...   \n",
       "2  What is the price kids pay when they do not un...   \n",
       "3  Do you remember when you wanted to figure out ...   \n",
       "4  I have a dream to help my students understand ...   \n",
       "\n",
       "                              Project Need Statement  \\\n",
       "0  My students need 25 copies of \"Bullying in Sch...   \n",
       "1  My students need the book, \"Bullying in School...   \n",
       "2  My students need money books to discover and i...   \n",
       "3  My students need money books like, \"Alexander,...   \n",
       "4  My students need \"Martin's Big Words,\" a multi...   \n",
       "\n",
       "                 ...                         Project Subject Subcategory Tree  \\\n",
       "0                ...                   Character Education, Early Development   \n",
       "1                ...                   Character Education, Health & Wellness   \n",
       "2                ...                                    Literacy, Mathematics   \n",
       "3                ...                                    Literacy, Mathematics   \n",
       "4                ...                 Character Education, Civics & Government   \n",
       "\n",
       "  Project Grade Level Category Project Resource Category Project Cost  \\\n",
       "0                Grades PreK-2                Technology       361.80   \n",
       "1                Grades PreK-2                Technology       416.24   \n",
       "2                Grades PreK-2                  Supplies       829.08   \n",
       "3                Grades PreK-2                  Supplies       869.98   \n",
       "4                Grades PreK-2                Technology       356.20   \n",
       "\n",
       "   Project Posted Date Project Expiration Date Project Current Status  \\\n",
       "0           2013-01-01              2013-05-30           Fully Funded   \n",
       "1           2013-01-08              2013-06-05           Fully Funded   \n",
       "2           2013-01-25              2013-05-23           Fully Funded   \n",
       "3           2013-02-04              2013-06-02           Fully Funded   \n",
       "4           2013-02-11              2013-06-10           Fully Funded   \n",
       "\n",
       "  Project Fully Funded Date Teacher Prefix Teacher First Project Posted Date  \n",
       "0                2013-01-11           Mrs.                        2011-12-11  \n",
       "1                2013-02-02           Mrs.                        2011-12-11  \n",
       "2                2013-01-25           Mrs.                        2011-12-11  \n",
       "3                2013-02-21           Mrs.                        2011-12-11  \n",
       "4                2013-02-15           Mrs.                        2011-12-11  \n",
       "\n",
       "[5 rows x 21 columns]"
      ]
     },
     "execution_count": 20,
     "metadata": {},
     "output_type": "execute_result"
    }
   ],
   "source": [
    "proj_teach_df = pd.merge(proj_df, teach_df, on='Teacher ID')\n",
    "proj_teach_df.head()"
   ]
  },
  {
   "cell_type": "code",
   "execution_count": 21,
   "metadata": {},
   "outputs": [
    {
     "data": {
      "text/html": [
       "<div>\n",
       "<style>\n",
       "    .dataframe thead tr:only-child th {\n",
       "        text-align: right;\n",
       "    }\n",
       "\n",
       "    .dataframe thead th {\n",
       "        text-align: left;\n",
       "    }\n",
       "\n",
       "    .dataframe tbody tr th {\n",
       "        vertical-align: top;\n",
       "    }\n",
       "</style>\n",
       "<table border=\"1\" class=\"dataframe\">\n",
       "  <thead>\n",
       "    <tr style=\"text-align: right;\">\n",
       "      <th></th>\n",
       "      <th>School ID</th>\n",
       "      <th>School Name</th>\n",
       "      <th>School Metro Type</th>\n",
       "      <th>School Percentage Free Lunch</th>\n",
       "      <th>School State</th>\n",
       "      <th>School Zip</th>\n",
       "      <th>School City</th>\n",
       "      <th>School County</th>\n",
       "      <th>School District</th>\n",
       "    </tr>\n",
       "  </thead>\n",
       "  <tbody>\n",
       "    <tr>\n",
       "      <th>0</th>\n",
       "      <td>00003e0fdd601b8ea0a6eb44057b9c5e</td>\n",
       "      <td>Capon Bridge Middle School</td>\n",
       "      <td>rural</td>\n",
       "      <td>56.0</td>\n",
       "      <td>West Virginia</td>\n",
       "      <td>26711</td>\n",
       "      <td>Capon Bridge</td>\n",
       "      <td>Hampshire</td>\n",
       "      <td>Hampshire Co School District</td>\n",
       "    </tr>\n",
       "  </tbody>\n",
       "</table>\n",
       "</div>"
      ],
      "text/plain": [
       "                          School ID                 School Name  \\\n",
       "0  00003e0fdd601b8ea0a6eb44057b9c5e  Capon Bridge Middle School   \n",
       "\n",
       "  School Metro Type  School Percentage Free Lunch   School State  School Zip  \\\n",
       "0             rural                          56.0  West Virginia       26711   \n",
       "\n",
       "    School City School County               School District  \n",
       "0  Capon Bridge     Hampshire  Hampshire Co School District  "
      ]
     },
     "execution_count": 21,
     "metadata": {},
     "output_type": "execute_result"
    }
   ],
   "source": [
    "school_df.head(1)"
   ]
  },
  {
   "cell_type": "code",
   "execution_count": 22,
   "metadata": {},
   "outputs": [
    {
     "data": {
      "text/html": [
       "<div>\n",
       "<style>\n",
       "    .dataframe thead tr:only-child th {\n",
       "        text-align: right;\n",
       "    }\n",
       "\n",
       "    .dataframe thead th {\n",
       "        text-align: left;\n",
       "    }\n",
       "\n",
       "    .dataframe tbody tr th {\n",
       "        vertical-align: top;\n",
       "    }\n",
       "</style>\n",
       "<table border=\"1\" class=\"dataframe\">\n",
       "  <thead>\n",
       "    <tr style=\"text-align: right;\">\n",
       "      <th></th>\n",
       "      <th>Unnamed: 0</th>\n",
       "      <th>Project ID</th>\n",
       "      <th>School ID</th>\n",
       "      <th>Teacher ID</th>\n",
       "      <th>Teacher Project Posted Sequence</th>\n",
       "      <th>Project Type</th>\n",
       "      <th>Project Title</th>\n",
       "      <th>Project Essay</th>\n",
       "      <th>Project Short Description</th>\n",
       "      <th>Project Need Statement</th>\n",
       "      <th>...</th>\n",
       "      <th>Teacher Prefix</th>\n",
       "      <th>Teacher First Project Posted Date</th>\n",
       "      <th>School Name</th>\n",
       "      <th>School Metro Type</th>\n",
       "      <th>School Percentage Free Lunch</th>\n",
       "      <th>School State</th>\n",
       "      <th>School Zip</th>\n",
       "      <th>School City</th>\n",
       "      <th>School County</th>\n",
       "      <th>School District</th>\n",
       "    </tr>\n",
       "  </thead>\n",
       "  <tbody>\n",
       "    <tr>\n",
       "      <th>0</th>\n",
       "      <td>0</td>\n",
       "      <td>7685f0265a19d7b52a470ee4bac883ba</td>\n",
       "      <td>e180c7424cb9c68cb49f141b092a988f</td>\n",
       "      <td>4ee5200e89d9e2998ec8baad8a3c5968</td>\n",
       "      <td>25</td>\n",
       "      <td>Teacher-Led</td>\n",
       "      <td>Stand Up to Bullying: Together We Can!</td>\n",
       "      <td>Did you know that 1-7 students in grades K-12 ...</td>\n",
       "      <td>Did you know that 1-7 students in grades K-12 ...</td>\n",
       "      <td>My students need 25 copies of \"Bullying in Sch...</td>\n",
       "      <td>...</td>\n",
       "      <td>Mrs.</td>\n",
       "      <td>2011-12-11</td>\n",
       "      <td>Stanford Primary Center</td>\n",
       "      <td>suburban</td>\n",
       "      <td>95.0</td>\n",
       "      <td>California</td>\n",
       "      <td>90280.0</td>\n",
       "      <td>South Gate</td>\n",
       "      <td>Los Angeles</td>\n",
       "      <td>Los Angeles Unif Sch Dist</td>\n",
       "    </tr>\n",
       "    <tr>\n",
       "      <th>1</th>\n",
       "      <td>1356</td>\n",
       "      <td>e11cc13f5f29c1a92c1a396a8c7471fb</td>\n",
       "      <td>e180c7424cb9c68cb49f141b092a988f</td>\n",
       "      <td>4ee5200e89d9e2998ec8baad8a3c5968</td>\n",
       "      <td>26</td>\n",
       "      <td>Teacher-Led</td>\n",
       "      <td>Recipe For Happiness: Children Need Support!</td>\n",
       "      <td>Did you know that bullying takes many forms? I...</td>\n",
       "      <td>Did you know that bullying takes many forms? I...</td>\n",
       "      <td>My students need the book, \"Bullying in School...</td>\n",
       "      <td>...</td>\n",
       "      <td>Mrs.</td>\n",
       "      <td>2011-12-11</td>\n",
       "      <td>Stanford Primary Center</td>\n",
       "      <td>suburban</td>\n",
       "      <td>95.0</td>\n",
       "      <td>California</td>\n",
       "      <td>90280.0</td>\n",
       "      <td>South Gate</td>\n",
       "      <td>Los Angeles</td>\n",
       "      <td>Los Angeles Unif Sch Dist</td>\n",
       "    </tr>\n",
       "    <tr>\n",
       "      <th>2</th>\n",
       "      <td>5828</td>\n",
       "      <td>9e367907db2c9b5c0b23fa6c1318eced</td>\n",
       "      <td>e180c7424cb9c68cb49f141b092a988f</td>\n",
       "      <td>4ee5200e89d9e2998ec8baad8a3c5968</td>\n",
       "      <td>27</td>\n",
       "      <td>Teacher-Led</td>\n",
       "      <td>Follow the Money!</td>\n",
       "      <td>What is the price kids pay when they do not un...</td>\n",
       "      <td>What is the price kids pay when they do not un...</td>\n",
       "      <td>My students need money books to discover and i...</td>\n",
       "      <td>...</td>\n",
       "      <td>Mrs.</td>\n",
       "      <td>2011-12-11</td>\n",
       "      <td>Stanford Primary Center</td>\n",
       "      <td>suburban</td>\n",
       "      <td>95.0</td>\n",
       "      <td>California</td>\n",
       "      <td>90280.0</td>\n",
       "      <td>South Gate</td>\n",
       "      <td>Los Angeles</td>\n",
       "      <td>Los Angeles Unif Sch Dist</td>\n",
       "    </tr>\n",
       "    <tr>\n",
       "      <th>3</th>\n",
       "      <td>8660</td>\n",
       "      <td>30ee31b91a437f3c03ac6fb35699f182</td>\n",
       "      <td>e180c7424cb9c68cb49f141b092a988f</td>\n",
       "      <td>4ee5200e89d9e2998ec8baad8a3c5968</td>\n",
       "      <td>28</td>\n",
       "      <td>Teacher-Led</td>\n",
       "      <td>Hats Off 2 Math!</td>\n",
       "      <td>Do you remember when you wanted to figure out ...</td>\n",
       "      <td>Do you remember when you wanted to figure out ...</td>\n",
       "      <td>My students need money books like, \"Alexander,...</td>\n",
       "      <td>...</td>\n",
       "      <td>Mrs.</td>\n",
       "      <td>2011-12-11</td>\n",
       "      <td>Stanford Primary Center</td>\n",
       "      <td>suburban</td>\n",
       "      <td>95.0</td>\n",
       "      <td>California</td>\n",
       "      <td>90280.0</td>\n",
       "      <td>South Gate</td>\n",
       "      <td>Los Angeles</td>\n",
       "      <td>Los Angeles Unif Sch Dist</td>\n",
       "    </tr>\n",
       "    <tr>\n",
       "      <th>4</th>\n",
       "      <td>11035</td>\n",
       "      <td>47746d5cdcd41e5f3b41e3b1206cb1a4</td>\n",
       "      <td>e180c7424cb9c68cb49f141b092a988f</td>\n",
       "      <td>4ee5200e89d9e2998ec8baad8a3c5968</td>\n",
       "      <td>29</td>\n",
       "      <td>Teacher-Led</td>\n",
       "      <td>We Will Not Stand for Hate!</td>\n",
       "      <td>I have a dream to help my students understand ...</td>\n",
       "      <td>I have a dream to help my students understand ...</td>\n",
       "      <td>My students need \"Martin's Big Words,\" a multi...</td>\n",
       "      <td>...</td>\n",
       "      <td>Mrs.</td>\n",
       "      <td>2011-12-11</td>\n",
       "      <td>Stanford Primary Center</td>\n",
       "      <td>suburban</td>\n",
       "      <td>95.0</td>\n",
       "      <td>California</td>\n",
       "      <td>90280.0</td>\n",
       "      <td>South Gate</td>\n",
       "      <td>Los Angeles</td>\n",
       "      <td>Los Angeles Unif Sch Dist</td>\n",
       "    </tr>\n",
       "  </tbody>\n",
       "</table>\n",
       "<p>5 rows × 29 columns</p>\n",
       "</div>"
      ],
      "text/plain": [
       "   Unnamed: 0                        Project ID  \\\n",
       "0           0  7685f0265a19d7b52a470ee4bac883ba   \n",
       "1        1356  e11cc13f5f29c1a92c1a396a8c7471fb   \n",
       "2        5828  9e367907db2c9b5c0b23fa6c1318eced   \n",
       "3        8660  30ee31b91a437f3c03ac6fb35699f182   \n",
       "4       11035  47746d5cdcd41e5f3b41e3b1206cb1a4   \n",
       "\n",
       "                          School ID                        Teacher ID  \\\n",
       "0  e180c7424cb9c68cb49f141b092a988f  4ee5200e89d9e2998ec8baad8a3c5968   \n",
       "1  e180c7424cb9c68cb49f141b092a988f  4ee5200e89d9e2998ec8baad8a3c5968   \n",
       "2  e180c7424cb9c68cb49f141b092a988f  4ee5200e89d9e2998ec8baad8a3c5968   \n",
       "3  e180c7424cb9c68cb49f141b092a988f  4ee5200e89d9e2998ec8baad8a3c5968   \n",
       "4  e180c7424cb9c68cb49f141b092a988f  4ee5200e89d9e2998ec8baad8a3c5968   \n",
       "\n",
       "   Teacher Project Posted Sequence Project Type  \\\n",
       "0                               25  Teacher-Led   \n",
       "1                               26  Teacher-Led   \n",
       "2                               27  Teacher-Led   \n",
       "3                               28  Teacher-Led   \n",
       "4                               29  Teacher-Led   \n",
       "\n",
       "                                  Project Title  \\\n",
       "0        Stand Up to Bullying: Together We Can!   \n",
       "1  Recipe For Happiness: Children Need Support!   \n",
       "2                             Follow the Money!   \n",
       "3                              Hats Off 2 Math!   \n",
       "4                   We Will Not Stand for Hate!   \n",
       "\n",
       "                                       Project Essay  \\\n",
       "0  Did you know that 1-7 students in grades K-12 ...   \n",
       "1  Did you know that bullying takes many forms? I...   \n",
       "2  What is the price kids pay when they do not un...   \n",
       "3  Do you remember when you wanted to figure out ...   \n",
       "4  I have a dream to help my students understand ...   \n",
       "\n",
       "                           Project Short Description  \\\n",
       "0  Did you know that 1-7 students in grades K-12 ...   \n",
       "1  Did you know that bullying takes many forms? I...   \n",
       "2  What is the price kids pay when they do not un...   \n",
       "3  Do you remember when you wanted to figure out ...   \n",
       "4  I have a dream to help my students understand ...   \n",
       "\n",
       "                              Project Need Statement  \\\n",
       "0  My students need 25 copies of \"Bullying in Sch...   \n",
       "1  My students need the book, \"Bullying in School...   \n",
       "2  My students need money books to discover and i...   \n",
       "3  My students need money books like, \"Alexander,...   \n",
       "4  My students need \"Martin's Big Words,\" a multi...   \n",
       "\n",
       "             ...             Teacher Prefix Teacher First Project Posted Date  \\\n",
       "0            ...                       Mrs.                        2011-12-11   \n",
       "1            ...                       Mrs.                        2011-12-11   \n",
       "2            ...                       Mrs.                        2011-12-11   \n",
       "3            ...                       Mrs.                        2011-12-11   \n",
       "4            ...                       Mrs.                        2011-12-11   \n",
       "\n",
       "               School Name School Metro Type  School Percentage Free Lunch  \\\n",
       "0  Stanford Primary Center          suburban                          95.0   \n",
       "1  Stanford Primary Center          suburban                          95.0   \n",
       "2  Stanford Primary Center          suburban                          95.0   \n",
       "3  Stanford Primary Center          suburban                          95.0   \n",
       "4  Stanford Primary Center          suburban                          95.0   \n",
       "\n",
       "  School State School Zip School City School County            School District  \n",
       "0   California    90280.0  South Gate   Los Angeles  Los Angeles Unif Sch Dist  \n",
       "1   California    90280.0  South Gate   Los Angeles  Los Angeles Unif Sch Dist  \n",
       "2   California    90280.0  South Gate   Los Angeles  Los Angeles Unif Sch Dist  \n",
       "3   California    90280.0  South Gate   Los Angeles  Los Angeles Unif Sch Dist  \n",
       "4   California    90280.0  South Gate   Los Angeles  Los Angeles Unif Sch Dist  \n",
       "\n",
       "[5 rows x 29 columns]"
      ]
     },
     "execution_count": 22,
     "metadata": {},
     "output_type": "execute_result"
    }
   ],
   "source": [
    "all_df = pd.merge(proj_teach_df, school_df, left_on='School ID', right_on='School ID', how='left')\n",
    "all_df.head()"
   ]
  },
  {
   "cell_type": "markdown",
   "metadata": {},
   "source": [
    "## Union"
   ]
  },
  {
   "cell_type": "code",
   "execution_count": 23,
   "metadata": {},
   "outputs": [
    {
     "data": {
      "text/plain": [
       "((99997, 19), (3, 19))"
      ]
     },
     "execution_count": 23,
     "metadata": {},
     "output_type": "execute_result"
    }
   ],
   "source": [
    "df1 = proj_df[proj_df['Project Cost'] >= 100] \n",
    "df2 = proj_df[proj_df['Project Cost'] <= 100] \n",
    "df1.shape, df2.shape"
   ]
  },
  {
   "cell_type": "code",
   "execution_count": 24,
   "metadata": {},
   "outputs": [
    {
     "data": {
      "text/plain": [
       "(100000, 19)"
      ]
     },
     "execution_count": 24,
     "metadata": {},
     "output_type": "execute_result"
    }
   ],
   "source": [
    "pd.concat([df1, df2]).shape"
   ]
  },
  {
   "cell_type": "code",
   "execution_count": 25,
   "metadata": {},
   "outputs": [
    {
     "data": {
      "text/plain": [
       "((100000, 19), (100000, 29))"
      ]
     },
     "execution_count": 25,
     "metadata": {},
     "output_type": "execute_result"
    }
   ],
   "source": [
    "pd.concat([df1, df2]).drop_duplicates().shape, all_df.shape"
   ]
  },
  {
   "cell_type": "markdown",
   "metadata": {},
   "source": [
    "## Order by"
   ]
  },
  {
   "cell_type": "code",
   "execution_count": 26,
   "metadata": {},
   "outputs": [
    {
     "data": {
      "text/plain": [
       "92545    2014-03-03\n",
       "82048    2014-03-03\n",
       "98634    2014-02-26\n",
       "97962    2014-02-26\n",
       "40014    2014-02-24\n",
       "71211    2014-02-24\n",
       "99270    2014-02-24\n",
       "54330    2014-02-24\n",
       "33154    2014-02-23\n",
       "85166    2014-02-23\n",
       "99405    2014-02-23\n",
       "97932    2014-02-22\n",
       "99902    2014-02-22\n",
       "99446    2014-02-22\n",
       "94622    2014-02-21\n",
       "98734    2014-02-21\n",
       "90768    2014-02-21\n",
       "38955    2014-02-21\n",
       "98954    2014-02-21\n",
       "98968    2014-02-21\n",
       "Name: Project Fully Funded Date, dtype: object"
      ]
     },
     "execution_count": 26,
     "metadata": {},
     "output_type": "execute_result"
    }
   ],
   "source": [
    "all_df.sort_values('Project Fully Funded Date', ascending=False).head(20)['Project Fully Funded Date']"
   ]
  },
  {
   "cell_type": "code",
   "execution_count": 27,
   "metadata": {},
   "outputs": [
    {
     "data": {
      "text/html": [
       "<div>\n",
       "<style>\n",
       "    .dataframe thead tr:only-child th {\n",
       "        text-align: right;\n",
       "    }\n",
       "\n",
       "    .dataframe thead th {\n",
       "        text-align: left;\n",
       "    }\n",
       "\n",
       "    .dataframe tbody tr th {\n",
       "        vertical-align: top;\n",
       "    }\n",
       "</style>\n",
       "<table border=\"1\" class=\"dataframe\">\n",
       "  <thead>\n",
       "    <tr style=\"text-align: right;\">\n",
       "      <th></th>\n",
       "      <th>Project Fully Funded Date</th>\n",
       "      <th>Project Cost</th>\n",
       "    </tr>\n",
       "  </thead>\n",
       "  <tbody>\n",
       "    <tr>\n",
       "      <th>82048</th>\n",
       "      <td>2014-03-03</td>\n",
       "      <td>478.98</td>\n",
       "    </tr>\n",
       "    <tr>\n",
       "      <th>92545</th>\n",
       "      <td>2014-03-03</td>\n",
       "      <td>885.25</td>\n",
       "    </tr>\n",
       "    <tr>\n",
       "      <th>97962</th>\n",
       "      <td>2014-02-26</td>\n",
       "      <td>698.62</td>\n",
       "    </tr>\n",
       "    <tr>\n",
       "      <th>98634</th>\n",
       "      <td>2014-02-26</td>\n",
       "      <td>931.62</td>\n",
       "    </tr>\n",
       "    <tr>\n",
       "      <th>99270</th>\n",
       "      <td>2014-02-24</td>\n",
       "      <td>745.56</td>\n",
       "    </tr>\n",
       "    <tr>\n",
       "      <th>40014</th>\n",
       "      <td>2014-02-24</td>\n",
       "      <td>980.76</td>\n",
       "    </tr>\n",
       "    <tr>\n",
       "      <th>71211</th>\n",
       "      <td>2014-02-24</td>\n",
       "      <td>1152.81</td>\n",
       "    </tr>\n",
       "    <tr>\n",
       "      <th>54330</th>\n",
       "      <td>2014-02-24</td>\n",
       "      <td>1933.79</td>\n",
       "    </tr>\n",
       "    <tr>\n",
       "      <th>85166</th>\n",
       "      <td>2014-02-23</td>\n",
       "      <td>272.92</td>\n",
       "    </tr>\n",
       "    <tr>\n",
       "      <th>33154</th>\n",
       "      <td>2014-02-23</td>\n",
       "      <td>551.31</td>\n",
       "    </tr>\n",
       "    <tr>\n",
       "      <th>99405</th>\n",
       "      <td>2014-02-23</td>\n",
       "      <td>559.52</td>\n",
       "    </tr>\n",
       "    <tr>\n",
       "      <th>99902</th>\n",
       "      <td>2014-02-22</td>\n",
       "      <td>515.78</td>\n",
       "    </tr>\n",
       "    <tr>\n",
       "      <th>97932</th>\n",
       "      <td>2014-02-22</td>\n",
       "      <td>647.14</td>\n",
       "    </tr>\n",
       "    <tr>\n",
       "      <th>99446</th>\n",
       "      <td>2014-02-22</td>\n",
       "      <td>728.38</td>\n",
       "    </tr>\n",
       "    <tr>\n",
       "      <th>98968</th>\n",
       "      <td>2014-02-21</td>\n",
       "      <td>190.52</td>\n",
       "    </tr>\n",
       "    <tr>\n",
       "      <th>90768</th>\n",
       "      <td>2014-02-21</td>\n",
       "      <td>472.06</td>\n",
       "    </tr>\n",
       "    <tr>\n",
       "      <th>94622</th>\n",
       "      <td>2014-02-21</td>\n",
       "      <td>506.45</td>\n",
       "    </tr>\n",
       "    <tr>\n",
       "      <th>98283</th>\n",
       "      <td>2014-02-21</td>\n",
       "      <td>531.91</td>\n",
       "    </tr>\n",
       "    <tr>\n",
       "      <th>38955</th>\n",
       "      <td>2014-02-21</td>\n",
       "      <td>658.84</td>\n",
       "    </tr>\n",
       "    <tr>\n",
       "      <th>98954</th>\n",
       "      <td>2014-02-21</td>\n",
       "      <td>740.93</td>\n",
       "    </tr>\n",
       "  </tbody>\n",
       "</table>\n",
       "</div>"
      ],
      "text/plain": [
       "      Project Fully Funded Date  Project Cost\n",
       "82048                2014-03-03        478.98\n",
       "92545                2014-03-03        885.25\n",
       "97962                2014-02-26        698.62\n",
       "98634                2014-02-26        931.62\n",
       "99270                2014-02-24        745.56\n",
       "40014                2014-02-24        980.76\n",
       "71211                2014-02-24       1152.81\n",
       "54330                2014-02-24       1933.79\n",
       "85166                2014-02-23        272.92\n",
       "33154                2014-02-23        551.31\n",
       "99405                2014-02-23        559.52\n",
       "99902                2014-02-22        515.78\n",
       "97932                2014-02-22        647.14\n",
       "99446                2014-02-22        728.38\n",
       "98968                2014-02-21        190.52\n",
       "90768                2014-02-21        472.06\n",
       "94622                2014-02-21        506.45\n",
       "98283                2014-02-21        531.91\n",
       "38955                2014-02-21        658.84\n",
       "98954                2014-02-21        740.93"
      ]
     },
     "execution_count": 27,
     "metadata": {},
     "output_type": "execute_result"
    }
   ],
   "source": [
    "all_df.sort_values(\n",
    "    ['Project Fully Funded Date', 'Project Cost'], \n",
    "    ascending=[False, True]\n",
    "    # inplace=True  # if you don't want to create a new dataframe\n",
    ").head(20)[['Project Fully Funded Date', 'Project Cost']]"
   ]
  },
  {
   "cell_type": "markdown",
   "metadata": {},
   "source": [
    "# A Brief Note About DataFrames\n",
    "\n",
    "1. INPLACE=True: DataFrames will usually default to creating (and returning) an entirely new DataFrame. This is not always desirable if, e.g., your data consumes a lot of memory. You can often supply an option `inplace=True` which will transform the current dataframe.\n",
    "2. Copy vs View: Some operations create a copy of the existing DataFrame, while others only create a View of the DataFrame so that the same data is used. Usually, when filtering, you get a View, while at other times you can get a Copy. With the View, any changes to data will affect the original dataframe, whereas this is not the case in a Copy. IF YOU WANT TO MAKE SURE YOU HAVE A COPY, call `.copy()` explicitly.\n",
    "3. Convert SAS date to Python datetime: see https://stackoverflow.com/questions/36500348/convert-a-sas-datetime-in-pandas (NB: you may need to set `unit='d'`\n"
   ]
  },
  {
   "cell_type": "markdown",
   "metadata": {},
   "source": [
    "# Cleaning/Modifying Data\n",
    "\n",
    "* df.loc\n",
    "* df.iloc\n",
    "* paradigm of setting new column"
   ]
  },
  {
   "cell_type": "markdown",
   "metadata": {},
   "source": [
    "## df.iloc\n",
    "\n",
    "* access columns/rows by index\n",
    "* `df.iloc[:, :]`  - all columns/rows"
   ]
  },
  {
   "cell_type": "code",
   "execution_count": 28,
   "metadata": {},
   "outputs": [
    {
     "data": {
      "text/html": [
       "<div>\n",
       "<style>\n",
       "    .dataframe thead tr:only-child th {\n",
       "        text-align: right;\n",
       "    }\n",
       "\n",
       "    .dataframe thead th {\n",
       "        text-align: left;\n",
       "    }\n",
       "\n",
       "    .dataframe tbody tr th {\n",
       "        vertical-align: top;\n",
       "    }\n",
       "</style>\n",
       "<table border=\"1\" class=\"dataframe\">\n",
       "  <thead>\n",
       "    <tr style=\"text-align: right;\">\n",
       "      <th></th>\n",
       "      <th>Teacher Project Posted Sequence</th>\n",
       "      <th>Project Type</th>\n",
       "    </tr>\n",
       "  </thead>\n",
       "  <tbody>\n",
       "    <tr>\n",
       "      <th>0</th>\n",
       "      <td>25</td>\n",
       "      <td>Teacher-Led</td>\n",
       "    </tr>\n",
       "    <tr>\n",
       "      <th>1</th>\n",
       "      <td>3</td>\n",
       "      <td>Teacher-Led</td>\n",
       "    </tr>\n",
       "    <tr>\n",
       "      <th>2</th>\n",
       "      <td>1</td>\n",
       "      <td>Teacher-Led</td>\n",
       "    </tr>\n",
       "  </tbody>\n",
       "</table>\n",
       "</div>"
      ],
      "text/plain": [
       "   Teacher Project Posted Sequence Project Type\n",
       "0                               25  Teacher-Led\n",
       "1                                3  Teacher-Led\n",
       "2                                1  Teacher-Led"
      ]
     },
     "execution_count": 28,
     "metadata": {},
     "output_type": "execute_result"
    }
   ],
   "source": [
    "proj_df.iloc[:3, 4:6]  # first 3 rows and 4th and 5th columns"
   ]
  },
  {
   "cell_type": "markdown",
   "metadata": {},
   "source": [
    "## df.loc\n",
    "\n",
    "* access columns/rows by labels (rows are usually numeric by index)"
   ]
  },
  {
   "cell_type": "code",
   "execution_count": 29,
   "metadata": {},
   "outputs": [
    {
     "data": {
      "text/plain": [
       "Int64Index([    0,     1,     2,     3,     4,     5,     6,     7,     8,\n",
       "                9,\n",
       "            ...\n",
       "            99990, 99991, 99992, 99993, 99994, 99995, 99996, 99997, 99998,\n",
       "            99999],\n",
       "           dtype='int64', length=100000)"
      ]
     },
     "execution_count": 29,
     "metadata": {},
     "output_type": "execute_result"
    }
   ],
   "source": [
    "proj_df.index"
   ]
  },
  {
   "cell_type": "code",
   "execution_count": 30,
   "metadata": {},
   "outputs": [
    {
     "data": {
      "text/plain": [
       "0    361.80\n",
       "1    512.85\n",
       "2    435.92\n",
       "3    161.26\n",
       "Name: Project Cost, dtype: float64"
      ]
     },
     "execution_count": 30,
     "metadata": {},
     "output_type": "execute_result"
    }
   ],
   "source": [
    "proj_df.loc[:3, 'Project Cost']"
   ]
  },
  {
   "cell_type": "markdown",
   "metadata": {},
   "source": [
    "## Creating new columns"
   ]
  },
  {
   "cell_type": "code",
   "execution_count": 31,
   "metadata": {},
   "outputs": [
    {
     "data": {
      "text/html": [
       "<div>\n",
       "<style>\n",
       "    .dataframe thead tr:only-child th {\n",
       "        text-align: right;\n",
       "    }\n",
       "\n",
       "    .dataframe thead th {\n",
       "        text-align: left;\n",
       "    }\n",
       "\n",
       "    .dataframe tbody tr th {\n",
       "        vertical-align: top;\n",
       "    }\n",
       "</style>\n",
       "<table border=\"1\" class=\"dataframe\">\n",
       "  <thead>\n",
       "    <tr style=\"text-align: right;\">\n",
       "      <th></th>\n",
       "      <th>cost_euros</th>\n",
       "      <th>Project Cost</th>\n",
       "    </tr>\n",
       "  </thead>\n",
       "  <tbody>\n",
       "    <tr>\n",
       "      <th>0</th>\n",
       "      <td>311</td>\n",
       "      <td>361.80</td>\n",
       "    </tr>\n",
       "    <tr>\n",
       "      <th>1</th>\n",
       "      <td>441</td>\n",
       "      <td>512.85</td>\n",
       "    </tr>\n",
       "    <tr>\n",
       "      <th>2</th>\n",
       "      <td>375</td>\n",
       "      <td>435.92</td>\n",
       "    </tr>\n",
       "    <tr>\n",
       "      <th>3</th>\n",
       "      <td>139</td>\n",
       "      <td>161.26</td>\n",
       "    </tr>\n",
       "    <tr>\n",
       "      <th>4</th>\n",
       "      <td>227</td>\n",
       "      <td>264.19</td>\n",
       "    </tr>\n",
       "    <tr>\n",
       "      <th>5</th>\n",
       "      <td>151</td>\n",
       "      <td>175.15</td>\n",
       "    </tr>\n",
       "    <tr>\n",
       "      <th>6</th>\n",
       "      <td>2598</td>\n",
       "      <td>3020.59</td>\n",
       "    </tr>\n",
       "    <tr>\n",
       "      <th>7</th>\n",
       "      <td>487</td>\n",
       "      <td>566.19</td>\n",
       "    </tr>\n",
       "    <tr>\n",
       "      <th>8</th>\n",
       "      <td>292</td>\n",
       "      <td>339.20</td>\n",
       "    </tr>\n",
       "    <tr>\n",
       "      <th>9</th>\n",
       "      <td>487</td>\n",
       "      <td>566.73</td>\n",
       "    </tr>\n",
       "  </tbody>\n",
       "</table>\n",
       "</div>"
      ],
      "text/plain": [
       "   cost_euros  Project Cost\n",
       "0         311        361.80\n",
       "1         441        512.85\n",
       "2         375        435.92\n",
       "3         139        161.26\n",
       "4         227        264.19\n",
       "5         151        175.15\n",
       "6        2598       3020.59\n",
       "7         487        566.19\n",
       "8         292        339.20\n",
       "9         487        566.73"
      ]
     },
     "execution_count": 31,
     "metadata": {},
     "output_type": "execute_result"
    }
   ],
   "source": [
    "exchange_rate = 0.86\n",
    "proj_df['cost_euros'] = (proj_df['Project Cost'] * exchange_rate).apply(round)  # or str\n",
    "proj_df[['cost_euros', 'Project Cost']].head(10)"
   ]
  },
  {
   "cell_type": "code",
   "execution_count": 32,
   "metadata": {},
   "outputs": [
    {
     "data": {
      "text/html": [
       "<div>\n",
       "<style>\n",
       "    .dataframe thead tr:only-child th {\n",
       "        text-align: right;\n",
       "    }\n",
       "\n",
       "    .dataframe thead th {\n",
       "        text-align: left;\n",
       "    }\n",
       "\n",
       "    .dataframe tbody tr th {\n",
       "        vertical-align: top;\n",
       "    }\n",
       "</style>\n",
       "<table border=\"1\" class=\"dataframe\">\n",
       "  <thead>\n",
       "    <tr style=\"text-align: right;\">\n",
       "      <th></th>\n",
       "      <th>datetime</th>\n",
       "    </tr>\n",
       "  </thead>\n",
       "  <tbody>\n",
       "    <tr>\n",
       "      <th>0</th>\n",
       "      <td>1.775376e+09</td>\n",
       "    </tr>\n",
       "    <tr>\n",
       "      <th>1</th>\n",
       "      <td>1.775377e+09</td>\n",
       "    </tr>\n",
       "  </tbody>\n",
       "</table>\n",
       "</div>"
      ],
      "text/plain": [
       "       datetime\n",
       "0  1.775376e+09\n",
       "1  1.775377e+09"
      ]
     },
     "execution_count": 32,
     "metadata": {},
     "output_type": "execute_result"
    }
   ],
   "source": [
    "# sas dates\n",
    "df = pd.DataFrame({'datetime':[1775376002.0, 1775377002.0]})\n",
    "df"
   ]
  },
  {
   "cell_type": "code",
   "execution_count": 33,
   "metadata": {},
   "outputs": [
    {
     "data": {
      "text/plain": [
       "0   2016-04-04 08:00:02\n",
       "1   2016-04-04 08:16:42\n",
       "Name: datetime, dtype: datetime64[ns]"
      ]
     },
     "execution_count": 33,
     "metadata": {},
     "output_type": "execute_result"
    }
   ],
   "source": [
    "# s=seconds; d=days\n",
    "pd.to_timedelta(df['datetime'], unit='s') + pd.datetime(1960, 1, 1)  # or `unit='d'` for dates"
   ]
  },
  {
   "cell_type": "markdown",
   "metadata": {},
   "source": [
    "# Plotting\n",
    "\n",
    "Pandas plotting is both _basic_ but also incredibly _powerful_.\n",
    "\n",
    "* For a fun gallery, check out: https://pandas.pydata.org/pandas-docs/stable/visualization.html\n",
    "* For a set of color maps, see: https://matplotlib.org/tutorials/colors/colormaps.html\n",
    "\n",
    "Typically, what we want to look at is __counts__, so you'll see a lot of `df['column'].value_counts()` or `df.groupby('column')['column2'].sum()`."
   ]
  },
  {
   "cell_type": "code",
   "execution_count": 34,
   "metadata": {},
   "outputs": [
    {
     "name": "stdout",
     "output_type": "stream",
     "text": [
      "Populating the interactive namespace from numpy and matplotlib\n"
     ]
    }
   ],
   "source": [
    "%pylab inline\n",
    "# show graphs in-line"
   ]
  },
  {
   "cell_type": "code",
   "execution_count": 35,
   "metadata": {},
   "outputs": [
    {
     "data": {
      "text/plain": [
       "Index(['School ID', 'School Name', 'School Metro Type',\n",
       "       'School Percentage Free Lunch', 'School State', 'School Zip',\n",
       "       'School City', 'School County', 'School District'],\n",
       "      dtype='object')"
      ]
     },
     "execution_count": 35,
     "metadata": {},
     "output_type": "execute_result"
    }
   ],
   "source": [
    "school_df.columns"
   ]
  },
  {
   "cell_type": "code",
   "execution_count": 36,
   "metadata": {},
   "outputs": [
    {
     "data": {
      "text/plain": [
       "<matplotlib.axes._subplots.AxesSubplot at 0x22aca7bf160>"
      ]
     },
     "execution_count": 36,
     "metadata": {},
     "output_type": "execute_result"
    },
    {
     "data": {
      "image/png": "[encoded data removed]",
      "text/plain": [
       "<matplotlib.figure.Figure at 0x22aca7b5828>"
      ]
     },
     "metadata": {},
     "output_type": "display_data"
    }
   ],
   "source": [
    "school_df['School State'].value_counts().plot.bar(figsize=(10, 8))"
   ]
  },
  {
   "cell_type": "code",
   "execution_count": 37,
   "metadata": {},
   "outputs": [
    {
     "data": {
      "text/plain": [
       "<matplotlib.axes._subplots.AxesSubplot at 0x22acaf17eb8>"
      ]
     },
     "execution_count": 37,
     "metadata": {},
     "output_type": "execute_result"
    },
    {
     "data": {
      "image/png": "[encoded data removed]",
      "text/plain": [
       "<matplotlib.figure.Figure at 0x22aca7bf0b8>"
      ]
     },
     "metadata": {},
     "output_type": "display_data"
    }
   ],
   "source": [
    "all_df.groupby('School State')['Project Cost'].sum().plot.bar(figsize=(10, 8))"
   ]
  },
  {
   "cell_type": "code",
   "execution_count": 38,
   "metadata": {},
   "outputs": [
    {
     "data": {
      "text/plain": [
       "<matplotlib.axes._subplots.AxesSubplot at 0x22ac12c0898>"
      ]
     },
     "execution_count": 38,
     "metadata": {},
     "output_type": "execute_result"
    },
    {
     "data": {
      "image/png": "[encoded data removed]",
      "text/plain": [
       "<matplotlib.figure.Figure at 0x22ac10c2f60>"
      ]
     },
     "metadata": {},
     "output_type": "display_data"
    }
   ],
   "source": [
    "all_df.groupby('School State')['Project Cost'].mean().sort_values(ascending=False).plot.bar(figsize=(10, 8))"
   ]
  },
  {
   "cell_type": "code",
   "execution_count": 39,
   "metadata": {},
   "outputs": [
    {
     "data": {
      "text/plain": [
       "<matplotlib.axes._subplots.AxesSubplot at 0x22ac1815ef0>"
      ]
     },
     "execution_count": 39,
     "metadata": {},
     "output_type": "execute_result"
    },
    {
     "data": {
      "image/png": "[encoded data removed]",
      "text/plain": [
       "<matplotlib.figure.Figure at 0x22ac17be9e8>"
      ]
     },
     "metadata": {},
     "output_type": "display_data"
    }
   ],
   "source": [
    "all_df.groupby('School State')['Project Cost'].mean().sort_values(ascending=False).plot.pie(figsize=(10, 8))"
   ]
  },
  {
   "cell_type": "code",
   "execution_count": 40,
   "metadata": {},
   "outputs": [],
   "source": [
    "all_df['time_gap'] = all_df.apply(\n",
    "    lambda x: \n",
    "    pd.to_datetime(x['Project Fully Funded Date']) - \n",
    "    pd.to_datetime(x['Project Posted Date']), axis=1)"
   ]
  },
  {
   "cell_type": "code",
   "execution_count": 41,
   "metadata": {},
   "outputs": [
    {
     "data": {
      "text/plain": [
       "0   10 days\n",
       "1   25 days\n",
       "2    0 days\n",
       "3   17 days\n",
       "4    4 days\n",
       "Name: time_gap, dtype: timedelta64[ns]"
      ]
     },
     "execution_count": 41,
     "metadata": {},
     "output_type": "execute_result"
    }
   ],
   "source": [
    "all_df['time_gap'].head()"
   ]
  },
  {
   "cell_type": "code",
   "execution_count": 42,
   "metadata": {},
   "outputs": [
    {
     "data": {
      "text/plain": [
       "<matplotlib.axes._subplots.AxesSubplot at 0x22ac196acf8>"
      ]
     },
     "execution_count": 42,
     "metadata": {},
     "output_type": "execute_result"
    },
    {
     "data": {
      "image/png": "[encoded data removed]",
      "text/plain": [
       "<matplotlib.figure.Figure at 0x22acaf7e198>"
      ]
     },
     "metadata": {},
     "output_type": "display_data"
    }
   ],
   "source": [
    "all_df['time_gap'].value_counts().plot.hist(bins=100)"
   ]
  },
  {
   "cell_type": "code",
   "execution_count": 43,
   "metadata": {
    "scrolled": true
   },
   "outputs": [
    {
     "data": {
      "text/plain": [
       "1 days      4227\n",
       "2 days      3447\n",
       "3 days      3321\n",
       "0 days      3165\n",
       "4 days      3014\n",
       "7 days      3013\n",
       "6 days      2840\n",
       "5 days      2765\n",
       "8 days      1685\n",
       "9 days      1275\n",
       "10 days     1035\n",
       "11 days      941\n",
       "12 days      924\n",
       "17 days      885\n",
       "16 days      878\n",
       "15 days      811\n",
       "18 days      805\n",
       "13 days      750\n",
       "14 days      728\n",
       "19 days      721\n",
       "30 days      707\n",
       "22 days      693\n",
       "31 days      683\n",
       "25 days      651\n",
       "24 days      648\n",
       "23 days      645\n",
       "34 days      641\n",
       "20 days      639\n",
       "21 days      631\n",
       "26 days      607\n",
       "            ... \n",
       "124 days      16\n",
       "147 days      15\n",
       "143 days      15\n",
       "126 days      15\n",
       "137 days      14\n",
       "148 days      14\n",
       "145 days      14\n",
       "129 days      13\n",
       "131 days      13\n",
       "138 days      13\n",
       "125 days      13\n",
       "133 days      12\n",
       "144 days      11\n",
       "140 days      11\n",
       "134 days      11\n",
       "142 days      10\n",
       "141 days       9\n",
       "136 days       9\n",
       "127 days       9\n",
       "132 days       8\n",
       "139 days       8\n",
       "135 days       7\n",
       "149 days       6\n",
       "130 days       4\n",
       "151 days       2\n",
       "152 days       1\n",
       "159 days       1\n",
       "150 days       1\n",
       "172 days       1\n",
       "156 days       1\n",
       "Name: time_gap, Length: 156, dtype: int64"
      ]
     },
     "execution_count": 43,
     "metadata": {},
     "output_type": "execute_result"
    }
   ],
   "source": [
    "all_df['time_gap'].value_counts()"
   ]
  },
  {
   "cell_type": "code",
   "execution_count": 44,
   "metadata": {},
   "outputs": [
    {
     "data": {
      "text/plain": [
       "<matplotlib.text.Text at 0x22ac07b2470>"
      ]
     },
     "execution_count": 44,
     "metadata": {},
     "output_type": "execute_result"
    },
    {
     "data": {
      "image/png": "[encoded data removed]",
      "text/plain": [
       "<matplotlib.figure.Figure at 0x22ac05220b8>"
      ]
     },
     "metadata": {},
     "output_type": "display_data"
    }
   ],
   "source": [
    "# matplotlib allows us to do more with our graphs (e.g., adding labels)\n",
    "import matplotlib.pyplot as plt\n",
    "\n",
    "school_df['School Metro Type'].value_counts().plot.pie(autopct='%1.2f%%')\n",
    "plt.title('Percentage of Metro Type')"
   ]
  },
  {
   "cell_type": "code",
   "execution_count": 45,
   "metadata": {},
   "outputs": [
    {
     "data": {
      "text/plain": [
       "<matplotlib.text.Text at 0x22ab5a6b5c0>"
      ]
     },
     "execution_count": 45,
     "metadata": {},
     "output_type": "execute_result"
    },
    {
     "data": {
      "image/png": "[encoded data removed]",
      "text/plain": [
       "<matplotlib.figure.Figure at 0x22ac06b4f98>"
      ]
     },
     "metadata": {},
     "output_type": "display_data"
    }
   ],
   "source": [
    "all_df['Project Grade Level Category'].value_counts().plot.pie(autopct='%1.2f%%')\n",
    "plt.title('Grade Category')"
   ]
  },
  {
   "cell_type": "code",
   "execution_count": 46,
   "metadata": {},
   "outputs": [
    {
     "data": {
      "text/html": [
       "<div>\n",
       "<style>\n",
       "    .dataframe thead tr:only-child th {\n",
       "        text-align: right;\n",
       "    }\n",
       "\n",
       "    .dataframe thead th {\n",
       "        text-align: left;\n",
       "    }\n",
       "\n",
       "    .dataframe tbody tr th {\n",
       "        vertical-align: top;\n",
       "    }\n",
       "</style>\n",
       "<table border=\"1\" class=\"dataframe\">\n",
       "  <thead>\n",
       "    <tr style=\"text-align: right;\">\n",
       "      <th></th>\n",
       "      <th>Unnamed: 0</th>\n",
       "      <th>Project ID</th>\n",
       "      <th>School ID</th>\n",
       "      <th>Teacher ID</th>\n",
       "      <th>Teacher Project Posted Sequence</th>\n",
       "      <th>Project Type</th>\n",
       "      <th>Project Title</th>\n",
       "      <th>Project Essay</th>\n",
       "      <th>Project Short Description</th>\n",
       "      <th>Project Need Statement</th>\n",
       "      <th>Project Subject Category Tree</th>\n",
       "      <th>Project Subject Subcategory Tree</th>\n",
       "      <th>Project Grade Level Category</th>\n",
       "      <th>Project Resource Category</th>\n",
       "      <th>Project Cost</th>\n",
       "      <th>Project Posted Date</th>\n",
       "      <th>Project Expiration Date</th>\n",
       "      <th>Project Current Status</th>\n",
       "      <th>Project Fully Funded Date</th>\n",
       "      <th>cost_euros</th>\n",
       "    </tr>\n",
       "  </thead>\n",
       "  <tbody>\n",
       "    <tr>\n",
       "      <th>0</th>\n",
       "      <td>0</td>\n",
       "      <td>7685f0265a19d7b52a470ee4bac883ba</td>\n",
       "      <td>e180c7424cb9c68cb49f141b092a988f</td>\n",
       "      <td>4ee5200e89d9e2998ec8baad8a3c5968</td>\n",
       "      <td>25</td>\n",
       "      <td>Teacher-Led</td>\n",
       "      <td>Stand Up to Bullying: Together We Can!</td>\n",
       "      <td>Did you know that 1-7 students in grades K-12 ...</td>\n",
       "      <td>Did you know that 1-7 students in grades K-12 ...</td>\n",
       "      <td>My students need 25 copies of \"Bullying in Sch...</td>\n",
       "      <td>Applied Learning</td>\n",
       "      <td>Character Education, Early Development</td>\n",
       "      <td>Grades PreK-2</td>\n",
       "      <td>Technology</td>\n",
       "      <td>361.80</td>\n",
       "      <td>2013-01-01</td>\n",
       "      <td>2013-05-30</td>\n",
       "      <td>Fully Funded</td>\n",
       "      <td>2013-01-11</td>\n",
       "      <td>311</td>\n",
       "    </tr>\n",
       "    <tr>\n",
       "      <th>1</th>\n",
       "      <td>1</td>\n",
       "      <td>f9f4af7099061fb4bf44642a03e5c331</td>\n",
       "      <td>08b20f1e2125103ed7aa17e8d76c71d4</td>\n",
       "      <td>cca2d1d277fb4adb50147b49cdc3b156</td>\n",
       "      <td>3</td>\n",
       "      <td>Teacher-Led</td>\n",
       "      <td>Learning in Color!</td>\n",
       "      <td>Help us have a fun, interactive listening cent...</td>\n",
       "      <td>Help us have a fun, interactive listening cent...</td>\n",
       "      <td>My students need a listening center, read alon...</td>\n",
       "      <td>Applied Learning, Literacy &amp; Language</td>\n",
       "      <td>Early Development, Literacy</td>\n",
       "      <td>Grades PreK-2</td>\n",
       "      <td>Technology</td>\n",
       "      <td>512.85</td>\n",
       "      <td>2013-01-01</td>\n",
       "      <td>2013-05-31</td>\n",
       "      <td>Expired</td>\n",
       "      <td>NaN</td>\n",
       "      <td>441</td>\n",
       "    </tr>\n",
       "    <tr>\n",
       "      <th>2</th>\n",
       "      <td>2</td>\n",
       "      <td>afd99a01739ad5557b51b1ba0174e832</td>\n",
       "      <td>1287f5128b1f36bf8434e5705a7cc04d</td>\n",
       "      <td>6c5bd0d4f20547a001628aefd71de89e</td>\n",
       "      <td>1</td>\n",
       "      <td>Teacher-Led</td>\n",
       "      <td>Help Second Grade ESL Students Develop Languag...</td>\n",
       "      <td>Visiting or moving to a new place can be very ...</td>\n",
       "      <td>Visiting or moving to a new place can be very ...</td>\n",
       "      <td>My students need beginning vocabulary audio ca...</td>\n",
       "      <td>Literacy &amp; Language</td>\n",
       "      <td>ESL</td>\n",
       "      <td>Grades PreK-2</td>\n",
       "      <td>Supplies</td>\n",
       "      <td>435.92</td>\n",
       "      <td>2013-01-01</td>\n",
       "      <td>2013-05-30</td>\n",
       "      <td>Fully Funded</td>\n",
       "      <td>2013-05-22</td>\n",
       "      <td>375</td>\n",
       "    </tr>\n",
       "    <tr>\n",
       "      <th>3</th>\n",
       "      <td>3</td>\n",
       "      <td>c614a38bb1a5e68e2ae6ad9d94bb2492</td>\n",
       "      <td>900fec9cd7a3188acbc90586a09584ef</td>\n",
       "      <td>8ed6f8181d092a8f4c008b18d18e54ad</td>\n",
       "      <td>40</td>\n",
       "      <td>Teacher-Led</td>\n",
       "      <td>Help Bilingual Students Strengthen Reading Com...</td>\n",
       "      <td>Students at our school are still working hard ...</td>\n",
       "      <td>Students at our school are still working hard ...</td>\n",
       "      <td>My students need one copy of each book in The ...</td>\n",
       "      <td>Literacy &amp; Language</td>\n",
       "      <td>ESL, Literacy</td>\n",
       "      <td>Grades 3-5</td>\n",
       "      <td>Books</td>\n",
       "      <td>161.26</td>\n",
       "      <td>2013-01-01</td>\n",
       "      <td>2013-05-31</td>\n",
       "      <td>Fully Funded</td>\n",
       "      <td>2013-02-06</td>\n",
       "      <td>139</td>\n",
       "    </tr>\n",
       "    <tr>\n",
       "      <th>4</th>\n",
       "      <td>4</td>\n",
       "      <td>ec82a697fab916c0db0cdad746338df9</td>\n",
       "      <td>3b200e7fe3e6dde3c169c02e5fb5ae86</td>\n",
       "      <td>893173d62775f8be7c30bf4220ad0c33</td>\n",
       "      <td>2</td>\n",
       "      <td>Teacher-Led</td>\n",
       "      <td>Help Us Make Each Minute Count!</td>\n",
       "      <td>\"Idle hands\" were something that Issac Watts s...</td>\n",
       "      <td>\"Idle hands\" were something that Issac Watts s...</td>\n",
       "      <td>My students need items such as Velcro, two pou...</td>\n",
       "      <td>Special Needs</td>\n",
       "      <td>Special Needs</td>\n",
       "      <td>Grades 3-5</td>\n",
       "      <td>Supplies</td>\n",
       "      <td>264.19</td>\n",
       "      <td>2013-01-01</td>\n",
       "      <td>2013-05-30</td>\n",
       "      <td>Fully Funded</td>\n",
       "      <td>2013-01-01</td>\n",
       "      <td>227</td>\n",
       "    </tr>\n",
       "  </tbody>\n",
       "</table>\n",
       "</div>"
      ],
      "text/plain": [
       "   Unnamed: 0                        Project ID  \\\n",
       "0           0  7685f0265a19d7b52a470ee4bac883ba   \n",
       "1           1  f9f4af7099061fb4bf44642a03e5c331   \n",
       "2           2  afd99a01739ad5557b51b1ba0174e832   \n",
       "3           3  c614a38bb1a5e68e2ae6ad9d94bb2492   \n",
       "4           4  ec82a697fab916c0db0cdad746338df9   \n",
       "\n",
       "                          School ID                        Teacher ID  \\\n",
       "0  e180c7424cb9c68cb49f141b092a988f  4ee5200e89d9e2998ec8baad8a3c5968   \n",
       "1  08b20f1e2125103ed7aa17e8d76c71d4  cca2d1d277fb4adb50147b49cdc3b156   \n",
       "2  1287f5128b1f36bf8434e5705a7cc04d  6c5bd0d4f20547a001628aefd71de89e   \n",
       "3  900fec9cd7a3188acbc90586a09584ef  8ed6f8181d092a8f4c008b18d18e54ad   \n",
       "4  3b200e7fe3e6dde3c169c02e5fb5ae86  893173d62775f8be7c30bf4220ad0c33   \n",
       "\n",
       "   Teacher Project Posted Sequence Project Type  \\\n",
       "0                               25  Teacher-Led   \n",
       "1                                3  Teacher-Led   \n",
       "2                                1  Teacher-Led   \n",
       "3                               40  Teacher-Led   \n",
       "4                                2  Teacher-Led   \n",
       "\n",
       "                                       Project Title  \\\n",
       "0             Stand Up to Bullying: Together We Can!   \n",
       "1                                 Learning in Color!   \n",
       "2  Help Second Grade ESL Students Develop Languag...   \n",
       "3  Help Bilingual Students Strengthen Reading Com...   \n",
       "4                   Help Us Make Each Minute Count!    \n",
       "\n",
       "                                       Project Essay  \\\n",
       "0  Did you know that 1-7 students in grades K-12 ...   \n",
       "1  Help us have a fun, interactive listening cent...   \n",
       "2  Visiting or moving to a new place can be very ...   \n",
       "3  Students at our school are still working hard ...   \n",
       "4  \"Idle hands\" were something that Issac Watts s...   \n",
       "\n",
       "                           Project Short Description  \\\n",
       "0  Did you know that 1-7 students in grades K-12 ...   \n",
       "1  Help us have a fun, interactive listening cent...   \n",
       "2  Visiting or moving to a new place can be very ...   \n",
       "3  Students at our school are still working hard ...   \n",
       "4  \"Idle hands\" were something that Issac Watts s...   \n",
       "\n",
       "                              Project Need Statement  \\\n",
       "0  My students need 25 copies of \"Bullying in Sch...   \n",
       "1  My students need a listening center, read alon...   \n",
       "2  My students need beginning vocabulary audio ca...   \n",
       "3  My students need one copy of each book in The ...   \n",
       "4  My students need items such as Velcro, two pou...   \n",
       "\n",
       "           Project Subject Category Tree  \\\n",
       "0                       Applied Learning   \n",
       "1  Applied Learning, Literacy & Language   \n",
       "2                    Literacy & Language   \n",
       "3                    Literacy & Language   \n",
       "4                          Special Needs   \n",
       "\n",
       "         Project Subject Subcategory Tree Project Grade Level Category  \\\n",
       "0  Character Education, Early Development                Grades PreK-2   \n",
       "1             Early Development, Literacy                Grades PreK-2   \n",
       "2                                     ESL                Grades PreK-2   \n",
       "3                           ESL, Literacy                   Grades 3-5   \n",
       "4                           Special Needs                   Grades 3-5   \n",
       "\n",
       "  Project Resource Category  Project Cost Project Posted Date  \\\n",
       "0                Technology        361.80          2013-01-01   \n",
       "1                Technology        512.85          2013-01-01   \n",
       "2                  Supplies        435.92          2013-01-01   \n",
       "3                     Books        161.26          2013-01-01   \n",
       "4                  Supplies        264.19          2013-01-01   \n",
       "\n",
       "  Project Expiration Date Project Current Status Project Fully Funded Date  \\\n",
       "0              2013-05-30           Fully Funded                2013-01-11   \n",
       "1              2013-05-31                Expired                       NaN   \n",
       "2              2013-05-30           Fully Funded                2013-05-22   \n",
       "3              2013-05-31           Fully Funded                2013-02-06   \n",
       "4              2013-05-30           Fully Funded                2013-01-01   \n",
       "\n",
       "   cost_euros  \n",
       "0         311  \n",
       "1         441  \n",
       "2         375  \n",
       "3         139  \n",
       "4         227  "
      ]
     },
     "execution_count": 46,
     "metadata": {},
     "output_type": "execute_result"
    }
   ],
   "source": [
    "proj_df.head()"
   ]
  },
  {
   "cell_type": "code",
   "execution_count": 47,
   "metadata": {},
   "outputs": [
    {
     "data": {
      "text/plain": [
       "<matplotlib.axes._subplots.AxesSubplot at 0x22ac0bda748>"
      ]
     },
     "execution_count": 47,
     "metadata": {},
     "output_type": "execute_result"
    },
    {
     "data": {
      "image/png": "[encoded data removed]",
      "text/plain": [
       "<matplotlib.figure.Figure at 0x22ac0cb9198>"
      ]
     },
     "metadata": {},
     "output_type": "display_data"
    }
   ],
   "source": [
    "proj_df['Project Subject Category Tree'].value_counts().plot.pie(autopct='%1.2f%%')"
   ]
  },
  {
   "cell_type": "code",
   "execution_count": 48,
   "metadata": {},
   "outputs": [
    {
     "data": {
      "text/plain": [
       "Literacy & Language                      25644\n",
       "Math & Science                           14961\n",
       "Literacy & Language, Math & Science      13790\n",
       "Music & The Arts                          5635\n",
       "Literacy & Language, Special Needs        4039\n",
       "Applied Learning                          3706\n",
       "Applied Learning, Literacy & Language     3475\n",
       "Math & Science, Literacy & Language       2950\n",
       "Literacy & Language, Music & The Arts     2417\n",
       "Special Needs                             2416\n",
       "History & Civics, Literacy & Language     2270\n",
       "Health & Sports                           2026\n",
       "History & Civics                          2020\n",
       "Applied Learning, Special Needs           1898\n",
       "Math & Science, Special Needs             1619\n",
       "Literacy & Language, History & Civics     1581\n",
       "Applied Learning, Math & Science          1215\n",
       "Applied Learning, Music & The Arts        1057\n",
       "Math & Science, Music & The Arts           934\n",
       "Literacy & Language, Applied Learning      834\n",
       "Math & Science, History & Civics           774\n",
       "Math & Science, Applied Learning           726\n",
       "History & Civics, Math & Science           573\n",
       "History & Civics, Music & The Arts         507\n",
       "Health & Sports, Special Needs             432\n",
       "Applied Learning, Health & Sports          414\n",
       "Applied Learning, History & Civics         339\n",
       "Special Needs, Music & The Arts            320\n",
       "Math & Science, Health & Sports            314\n",
       "Health & Sports, Literacy & Language       236\n",
       "History & Civics, Special Needs            210\n",
       "Music & The Arts, Special Needs            132\n",
       "Health & Sports, Music & The Arts          103\n",
       "Health & Sports, Math & Science             85\n",
       "Health & Sports, Applied Learning           82\n",
       "Literacy & Language, Health & Sports        62\n",
       "History & Civics, Applied Learning          49\n",
       "Music & The Arts, History & Civics          46\n",
       "Special Needs, Health & Sports              33\n",
       "Music & The Arts, Applied Learning          21\n",
       "Health & Sports, History & Civics           13\n",
       "History & Civics, Health & Sports           12\n",
       "Music & The Arts, Health & Sports            8\n",
       "Name: Project Subject Category Tree, dtype: int64"
      ]
     },
     "execution_count": 48,
     "metadata": {},
     "output_type": "execute_result"
    }
   ],
   "source": [
    "proj_df['Project Subject Category Tree'].value_counts()"
   ]
  },
  {
   "cell_type": "code",
   "execution_count": 49,
   "metadata": {
    "collapsed": true
   },
   "outputs": [],
   "source": [
    "proj2_df = proj_df.dropna()"
   ]
  },
  {
   "cell_type": "code",
   "execution_count": 50,
   "metadata": {},
   "outputs": [
    {
     "data": {
      "text/plain": [
       "['Applied Learning',\n",
       " 'Literacy & Language',\n",
       " 'Special Needs',\n",
       " 'Math & Science',\n",
       " 'Health & Sports',\n",
       " 'Music & The Arts',\n",
       " 'History & Civics']"
      ]
     },
     "execution_count": 50,
     "metadata": {},
     "output_type": "execute_result"
    }
   ],
   "source": [
    "subjects = list(proj2_df[-proj2_df['Project Subject Category Tree'].dropna().str.contains(',')]['Project Subject Category Tree'].unique())\n",
    "subjects"
   ]
  },
  {
   "cell_type": "code",
   "execution_count": 51,
   "metadata": {},
   "outputs": [],
   "source": [
    "subject_df = pd.DataFrame()\n",
    "subject_list = []\n",
    "for subject in subjects:\n",
    "    subject_df[subject] = proj_df['Project Subject Category Tree'].fillna('').str.contains(subject).apply(int).value_counts()\n",
    "    subject_list += [subject] * subject_df.loc[0, subject]\n",
    "subject_s = pd.Series(subject_list)"
   ]
  },
  {
   "cell_type": "code",
   "execution_count": 52,
   "metadata": {},
   "outputs": [
    {
     "data": {
      "text/html": [
       "<div>\n",
       "<style>\n",
       "    .dataframe thead tr:only-child th {\n",
       "        text-align: right;\n",
       "    }\n",
       "\n",
       "    .dataframe thead th {\n",
       "        text-align: left;\n",
       "    }\n",
       "\n",
       "    .dataframe tbody tr th {\n",
       "        vertical-align: top;\n",
       "    }\n",
       "</style>\n",
       "<table border=\"1\" class=\"dataframe\">\n",
       "  <thead>\n",
       "    <tr style=\"text-align: right;\">\n",
       "      <th></th>\n",
       "      <th>Applied Learning</th>\n",
       "      <th>Literacy &amp; Language</th>\n",
       "      <th>Special Needs</th>\n",
       "      <th>Math &amp; Science</th>\n",
       "      <th>Health &amp; Sports</th>\n",
       "      <th>Music &amp; The Arts</th>\n",
       "      <th>History &amp; Civics</th>\n",
       "    </tr>\n",
       "  </thead>\n",
       "  <tbody>\n",
       "    <tr>\n",
       "      <th>0</th>\n",
       "      <td>86184</td>\n",
       "      <td>42702</td>\n",
       "      <td>88901</td>\n",
       "      <td>62059</td>\n",
       "      <td>96180</td>\n",
       "      <td>88820</td>\n",
       "      <td>91606</td>\n",
       "    </tr>\n",
       "    <tr>\n",
       "      <th>1</th>\n",
       "      <td>13816</td>\n",
       "      <td>57298</td>\n",
       "      <td>11099</td>\n",
       "      <td>37941</td>\n",
       "      <td>3820</td>\n",
       "      <td>11180</td>\n",
       "      <td>8394</td>\n",
       "    </tr>\n",
       "  </tbody>\n",
       "</table>\n",
       "</div>"
      ],
      "text/plain": [
       "   Applied Learning  Literacy & Language  Special Needs  Math & Science  \\\n",
       "0             86184                42702          88901           62059   \n",
       "1             13816                57298          11099           37941   \n",
       "\n",
       "   Health & Sports  Music & The Arts  History & Civics  \n",
       "0            96180             88820             91606  \n",
       "1             3820             11180              8394  "
      ]
     },
     "execution_count": 52,
     "metadata": {},
     "output_type": "execute_result"
    }
   ],
   "source": [
    "subject_df"
   ]
  },
  {
   "cell_type": "code",
   "execution_count": 53,
   "metadata": {},
   "outputs": [
    {
     "data": {
      "text/plain": [
       "array([<matplotlib.axes._subplots.AxesSubplot object at 0x0000022AC14D8D30>,\n",
       "       <matplotlib.axes._subplots.AxesSubplot object at 0x0000022AC133E828>,\n",
       "       <matplotlib.axes._subplots.AxesSubplot object at 0x0000022AC1E6A320>,\n",
       "       <matplotlib.axes._subplots.AxesSubplot object at 0x0000022AC11F3860>,\n",
       "       <matplotlib.axes._subplots.AxesSubplot object at 0x0000022AC2DB24A8>,\n",
       "       <matplotlib.axes._subplots.AxesSubplot object at 0x0000022AC2DB24E0>,\n",
       "       <matplotlib.axes._subplots.AxesSubplot object at 0x0000022AC264CF28>], dtype=object)"
      ]
     },
     "execution_count": 53,
     "metadata": {},
     "output_type": "execute_result"
    },
    {
     "data": {
      "image/png": "[encoded data removed]",
      "text/plain": [
       "<matplotlib.figure.Figure at 0x22aba1de710>"
      ]
     },
     "metadata": {},
     "output_type": "display_data"
    }
   ],
   "source": [
    "subject_df.plot.pie(subplots=True)"
   ]
  },
  {
   "cell_type": "code",
   "execution_count": 54,
   "metadata": {},
   "outputs": [
    {
     "data": {
      "text/plain": [
       "Health & Sports        96180\n",
       "History & Civics       91606\n",
       "Special Needs          88901\n",
       "Music & The Arts       88820\n",
       "Applied Learning       86184\n",
       "Math & Science         62059\n",
       "Literacy & Language    42702\n",
       "dtype: int64"
      ]
     },
     "execution_count": 54,
     "metadata": {},
     "output_type": "execute_result"
    }
   ],
   "source": [
    "subject_s.value_counts()"
   ]
  },
  {
   "cell_type": "code",
   "execution_count": 55,
   "metadata": {},
   "outputs": [
    {
     "data": {
      "text/plain": [
       "<matplotlib.axes._subplots.AxesSubplot at 0x22ac22fdc88>"
      ]
     },
     "execution_count": 55,
     "metadata": {},
     "output_type": "execute_result"
    },
    {
     "data": {
      "image/png": "[encoded data removed]",
      "text/plain": [
       "<matplotlib.figure.Figure at 0x22ac22fbb38>"
      ]
     },
     "metadata": {},
     "output_type": "display_data"
    }
   ],
   "source": [
    "# colormaps: https://matplotlib.org/tutorials/colors/colormaps.html\n",
    "subject_s.value_counts().plot.pie(colormap='PiYG', autopct='%1.2f%%')"
   ]
  },
  {
   "cell_type": "code",
   "execution_count": 56,
   "metadata": {},
   "outputs": [
    {
     "data": {
      "text/plain": [
       "<matplotlib.axes._subplots.AxesSubplot at 0x22ab22c93c8>"
      ]
     },
     "execution_count": 56,
     "metadata": {},
     "output_type": "execute_result"
    },
    {
     "data": {
      "image/png": "[encoded data removed]",
      "text/plain": [
       "<matplotlib.figure.Figure at 0x22ab22ea0b8>"
      ]
     },
     "metadata": {},
     "output_type": "display_data"
    }
   ],
   "source": [
    "school_df[['School Metro Type', 'School Percentage Free Lunch']].boxplot(by='School Metro Type')"
   ]
  },
  {
   "cell_type": "markdown",
   "metadata": {},
   "source": [
    "## Seaborn\n",
    "\n",
    "Pandas plays well with a lot of very useful graphing libraries, often with a much easier means of generating useful plots."
   ]
  },
  {
   "cell_type": "code",
   "execution_count": 57,
   "metadata": {},
   "outputs": [
    {
     "data": {
      "text/plain": [
       "<matplotlib.axes._subplots.AxesSubplot at 0x22ab1f9abe0>"
      ]
     },
     "execution_count": 57,
     "metadata": {},
     "output_type": "execute_result"
    },
    {
     "data": {
      "image/png": "[encoded data removed]",
      "text/plain": [
       "<matplotlib.figure.Figure at 0x22ab1f4d0f0>"
      ]
     },
     "metadata": {},
     "output_type": "display_data"
    }
   ],
   "source": [
    "import seaborn as sns\n",
    "\n",
    "sns.set(rc={'figure.figsize':(20,10)})\n",
    "sns.boxplot(school_df['School Percentage Free Lunch'],school_df['School Metro Type'])"
   ]
  },
  {
   "cell_type": "code",
   "execution_count": 58,
   "metadata": {},
   "outputs": [
    {
     "data": {
      "text/plain": [
       "<matplotlib.axes._subplots.AxesSubplot at 0x22ab0a7e710>"
      ]
     },
     "execution_count": 58,
     "metadata": {},
     "output_type": "execute_result"
    },
    {
     "data": {
      "image/png": "[encoded data removed]",
      "text/plain": [
       "<matplotlib.figure.Figure at 0x22ab5c87048>"
      ]
     },
     "metadata": {},
     "output_type": "display_data"
    }
   ],
   "source": [
    "sns.violinplot(school_df['School Percentage Free Lunch'],school_df['School Metro Type'])"
   ]
  }
 ],
 "metadata": {
  "kernelspec": {
   "display_name": "Python 3",
   "language": "python",
   "name": "python3"
  },
  "language_info": {
   "codemirror_mode": {
    "name": "ipython",
    "version": 3
   },
   "file_extension": ".py",
   "mimetype": "text/x-python",
   "name": "python",
   "nbconvert_exporter": "python",
   "pygments_lexer": "ipython3",
   "version": "3.6.1"
  }
 },
 "nbformat": 4,
 "nbformat_minor": 2
}
