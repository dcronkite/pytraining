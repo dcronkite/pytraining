{
 "cells": [
  {
   "cell_type": "markdown",
   "metadata": {},
   "source": [
    "# Exceptions\n",
    "Let's start by reviewing exceptions. These are useful when something could go wrong (and with messy data, things always go wrong).\n",
    "\n",
    "```\n",
    "try:\n",
    "    do_something()\n",
    "except ErrorName:\n",
    "    pass\n",
    "```"
   ]
  },
  {
   "cell_type": "markdown",
   "metadata": {
    "collapsed": true
   },
   "source": [
    "We'll start off by reviewing and exploring exceptions."
   ]
  },
  {
   "cell_type": "code",
   "execution_count": null,
   "metadata": {
    "collapsed": true
   },
   "outputs": [],
   "source": [
    "# Write a try-except expression around this error\n",
    "print(a)"
   ]
  },
  {
   "cell_type": "markdown",
   "metadata": {},
   "source": [
    "If you didn't use the name of the exception, go ahead and add it!\n",
    "(you may need to run it in order to know what exception you get)"
   ]
  },
  {
   "cell_type": "code",
   "execution_count": null,
   "metadata": {
    "collapsed": true
   },
   "outputs": [],
   "source": [
    "print(a)"
   ]
  },
  {
   "cell_type": "markdown",
   "metadata": {},
   "source": [
    "For this next example, we want a list with ten elements that squares whatever input the user provided.\n",
    "\n",
    "A couple notes:\n",
    "* The user doesn't necessarily provide all 10 inputs--for these examples, just put a zero as a placeholder\n",
    "* You can see what's going on for the first block, but the next ones won't work.\n",
    "* Hint: Use a `try-except` statement to determine whether the element is present rather than an `if` statement."
   ]
  },
  {
   "cell_type": "code",
   "execution_count": null,
   "metadata": {
    "collapsed": true
   },
   "outputs": [],
   "source": [
    "def double_list(user_input):\n",
    "    lst = []\n",
    "    for i in range(10):\n",
    "        lst.append(user_input[i] ** 2)\n",
    "    return lst"
   ]
  },
  {
   "cell_type": "code",
   "execution_count": null,
   "metadata": {},
   "outputs": [],
   "source": [
    "# these will work\n",
    "print(double_list([1, 2, 3, 5, 0,\n",
    "                   2, 99, 20, -1, 0.2]))\n",
    "print(double_list([1.2, 2., 3, 5, 0,\n",
    "                   2, 99, 20, -1, .7,\n",
    "                   10, 2, 0, 1]))\n"
   ]
  },
  {
   "cell_type": "code",
   "execution_count": null,
   "metadata": {},
   "outputs": [],
   "source": [
    "# these require some modification in the function above\n",
    "# after modifying the function above, re-run it with Ctrl+Enter\n",
    "print(double_list([2, 5, -1]))\n",
    "print(double_list([9, 0.5, -1., 2, 5]))"
   ]
  },
  {
   "cell_type": "markdown",
   "metadata": {},
   "source": [
    "Hopefully, you used the form of `except` which takes a particular exception (`TypeError`)--otherwise you may need to add it here.\n",
    "\n",
    "Now, someone decided to pass strings as input. We don't want zeroes for these--we want to print a message and then re-raise the exception so the user knows they messed up.\n",
    "\n",
    "To add a second exception, you just add one more line:\n",
    "\n",
    "```\n",
    "try:\n",
    "    do_something()\n",
    "except TypeError:\n",
    "    pass\n",
    "except ValueError:\n",
    "    pass\n",
    "```"
   ]
  },
  {
   "cell_type": "code",
   "execution_count": null,
   "metadata": {},
   "outputs": [],
   "source": [
    "# Modify the double_list function so that it prints a warning message to the user.\n",
    "# (E.g., tell them which index has the problematic element)\n",
    "double_list([1.2, 2., 3, 'hi', 0,\n",
    "             2, 99, 20, -1, .7,\n",
    "             10, 2, 0, 1])\n"
   ]
  },
  {
   "cell_type": "code",
   "execution_count": null,
   "metadata": {},
   "outputs": [],
   "source": [
    "# HINT: Printing two different element types\n",
    "print('string', 2, 2.0)"
   ]
  },
  {
   "cell_type": "markdown",
   "metadata": {},
   "source": [
    "The warning message is useful, but it doesn't stop execution, and so we end up with a 9-element list. Oops.\n",
    "\n",
    "To resolve this, we can use the `raise` keyword. Just put it after your print statement. Give it a try!\n",
    "\n",
    "```\n",
    "try:\n",
    "    do_something()\n",
    "except TypeError:\n",
    "    pass\n",
    "except ValueError:\n",
    "    print('Something')\n",
    "    raise\n",
    "```"
   ]
  },
  {
   "cell_type": "code",
   "execution_count": null,
   "metadata": {},
   "outputs": [],
   "source": [
    "# this should cause an error\n",
    "# when you do \"raise\" it \"raises\" the error\n",
    "double_list([1.2, 2., 3, 'hi', 0,\n",
    "             2, 99, 20, -1, .7,\n",
    "             10, 2, 0, 1])"
   ]
  },
  {
   "cell_type": "markdown",
   "metadata": {},
   "source": [
    "# Functions\n",
    "Let's review functions.\n",
    "\n",
    "First, recall that the goals of using functions are:\n",
    "* Make code reusable (like a macro in SAS)\n",
    "* Break up execution so that code is easier to read and maintain\n",
    "\n",
    "The basic format is:\n",
    "```\n",
    "def function_name(arg1, arg2, default_arg=2): \n",
    "    # function_body\n",
    "    print(arg1, arg2, default_arg)\n",
    "    return arg1 + arg2  # return is optional\n",
    "```"
   ]
  },
  {
   "cell_type": "code",
   "execution_count": null,
   "metadata": {
    "collapsed": true
   },
   "outputs": [],
   "source": [
    "# let's start with a function that adds two numbers together\n",
    "def add(x, y):\n",
    "    return x + y"
   ]
  },
  {
   "cell_type": "code",
   "execution_count": null,
   "metadata": {},
   "outputs": [],
   "source": [
    "# here's some tests to prove it works\n",
    "print(add(2, 2) == 4)\n",
    "print(add(5, -9) == -4)"
   ]
  },
  {
   "cell_type": "code",
   "execution_count": null,
   "metadata": {
    "collapsed": true
   },
   "outputs": [],
   "source": [
    "# what about multiplying two numbers?\n",
    "# write a function here that passes the tests and call it `multiply`\n",
    "\n",
    "\n"
   ]
  },
  {
   "cell_type": "code",
   "execution_count": null,
   "metadata": {
    "collapsed": true
   },
   "outputs": [],
   "source": [
    "# run these tests to make sure it works\n",
    "print(multiply(2, 2) == 4)\n",
    "print(multiply(-1, -9) == 9)\n",
    "# write one test for yourself\n",
    "print(False)  # write test here"
   ]
  },
  {
   "cell_type": "markdown",
   "metadata": {},
   "source": [
    "Functions are very powerful in Python. Part of this is that functions can be used to call other functions.\n",
    "\n",
    "Let's write a function that takes a function and two other numbers (x and y are fine) and does to them what the function says.\n",
    "\n",
    "Here the function 'signature':\n",
    "\n",
    "```\n",
    "def apply_function(func, x, y)\n",
    "```\n",
    "\n",
    "In the above, `func` can be either `add` or `product`.\n",
    "\n",
    "Don't forget the return statement!"
   ]
  },
  {
   "cell_type": "code",
   "execution_count": null,
   "metadata": {
    "collapsed": true
   },
   "outputs": [],
   "source": [
    "# def apply_function(func, x, y)"
   ]
  },
  {
   "cell_type": "code",
   "execution_count": null,
   "metadata": {
    "collapsed": true
   },
   "outputs": [],
   "source": [
    "# write some additional tests for this\n",
    "print(apply_function(add, 2, 2) == 4)"
   ]
  },
  {
   "cell_type": "markdown",
   "metadata": {},
   "source": [
    "#### Do you know? (This cell is Extra Credit)\n",
    "* What other datatypes (or combinations of datetypes) can be passed into the apply_function? "
   ]
  },
  {
   "cell_type": "markdown",
   "metadata": {},
   "source": [
    "It's unfortunate that we can only have two items. For this, we can use `*args`. I'll write the `add` function to do this.\n",
    "\n",
    "The `*args` and `**kwargs` keywords are difficult concepts, so give them a try even if you don't fully grasp them. The examples will help\n",
    "to elucidate the concept--and we'll cover them again in our next class."
   ]
  },
  {
   "cell_type": "code",
   "execution_count": null,
   "metadata": {
    "collapsed": true
   },
   "outputs": [],
   "source": [
    "def add(*args):\n",
    "    print(\"Arguments in function\", args, type(args))  # its a tuple/list!\n",
    "    total = 0\n",
    "    for arg in args:  # go through each element\n",
    "        total += arg  # equivalent to `total = total + arg`\n",
    "    return total"
   ]
  },
  {
   "cell_type": "code",
   "execution_count": null,
   "metadata": {
    "collapsed": true
   },
   "outputs": [],
   "source": [
    "# write some tests to make sure this works\n",
    "print(add == None)"
   ]
  },
  {
   "cell_type": "code",
   "execution_count": null,
   "metadata": {
    "collapsed": true
   },
   "outputs": [],
   "source": [
    "# Now, your turn to right the new version of multiply:\n",
    "def multiply(*args):\n",
    "    pass"
   ]
  },
  {
   "cell_type": "code",
   "execution_count": null,
   "metadata": {
    "collapsed": true
   },
   "outputs": [],
   "source": [
    "# write some tests to make sure you got it right"
   ]
  },
  {
   "cell_type": "code",
   "execution_count": null,
   "metadata": {
    "collapsed": true
   },
   "outputs": [],
   "source": [
    "# Now, modify the apply_function\n",
    "# the method signature should be: apply_function(func, *args)"
   ]
  },
  {
   "cell_type": "code",
   "execution_count": null,
   "metadata": {
    "collapsed": true
   },
   "outputs": [],
   "source": [
    "# write some tests"
   ]
  },
  {
   "cell_type": "markdown",
   "metadata": {},
   "source": [
    "Great job!"
   ]
  },
  {
   "cell_type": "markdown",
   "metadata": {},
   "source": [
    "# Extra Credit\n",
    "\n",
    "This is looking at some advanced stuff we worked on at the very end of last week's tutorial: anonymous functions (lambdas).\n",
    "\n",
    "These work by using a special syntax (with the word `lambda`) and do not have the typical `def function_name` format since they are nameless.\n",
    "\n",
    "Let's explore!"
   ]
  },
  {
   "cell_type": "code",
   "execution_count": null,
   "metadata": {},
   "outputs": [],
   "source": [
    "type(lambda : 0), type(add)"
   ]
  },
  {
   "cell_type": "markdown",
   "metadata": {},
   "source": [
    "It's a function, but doesn't look like one. Interesting...here's how it works.\n",
    "\n",
    "* The lambda keyword is what tells Python that we have an anonymous function.\n",
    "* The space before the colon is for the arguments\n",
    "* The space after the colon is the return statement\n",
    "\n",
    "```\n",
    "lambda args : return statement\n",
    "```"
   ]
  },
  {
   "cell_type": "code",
   "execution_count": null,
   "metadata": {},
   "outputs": [],
   "source": [
    "# What will this return?\n",
    "func = lambda : 0\n",
    "func()  # the double parentheses is how any function is called (compare the add function)"
   ]
  },
  {
   "cell_type": "code",
   "execution_count": null,
   "metadata": {},
   "outputs": [],
   "source": [
    "# Now, let's modify to require 1 parameter, but still return 0\n",
    "f = lambda x : 0\n",
    "f()  # oops, forgot the parameter! Add anything between the parentheses"
   ]
  },
  {
   "cell_type": "code",
   "execution_count": null,
   "metadata": {},
   "outputs": [],
   "source": [
    "# How would we return the value we put in?\n",
    "f = lambda x: x\n",
    "f(2)"
   ]
  },
  {
   "cell_type": "code",
   "execution_count": null,
   "metadata": {
    "collapsed": true
   },
   "outputs": [],
   "source": [
    "# Extra**2 credit\n",
    "# What's going on here?\n",
    "f(f)(2)"
   ]
  },
  {
   "cell_type": "code",
   "execution_count": null,
   "metadata": {
    "collapsed": true
   },
   "outputs": [],
   "source": [
    "# It's your turn, add a second argument (y)\n",
    "f = lambda x: x\n",
    "f(2, 3)"
   ]
  },
  {
   "cell_type": "code",
   "execution_count": null,
   "metadata": {
    "collapsed": true
   },
   "outputs": [],
   "source": [
    "# Return x + y\n",
    "f = lambda x: x\n",
    "f(2, 3)  # 5"
   ]
  },
  {
   "cell_type": "markdown",
   "metadata": {},
   "source": [
    "## Why is this useful?\n",
    "\n",
    "It's not usually useful in the form shown above--although the concept can help drive in what a function is: it takes parameters as input and provides something in return.\n",
    "\n",
    "Lambda expressions can be much more useful when using certain functions/methods or functional programming aspects of Python (for the latter, see: https://medium.com/@happymishra66/lambda-map-and-filter-in-python-4935f248593). Here's an example of the previous."
   ]
  },
  {
   "cell_type": "code",
   "execution_count": null,
   "metadata": {
    "collapsed": true
   },
   "outputs": [],
   "source": [
    "# let's sort this list by age\n",
    "data = [  # name, age\n",
    "    ('James', 21),\n",
    "    ('Jacques', 38),\n",
    "    ('Marawan', 8),\n",
    "    ('Olaf', 99)\n",
    "]"
   ]
  },
  {
   "cell_type": "code",
   "execution_count": null,
   "metadata": {},
   "outputs": [],
   "source": [
    "help(sorted)"
   ]
  },
  {
   "cell_type": "code",
   "execution_count": null,
   "metadata": {},
   "outputs": [],
   "source": [
    "sorted(data)  # sorts by name"
   ]
  },
  {
   "cell_type": "code",
   "execution_count": null,
   "metadata": {},
   "outputs": [],
   "source": [
    "# we can use the \"key\" attribute with a lambda\n",
    "sorted(data, key=lambda x: x[1])  # for each tuple `x`, grab the `1` index (2nd index)\n"
   ]
  },
  {
   "cell_type": "code",
   "execution_count": null,
   "metadata": {},
   "outputs": [],
   "source": [
    "# oldest to youngest\n",
    "sorted(data, key=lambda x: x[1], reverse=True)"
   ]
  },
  {
   "cell_type": "code",
   "execution_count": null,
   "metadata": {
    "collapsed": true
   },
   "outputs": [],
   "source": []
  }
 ],
 "metadata": {
  "kernelspec": {
   "display_name": "Python 3",
   "language": "python",
   "name": "python3"
  },
  "language_info": {
   "codemirror_mode": {
    "name": "ipython",
    "version": 3
   },
   "file_extension": ".py",
   "mimetype": "text/x-python",
   "name": "python",
   "nbconvert_exporter": "python",
   "pygments_lexer": "ipython3",
   "version": "3.6.1"
  }
 },
 "nbformat": 4,
 "nbformat_minor": 1
}
