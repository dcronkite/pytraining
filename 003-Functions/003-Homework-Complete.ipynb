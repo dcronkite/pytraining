{
 "cells": [
  {
   "cell_type": "markdown",
   "metadata": {},
   "source": [
    "# Exceptions\n",
    "Let's start by reviewing exceptions. These are useful when something could go wrong (and with messy data, things always go wrong).\n",
    "\n",
    "```\n",
    "try:\n",
    "    do_something()\n",
    "except ErrorName:\n",
    "    pass\n",
    "```"
   ]
  },
  {
   "cell_type": "markdown",
   "metadata": {
    "collapsed": true
   },
   "source": [
    "We'll start off by reviewing and exploring exceptions."
   ]
  },
  {
   "cell_type": "code",
   "execution_count": 1,
   "metadata": {
    "collapsed": true
   },
   "outputs": [],
   "source": [
    "# Write a try-except expression around this error\n",
    "try:\n",
    "    print(a)\n",
    "except NameError:\n",
    "    pass"
   ]
  },
  {
   "cell_type": "markdown",
   "metadata": {},
   "source": [
    "If you didn't use the name of the exception, go ahead and add it!\n",
    "(you may need to run it in order to know what exception you get)"
   ]
  },
  {
   "cell_type": "code",
   "execution_count": 2,
   "metadata": {
    "collapsed": true
   },
   "outputs": [],
   "source": [
    "try:\n",
    "    print(a)\n",
    "except NameError:\n",
    "    pass"
   ]
  },
  {
   "cell_type": "markdown",
   "metadata": {},
   "source": [
    "For this next example, we want a list with ten elements that squares whatever input the user provided.\n",
    "\n",
    "A couple notes:\n",
    "* The user doesn't necessarily provide all 10 inputs--for these examples, just put a zero as a placeholder\n",
    "* You can see what's going on for the first block, but the next ones won't work.\n",
    "* Hint: Use a `try-except` statement to determine whether the element is present rather than an `if` statement."
   ]
  },
  {
   "cell_type": "code",
   "execution_count": 3,
   "metadata": {
    "collapsed": true
   },
   "outputs": [],
   "source": [
    "def double_list(user_input):\n",
    "    lst = []\n",
    "    for i in range(10):\n",
    "        lst.append(user_input[i] ** 2)\n",
    "    return lst"
   ]
  },
  {
   "cell_type": "code",
   "execution_count": 4,
   "metadata": {},
   "outputs": [
    {
     "name": "stdout",
     "output_type": "stream",
     "text": [
      "[1, 4, 9, 25, 0, 4, 9801, 400, 1, 0.04000000000000001]\n",
      "[1.44, 4.0, 9, 25, 0, 4, 9801, 400, 1, 0.48999999999999994]\n"
     ]
    }
   ],
   "source": [
    "# these will work\n",
    "print(double_list([1, 2, 3, 5, 0,\n",
    "                   2, 99, 20, -1, 0.2]))\n",
    "print(double_list([1.2, 2., 3, 5, 0,\n",
    "                   2, 99, 20, -1, .7,\n",
    "                   10, 2, 0, 1]))\n"
   ]
  },
  {
   "cell_type": "code",
   "execution_count": 5,
   "metadata": {
    "collapsed": true
   },
   "outputs": [],
   "source": [
    "def double_list(user_input):\n",
    "    lst = []\n",
    "    for i in range(10):\n",
    "        try:\n",
    "            lst.append(user_input[i] ** 2)\n",
    "        except IndexError:\n",
    "            lst.append(0)\n",
    "    return lst"
   ]
  },
  {
   "cell_type": "code",
   "execution_count": 6,
   "metadata": {},
   "outputs": [
    {
     "name": "stdout",
     "output_type": "stream",
     "text": [
      "[4, 25, 1, 0, 0, 0, 0, 0, 0, 0]\n",
      "[81, 0.25, 1.0, 4, 25, 0, 0, 0, 0, 0]\n"
     ]
    }
   ],
   "source": [
    "# these require some modification in the function above\n",
    "# after modifying the function above, re-run it with Ctrl+Enter\n",
    "print(double_list([2, 5, -1]))\n",
    "print(double_list([9, 0.5, -1., 2, 5]))"
   ]
  },
  {
   "cell_type": "markdown",
   "metadata": {},
   "source": [
    "Hopefully, you used the form of `except` which takes a particular exception (`TypeError`)--otherwise you may need to add it here.\n",
    "\n",
    "Now, someone decided to pass strings as input. We don't want zeroes for these--we want to print a message and then re-raise the exception so the user knows they messed up.\n",
    "\n",
    "To add a second exception, you just add one more line:\n",
    "\n",
    "```\n",
    "try:\n",
    "    do_something()\n",
    "except TypeError:\n",
    "    pass\n",
    "except ValueError:\n",
    "    pass\n",
    "```"
   ]
  },
  {
   "cell_type": "code",
   "execution_count": 7,
   "metadata": {
    "collapsed": true
   },
   "outputs": [],
   "source": [
    "def double_list(user_input):\n",
    "    lst = []\n",
    "    for i in range(10):\n",
    "        try:\n",
    "            lst.append(user_input[i] ** 2)\n",
    "        except IndexError:\n",
    "            lst.append(0)\n",
    "        except TypeError as e:\n",
    "            print('Wrong type', e)\n",
    "    return lst"
   ]
  },
  {
   "cell_type": "code",
   "execution_count": 8,
   "metadata": {},
   "outputs": [
    {
     "name": "stdout",
     "output_type": "stream",
     "text": [
      "Wrong type unsupported operand type(s) for ** or pow(): 'str' and 'int'\n"
     ]
    },
    {
     "data": {
      "text/plain": [
       "[1.44, 4.0, 9, 0, 4, 9801, 400, 1, 0.48999999999999994]"
      ]
     },
     "execution_count": 8,
     "metadata": {},
     "output_type": "execute_result"
    }
   ],
   "source": [
    "# Modify the double_list function so that it prints a warning message to the user.\n",
    "# (E.g., tell them which index has the problematic element)\n",
    "double_list([1.2, 2., 3, 'hi', 0,\n",
    "             2, 99, 20, -1, .7,\n",
    "             10, 2, 0, 1])\n"
   ]
  },
  {
   "cell_type": "code",
   "execution_count": 23,
   "metadata": {},
   "outputs": [
    {
     "name": "stdout",
     "output_type": "stream",
     "text": [
      "string 2 2.0\n"
     ]
    }
   ],
   "source": [
    "# HINT: Printing two different element types\n",
    "print('string', 2, 2.0)"
   ]
  },
  {
   "cell_type": "markdown",
   "metadata": {},
   "source": [
    "The warning message is useful, but it doesn't stop execution, and so we end up with a 9-element list. Oops.\n",
    "\n",
    "To resolve this, we can use the `raise` keyword. Just put it after your print statement. Give it a try!\n",
    "\n",
    "```\n",
    "try:\n",
    "    do_something()\n",
    "except TypeError:\n",
    "    pass\n",
    "except ValueError:\n",
    "    print('Something')\n",
    "    raise\n",
    "```"
   ]
  },
  {
   "cell_type": "code",
   "execution_count": 9,
   "metadata": {
    "collapsed": true
   },
   "outputs": [],
   "source": [
    "def double_list(user_input):\n",
    "    lst = []\n",
    "    for i in range(10):\n",
    "        try:\n",
    "            lst.append(user_input[i] ** 2)\n",
    "        except IndexError:\n",
    "            lst.append(0)\n",
    "        except TypeError as e:\n",
    "            print('Wrong type', e)\n",
    "            raise\n",
    "    return lst"
   ]
  },
  {
   "cell_type": "code",
   "execution_count": 10,
   "metadata": {},
   "outputs": [
    {
     "name": "stdout",
     "output_type": "stream",
     "text": [
      "Wrong type unsupported operand type(s) for ** or pow(): 'str' and 'int'\n"
     ]
    },
    {
     "ename": "TypeError",
     "evalue": "unsupported operand type(s) for ** or pow(): 'str' and 'int'",
     "output_type": "error",
     "traceback": [
      "\u001b[1;31m---------------------------------------------------------------------------\u001b[0m",
      "\u001b[1;31mTypeError\u001b[0m                                 Traceback (most recent call last)",
      "\u001b[1;32m<ipython-input-10-96a102101b04>\u001b[0m in \u001b[0;36m<module>\u001b[1;34m()\u001b[0m\n\u001b[0;32m      1\u001b[0m double_list([1.2, 2., 3, 'hi', 0,\n\u001b[0;32m      2\u001b[0m              \u001b[1;36m2\u001b[0m\u001b[1;33m,\u001b[0m \u001b[1;36m99\u001b[0m\u001b[1;33m,\u001b[0m \u001b[1;36m20\u001b[0m\u001b[1;33m,\u001b[0m \u001b[1;33m-\u001b[0m\u001b[1;36m1\u001b[0m\u001b[1;33m,\u001b[0m \u001b[1;36m.7\u001b[0m\u001b[1;33m,\u001b[0m\u001b[1;33m\u001b[0m\u001b[0m\n\u001b[1;32m----> 3\u001b[1;33m              10, 2, 0, 1])\n\u001b[0m",
      "\u001b[1;32m<ipython-input-9-cc6c76b05fa3>\u001b[0m in \u001b[0;36mdouble_list\u001b[1;34m(user_input)\u001b[0m\n\u001b[0;32m      3\u001b[0m     \u001b[1;32mfor\u001b[0m \u001b[0mi\u001b[0m \u001b[1;32min\u001b[0m \u001b[0mrange\u001b[0m\u001b[1;33m(\u001b[0m\u001b[1;36m10\u001b[0m\u001b[1;33m)\u001b[0m\u001b[1;33m:\u001b[0m\u001b[1;33m\u001b[0m\u001b[0m\n\u001b[0;32m      4\u001b[0m         \u001b[1;32mtry\u001b[0m\u001b[1;33m:\u001b[0m\u001b[1;33m\u001b[0m\u001b[0m\n\u001b[1;32m----> 5\u001b[1;33m             \u001b[0mlst\u001b[0m\u001b[1;33m.\u001b[0m\u001b[0mappend\u001b[0m\u001b[1;33m(\u001b[0m\u001b[0muser_input\u001b[0m\u001b[1;33m[\u001b[0m\u001b[0mi\u001b[0m\u001b[1;33m]\u001b[0m \u001b[1;33m**\u001b[0m \u001b[1;36m2\u001b[0m\u001b[1;33m)\u001b[0m\u001b[1;33m\u001b[0m\u001b[0m\n\u001b[0m\u001b[0;32m      6\u001b[0m         \u001b[1;32mexcept\u001b[0m \u001b[0mIndexError\u001b[0m\u001b[1;33m:\u001b[0m\u001b[1;33m\u001b[0m\u001b[0m\n\u001b[0;32m      7\u001b[0m             \u001b[0mlst\u001b[0m\u001b[1;33m.\u001b[0m\u001b[0mappend\u001b[0m\u001b[1;33m(\u001b[0m\u001b[1;36m0\u001b[0m\u001b[1;33m)\u001b[0m\u001b[1;33m\u001b[0m\u001b[0m\n",
      "\u001b[1;31mTypeError\u001b[0m: unsupported operand type(s) for ** or pow(): 'str' and 'int'"
     ]
    }
   ],
   "source": [
    "double_list([1.2, 2., 3, 'hi', 0,\n",
    "             2, 99, 20, -1, .7,\n",
    "             10, 2, 0, 1])"
   ]
  },
  {
   "cell_type": "markdown",
   "metadata": {},
   "source": [
    "# Functions\n",
    "Let's review functions.\n",
    "\n",
    "First, recall that the goals of using functions are:\n",
    "* Make code reusable (like a macro in SAS)\n",
    "* Break up execution so that code is easier to read and maintain\n",
    "\n",
    "The basic format is:\n",
    "```\n",
    "def function_name(arg1, arg2, default_arg=2): \n",
    "    # function_body\n",
    "    print(arg1, arg2, default_arg)\n",
    "    return arg1 + arg2  # return is optional\n",
    "```"
   ]
  },
  {
   "cell_type": "code",
   "execution_count": 11,
   "metadata": {
    "collapsed": true
   },
   "outputs": [],
   "source": [
    "# let's start with a function that adds two numbers together\n",
    "def add(x, y):\n",
    "    return x + y"
   ]
  },
  {
   "cell_type": "code",
   "execution_count": 12,
   "metadata": {},
   "outputs": [
    {
     "name": "stdout",
     "output_type": "stream",
     "text": [
      "True\n",
      "True\n"
     ]
    }
   ],
   "source": [
    "# here's some tests to prove it works\n",
    "print(add(2, 2) == 4)\n",
    "print(add(5, -9) == -4)"
   ]
  },
  {
   "cell_type": "code",
   "execution_count": 13,
   "metadata": {
    "collapsed": true
   },
   "outputs": [],
   "source": [
    "# what about multiplying two numbers?\n",
    "# write a function here that passes the tests and call it `multiply`\n",
    "def multiply(x, y):\n",
    "    return x * y"
   ]
  },
  {
   "cell_type": "code",
   "execution_count": 14,
   "metadata": {},
   "outputs": [
    {
     "name": "stdout",
     "output_type": "stream",
     "text": [
      "True\n",
      "True\n",
      "True\n",
      "True\n"
     ]
    }
   ],
   "source": [
    "# run these tests to make sure it works\n",
    "print(multiply(2, 2) == 4)\n",
    "print(multiply(-1, -9) == 9)\n",
    "# write one test for yourself\n",
    "print(multiply(0, 2) == 0)\n",
    "print(multiply(-1, 9) == -9)"
   ]
  },
  {
   "cell_type": "markdown",
   "metadata": {},
   "source": [
    "Functions are very powerful in Python. Part of this is that functions can be used to call other functions.\n",
    "\n",
    "Let's write a function that takes a function and two other numbers (x and y are fine) and does to them what the function says.\n",
    "\n",
    "Here the function 'signature':\n",
    "\n",
    "```\n",
    "def apply_function(func, x, y)\n",
    "```\n",
    "\n",
    "In the above, `func` can be either `add` or `product`.\n",
    "\n",
    "Don't forget the return statement!"
   ]
  },
  {
   "cell_type": "code",
   "execution_count": 15,
   "metadata": {
    "collapsed": true
   },
   "outputs": [],
   "source": [
    "# def apply_function(func, x, y)\n",
    "def apply_function(func, x, y):\n",
    "    return func(x, y)"
   ]
  },
  {
   "cell_type": "code",
   "execution_count": 16,
   "metadata": {},
   "outputs": [
    {
     "name": "stdout",
     "output_type": "stream",
     "text": [
      "True\n",
      "True\n"
     ]
    }
   ],
   "source": [
    "# write some additional tests for this\n",
    "print(apply_function(add, 2, 2) == 4)\n",
    "print(apply_function(multiply, 2, 2) == 4)"
   ]
  },
  {
   "cell_type": "markdown",
   "metadata": {},
   "source": [
    "#### Do you know? (This cell is Extra Credit)\n",
    "* What other datatypes (or combinations of datetypes) can be passed into the apply_function? "
   ]
  },
  {
   "cell_type": "code",
   "execution_count": 17,
   "metadata": {},
   "outputs": [
    {
     "name": "stdout",
     "output_type": "stream",
     "text": [
      "this that\n",
      "hi! hi! hi! hi! hi! \n",
      "bye! bye! bye! bye! bye! \n"
     ]
    }
   ],
   "source": [
    "print(apply_function(add, 'this ', 'that'))\n",
    "print(apply_function(multiply, 'hi! ', 5))\n",
    "print(apply_function(multiply, 5, 'bye! '))"
   ]
  },
  {
   "cell_type": "markdown",
   "metadata": {},
   "source": [
    "It's unfortunate that we can only have two items. For this, we can use `*args`. I'll write the `add` function to do this.\n",
    "\n",
    "The `*args` and `**kwargs` keywords are difficult concepts, so give them a try even if you don't fully grasp them. The examples will help\n",
    "to elucidate the concept--and we'll cover them again in our next class."
   ]
  },
  {
   "cell_type": "code",
   "execution_count": 21,
   "metadata": {
    "collapsed": true
   },
   "outputs": [],
   "source": [
    "def add(*args):\n",
    "    print(\"Arguments in function\", args, type(args))  # its a tuple/list!\n",
    "    total = 0\n",
    "    for arg in args:  # go through each element\n",
    "        total += arg  # equivalent to `total = total + arg`\n",
    "    return total"
   ]
  },
  {
   "cell_type": "code",
   "execution_count": 22,
   "metadata": {},
   "outputs": [
    {
     "name": "stdout",
     "output_type": "stream",
     "text": [
      "Arguments in function (1, 2, 3, 4) <class 'tuple'>\n",
      "True\n",
      "Arguments in function () <class 'tuple'>\n",
      "False\n",
      "Arguments in function (0, -1) <class 'tuple'>\n",
      "True\n"
     ]
    }
   ],
   "source": [
    "# write some tests to make sure this works\n",
    "print(add(1, 2, 3, 4) == 10)\n",
    "print(add() == 10)\n",
    "print(add(0, -1) == -1)"
   ]
  },
  {
   "cell_type": "code",
   "execution_count": 23,
   "metadata": {
    "collapsed": true
   },
   "outputs": [],
   "source": [
    "# Now, your turn to right the new version of multiply:\n",
    "def multiply(*args):\n",
    "    total = 1  # we need to initialize with 1\n",
    "    for arg in args:  # go through each element\n",
    "        total *= arg  # equivalent to `total = total * arg`\n",
    "    return total"
   ]
  },
  {
   "cell_type": "code",
   "execution_count": 24,
   "metadata": {},
   "outputs": [
    {
     "name": "stdout",
     "output_type": "stream",
     "text": [
      "True\n",
      "True\n",
      "True\n"
     ]
    }
   ],
   "source": [
    "# write some tests to make sure you got it right\n",
    "print(multiply(1, 2, 3, 4) == 24)\n",
    "print(multiply() == 1)  # not sure what this should equal? 0 or 1?\n",
    "print(multiply(0, -1) == 0)"
   ]
  },
  {
   "cell_type": "code",
   "execution_count": 25,
   "metadata": {
    "collapsed": true
   },
   "outputs": [],
   "source": [
    "# Now, modify the apply_function\n",
    "# the method signature should be: apply_function(func, *args)\n",
    "def apply_function(func, *args):\n",
    "    return func(*args)"
   ]
  },
  {
   "cell_type": "code",
   "execution_count": 26,
   "metadata": {},
   "outputs": [
    {
     "name": "stdout",
     "output_type": "stream",
     "text": [
      "Arguments in function (2, 2, 2) <class 'tuple'>\n",
      "True\n",
      "True\n"
     ]
    }
   ],
   "source": [
    "# write some tests\n",
    "print(apply_function(add, 2, 2, 2) == 6)\n",
    "print(apply_function(multiply, 2, 2, 2) == 8)"
   ]
  },
  {
   "cell_type": "markdown",
   "metadata": {},
   "source": [
    "Great job!"
   ]
  },
  {
   "cell_type": "markdown",
   "metadata": {},
   "source": [
    "# Extra Credit\n",
    "\n",
    "This is looking at some advanced stuff we worked on at the very end of last week's tutorial: anonymous functions (lambdas).\n",
    "\n",
    "These work by using a special syntax (with the word `lambda`) and do not have the typical `def function_name` format since they are nameless.\n",
    "\n",
    "Let's explore!"
   ]
  },
  {
   "cell_type": "code",
   "execution_count": 27,
   "metadata": {},
   "outputs": [
    {
     "data": {
      "text/plain": [
       "(function, function)"
      ]
     },
     "execution_count": 27,
     "metadata": {},
     "output_type": "execute_result"
    }
   ],
   "source": [
    "type(lambda : 0), type(add)"
   ]
  },
  {
   "cell_type": "markdown",
   "metadata": {},
   "source": [
    "It's a function, but doesn't look like one. Interesting...here's how it works.\n",
    "\n",
    "* The lambda keyword is what tells Python that we have an anonymous function.\n",
    "* The space before the colon is for the arguments\n",
    "* The space after the colon is the return statement\n",
    "\n",
    "```\n",
    "lambda args : return statement\n",
    "```"
   ]
  },
  {
   "cell_type": "code",
   "execution_count": 28,
   "metadata": {},
   "outputs": [
    {
     "data": {
      "text/plain": [
       "0"
      ]
     },
     "execution_count": 28,
     "metadata": {},
     "output_type": "execute_result"
    }
   ],
   "source": [
    "# What will this return?\n",
    "func = lambda : 0\n",
    "func()  # the double parentheses is how any function is called (compare the add function)"
   ]
  },
  {
   "cell_type": "code",
   "execution_count": 29,
   "metadata": {},
   "outputs": [
    {
     "data": {
      "text/plain": [
       "0"
      ]
     },
     "execution_count": 29,
     "metadata": {},
     "output_type": "execute_result"
    }
   ],
   "source": [
    "# Now, let's modify to require 1 parameter, but still return 0\n",
    "f = lambda x : 0\n",
    "f(1)  # oops, forgot the parameter! Add anything between the parentheses"
   ]
  },
  {
   "cell_type": "code",
   "execution_count": 30,
   "metadata": {},
   "outputs": [
    {
     "data": {
      "text/plain": [
       "2"
      ]
     },
     "execution_count": 30,
     "metadata": {},
     "output_type": "execute_result"
    }
   ],
   "source": [
    "# How would we return the value we put in?\n",
    "f = lambda x: x\n",
    "f(2)"
   ]
  },
  {
   "cell_type": "code",
   "execution_count": 31,
   "metadata": {},
   "outputs": [
    {
     "name": "stdout",
     "output_type": "stream",
     "text": [
      "2\n"
     ]
    }
   ],
   "source": [
    "# Extra**2 credit\n",
    "# What's going on here?\n",
    "print(f(f)(2))\n",
    "# this can be broken apart into:\n",
    "#  f(f) => returns f (the lambda expression)\n",
    "#  f(2) => returns 2"
   ]
  },
  {
   "cell_type": "code",
   "execution_count": 32,
   "metadata": {},
   "outputs": [
    {
     "data": {
      "text/plain": [
       "2"
      ]
     },
     "execution_count": 32,
     "metadata": {},
     "output_type": "execute_result"
    }
   ],
   "source": [
    "# It's your turn, add a second argument (y)\n",
    "f = lambda x, y: x\n",
    "f(2, 3)"
   ]
  },
  {
   "cell_type": "code",
   "execution_count": 33,
   "metadata": {},
   "outputs": [
    {
     "data": {
      "text/plain": [
       "5"
      ]
     },
     "execution_count": 33,
     "metadata": {},
     "output_type": "execute_result"
    }
   ],
   "source": [
    "# Return x + y\n",
    "f = lambda x, y: x + y\n",
    "f(2, 3)  # 5"
   ]
  },
  {
   "cell_type": "markdown",
   "metadata": {},
   "source": [
    "## Why is this useful?\n",
    "\n",
    "It's not usually useful in the form shown above--although the concept can help drive in what a function is: it takes parameters as input and provides something in return.\n",
    "\n",
    "Lambda expressions can be much more useful when using certain functions/methods or functional programming aspects of Python (for the latter, see: https://medium.com/@happymishra66/lambda-map-and-filter-in-python-4935f248593). Here's an example of the previous."
   ]
  },
  {
   "cell_type": "code",
   "execution_count": 34,
   "metadata": {
    "collapsed": true
   },
   "outputs": [],
   "source": [
    "# let's sort this list by age\n",
    "data = [  # name, age\n",
    "    ('James', 21),\n",
    "    ('Jacques', 38),\n",
    "    ('Marawan', 8),\n",
    "    ('Olaf', 99)\n",
    "]"
   ]
  },
  {
   "cell_type": "code",
   "execution_count": 35,
   "metadata": {},
   "outputs": [
    {
     "name": "stdout",
     "output_type": "stream",
     "text": [
      "Help on built-in function sorted in module builtins:\n",
      "\n",
      "sorted(iterable, /, *, key=None, reverse=False)\n",
      "    Return a new list containing all items from the iterable in ascending order.\n",
      "    \n",
      "    A custom key function can be supplied to customize the sort order, and the\n",
      "    reverse flag can be set to request the result in descending order.\n",
      "\n"
     ]
    }
   ],
   "source": [
    "help(sorted)"
   ]
  },
  {
   "cell_type": "code",
   "execution_count": 36,
   "metadata": {},
   "outputs": [
    {
     "data": {
      "text/plain": [
       "[('Jacques', 38), ('James', 21), ('Marawan', 8), ('Olaf', 99)]"
      ]
     },
     "execution_count": 36,
     "metadata": {},
     "output_type": "execute_result"
    }
   ],
   "source": [
    "sorted(data)  # sorts by name"
   ]
  },
  {
   "cell_type": "code",
   "execution_count": 37,
   "metadata": {},
   "outputs": [
    {
     "data": {
      "text/plain": [
       "[('Marawan', 8), ('James', 21), ('Jacques', 38), ('Olaf', 99)]"
      ]
     },
     "execution_count": 37,
     "metadata": {},
     "output_type": "execute_result"
    }
   ],
   "source": [
    "# we can use the \"key\" attribute with a lambda\n",
    "sorted(data, key=lambda x: x[1])  # for each tuple `x`, grab the `1` index (2nd index)\n"
   ]
  },
  {
   "cell_type": "code",
   "execution_count": 38,
   "metadata": {},
   "outputs": [
    {
     "data": {
      "text/plain": [
       "[('Olaf', 99), ('Jacques', 38), ('James', 21), ('Marawan', 8)]"
      ]
     },
     "execution_count": 38,
     "metadata": {},
     "output_type": "execute_result"
    }
   ],
   "source": [
    "# oldest to youngest\n",
    "sorted(data, key=lambda x: x[1], reverse=True)"
   ]
  }
 ],
 "metadata": {
  "kernelspec": {
   "display_name": "Python 3",
   "language": "python",
   "name": "python3"
  },
  "language_info": {
   "codemirror_mode": {
    "name": "ipython",
    "version": 3
   },
   "file_extension": ".py",
   "mimetype": "text/x-python",
   "name": "python",
   "nbconvert_exporter": "python",
   "pygments_lexer": "ipython3",
   "version": "3.6.1"
  }
 },
 "nbformat": 4,
 "nbformat_minor": 1
}
