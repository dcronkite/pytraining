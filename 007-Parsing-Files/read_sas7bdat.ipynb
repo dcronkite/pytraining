{
 "cells": [
  {
   "cell_type": "markdown",
   "metadata": {},
   "source": [
    "# Reading SAS Files\n",
    "\n",
    "The sas7bdat filetype is a proprietary format so Python doesn't have access to create/read these files. However, some industrious souls reverse-engineered the format so that the data can be accessed from within Python, though the files cannot be created.\n",
    "\n",
    "When we get into the pandas package adn data analytics with Python, we'll figure how to more easily parse SAS files into datasets. For now, we'll inspect it using the sas7bdat library."
   ]
  },
  {
   "cell_type": "code",
   "execution_count": null,
   "metadata": {
    "collapsed": true
   },
   "outputs": [],
   "source": [
    "from sas7bdat import SAS7BDAT"
   ]
  },
  {
   "cell_type": "code",
   "execution_count": null,
   "metadata": {},
   "outputs": [],
   "source": [
    "path = r'airline.sas7bdat'\n",
    "with SAS7BDAT(path) as fh:\n",
    "    for row in fh:\n",
    "        print(row)"
   ]
  },
  {
   "cell_type": "code",
   "execution_count": null,
   "metadata": {},
   "outputs": [],
   "source": [
    "# turn into csv file\n",
    "with SAS7BDAT(path) as fh:\n",
    "    fh.convert_file('out.csv')"
   ]
  }
 ],
 "metadata": {
  "kernelspec": {
   "display_name": "Python 3",
   "language": "python",
   "name": "python3"
  },
  "language_info": {
   "codemirror_mode": {
    "name": "ipython",
    "version": 3
   },
   "file_extension": ".py",
   "mimetype": "text/x-python",
   "name": "python",
   "nbconvert_exporter": "python",
   "pygments_lexer": "ipython3",
   "version": "3.6.1"
  }
 },
 "nbformat": 4,
 "nbformat_minor": 2
}
