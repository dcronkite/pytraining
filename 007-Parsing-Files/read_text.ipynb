{
 "cells": [
  {
   "cell_type": "markdown",
   "metadata": {
    "collapsed": true
   },
   "source": [
    "# Reading Plain Text files\n",
    "\n",
    "All files in Python are read and written using the built-in `open` function. Many libraries dealing with more complicated filetype will handle this for you behind the scenes and provide an easy-to-use frontend.\n",
    "\n",
    "The `open` function takes a filename and a \"mode\" (either reading/writing). There is advanced functionality, but these will get you through most applications."
   ]
  },
  {
   "cell_type": "code",
   "execution_count": null,
   "metadata": {},
   "outputs": [],
   "source": [
    "filepath = r'C:\\path\\test.txt'"
   ]
  },
  {
   "cell_type": "code",
   "execution_count": null,
   "metadata": {},
   "outputs": [],
   "source": [
    "with open(filepath) as fh:  # fh = filehandler (it's handling the file)\n",
    "    text = fh.read()\n",
    "# the file is closed automatically when leaving the \"with\" block\n",
    "text"
   ]
  },
  {
   "cell_type": "code",
   "execution_count": null,
   "metadata": {},
   "outputs": [],
   "source": [
    "with open(filepath) as fh:\n",
    "    for line in fh:  # go line-by-line\n",
    "        print(line)"
   ]
  },
  {
   "cell_type": "markdown",
   "metadata": {},
   "source": [
    "# Writing Text Files\n",
    "\n",
    "By default, Python sets a file in \"read\" mode, but you can also create a file with this method. An existing file will be overwritten. (You can replace the 'w' with an 'a' to add to an existing file.)"
   ]
  },
  {
   "cell_type": "code",
   "execution_count": null,
   "metadata": {},
   "outputs": [],
   "source": [
    "outfile = r'C:\\path\\test.out.txt'"
   ]
  },
  {
   "cell_type": "code",
   "execution_count": null,
   "metadata": {},
   "outputs": [],
   "source": [
    "with open(filepath, 'w') as out:\n",
    "    out.write('hello ')  # line ending not automatically added\n",
    "    out.write('world\\n')"
   ]
  },
  {
   "cell_type": "code",
   "execution_count": null,
   "metadata": {},
   "outputs": [],
   "source": [
    "# a common Python idiom\n",
    "lines = ['Line 1', 'Line 2', 'Another line here', 'Check this out too']\n",
    "with open(filepath, 'w') as out:\n",
    "    out.write('\\n'.join(lines))"
   ]
  },
  {
   "cell_type": "code",
   "execution_count": null,
   "metadata": {},
   "outputs": [],
   "source": [
    "# FileHandler.write requires strings, so you need to convert to strings\n",
    "lst = list(range(10))\n",
    "print(lst)  # these are numbers\n",
    "with open(filepath, 'w') as out:\n",
    "    # here's a good use for the list comprehension\n",
    "    out.write('\\n'.join(str(line) for line in lines))"
   ]
  }
 ],
 "metadata": {
  "kernelspec": {
   "display_name": "Python 2",
   "language": "python",
   "name": "python2"
  },
  "language_info": {
   "codemirror_mode": {
    "name": "ipython",
    "version": 2
   },
   "file_extension": ".py",
   "mimetype": "text/x-python",
   "name": "python",
   "nbconvert_exporter": "python",
   "pygments_lexer": "ipython2",
   "version": "2.7.6"
  }
 },
 "nbformat": 4,
 "nbformat_minor": 0
}
