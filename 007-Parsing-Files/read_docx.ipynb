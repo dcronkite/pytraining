{
 "cells": [
  {
   "cell_type": "markdown",
   "metadata": {},
   "source": [
    "# Word Documents (docx)\n",
    "\n",
    "You can automatically generate or read Word documents. You will need to install `python-docx` using conda or pip (run these in a shell):\n",
    "* `conda install python-docx`\n",
    "* `pip install python-docx`\n",
    "    * to install behind firewall, you will need to specify proxy with `--proxy` option\n",
    "    * or, if just download from here: https://www.lfd.uci.edu/~gohlke/pythonlibs/\n",
    "        * `pip install python_docx-0.8.6-....whl`\n",
    "        \n",
    "Some notes:\n",
    "* A document is divided into paragraphs and tables\n",
    "* A paragraph is divided into \"runs\" of text"
   ]
  },
  {
   "cell_type": "code",
   "execution_count": null,
   "metadata": {},
   "outputs": [],
   "source": [
    "from docx import Document\n",
    "\n",
    "document = Document()\n",
    "\n",
    "document.add_heading('Document Title', 0)\n",
    "\n",
    "p = document.add_paragraph('A plain paragraph having some ')\n",
    "p.add_run('bold').bold = True\n",
    "p.add_run(' and some ')\n",
    "p.add_run('italic.').italic = True\n",
    "\n",
    "document.add_heading('Heading, level 1', level=1)\n",
    "document.add_paragraph('Intense quote', style='IntenseQuote')\n",
    "\n",
    "document.add_paragraph(\n",
    "    'first item in unordered list', style='ListBullet'\n",
    ")\n",
    "document.add_paragraph(\n",
    "    'first item in ordered list', style='ListNumber'\n",
    ")\n",
    "\n",
    "# from docx.shared import Inches\n",
    "# document.add_picture('monty-truth.png', width=Inches(1.25))\n",
    "\n",
    "table = document.add_table(rows=1, cols=3)\n",
    "hdr_cells = table.rows[0].cells\n",
    "hdr_cells[0].text = 'Qty'\n",
    "hdr_cells[1].text = 'Id'\n",
    "hdr_cells[2].text = 'Desc'\n",
    "for item in [(1, 'play-doh', 5), (2, 'dough', 2)]:\n",
    "    row_cells = table.add_row().cells\n",
    "    row_cells[0].text = str(item[2])\n",
    "    row_cells[1].text = str(item[0])\n",
    "    row_cells[2].text = item[1]\n",
    "\n",
    "document.add_page_break()\n",
    "\n",
    "document.save('demo.docx')"
   ]
  },
  {
   "cell_type": "code",
   "execution_count": null,
   "metadata": {
    "collapsed": true
   },
   "outputs": [],
   "source": [
    "with open('demo.docx', 'rb') as fh:\n",
    "    document = Document(fh)"
   ]
  },
  {
   "cell_type": "code",
   "execution_count": null,
   "metadata": {},
   "outputs": [],
   "source": [
    "for paragraph in document.paragraphs:\n",
    "    if 'first' in paragraph.text:\n",
    "        print('******First!****')\n",
    "    for word in paragraph.text.split():\n",
    "        print(word)"
   ]
  },
  {
   "cell_type": "code",
   "execution_count": null,
   "metadata": {},
   "outputs": [],
   "source": [
    "# replace text\n",
    "for p in document.paragraphs:\n",
    "    if 'first' in p.text:\n",
    "        for i in range(len(p.runs)):\n",
    "            if 'first' in p.runs[i].text:\n",
    "                p.runs[i].text = p.runs[i].text.replace('first', 'second')"
   ]
  },
  {
   "cell_type": "code",
   "execution_count": null,
   "metadata": {},
   "outputs": [],
   "source": [
    "for paragraph in document.paragraphs:\n",
    "    if 'first' in paragraph.text:\n",
    "        print('******First!****')\n",
    "    elif 'second' in paragraph.text:\n",
    "        print('NOT FIRST!')"
   ]
  },
  {
   "cell_type": "code",
   "execution_count": null,
   "metadata": {},
   "outputs": [],
   "source": [
    "# detect bold or other features\n",
    "p.runs[i].bold"
   ]
  }
 ],
 "metadata": {
  "kernelspec": {
   "display_name": "Python 3",
   "language": "python",
   "name": "python3"
  },
  "language_info": {
   "codemirror_mode": {
    "name": "ipython",
    "version": 3
   },
   "file_extension": ".py",
   "mimetype": "text/x-python",
   "name": "python",
   "nbconvert_exporter": "python",
   "pygments_lexer": "ipython3",
   "version": "3.6.1"
  }
 },
 "nbformat": 4,
 "nbformat_minor": 2
}
