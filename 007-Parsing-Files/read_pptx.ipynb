{
 "cells": [
  {
   "cell_type": "markdown",
   "metadata": {},
   "source": [
    "# Powerpoint Documents (pptx)\n",
    "\n",
    "You can automatically generate or read Word documents. You will need to install `python-docx` using conda or pip (run these in a shell):\n",
    "* `conda install python-pptx`\n",
    "* `pip install python-pptx`\n",
    "    * to install behind firewall, you will need to specify proxy with `--proxy` option\n",
    "    * or, if just download from here: https://www.lfd.uci.edu/~gohlke/pythonlibs/\n",
    "        * `pip install python_pptx-0.8.6-....whl`\n",
    "        \n",
    "The hierarchy in powerpoint is quite complicated, as there's lots you can do. Sometimes, instead of creating from scratch in Python, you can use Powerpoint to create the file, and then use Python to modify it.\n",
    "\n",
    "See the excellent documentation here: https://python-pptx.readthedocs.io"
   ]
  },
  {
   "cell_type": "code",
   "execution_count": null,
   "metadata": {},
   "outputs": [],
   "source": [
    "from pptx import Presentation\n",
    "preso = Presentation()\n",
    "layout = preso.slide_layouts[0]  # title slide (probably)\n",
    "slide = preso.slides.add_slide(layout)\n",
    "slide.shapes.title.text = 'Hello world!'\n",
    "slide.placeholders[1].text = 'Starting with Python!'"
   ]
  },
  {
   "cell_type": "code",
   "execution_count": null,
   "metadata": {},
   "outputs": [],
   "source": [
    "layout2 = preso.slide_layouts[1]\n",
    "slide = preso.slides.add_slide(layout2)\n",
    "slide.shapes.title.text = 'First Slide'\n",
    "text = slide.shapes.placeholders[1].text_frame\n",
    "text.text = 'Powerpoint Documentation is useful'\n",
    "p = text.add_paragraph()\n",
    "p.text = 'But there are lots of details'\n",
    "p.level = 1\n",
    "\n",
    "preso.save('test.pptx')"
   ]
  },
  {
   "cell_type": "code",
   "execution_count": null,
   "metadata": {},
   "outputs": [],
   "source": [
    "with open('test.pptx', 'rb') as fh:\n",
    "    preso = Presentation(fh)"
   ]
  },
  {
   "cell_type": "code",
   "execution_count": null,
   "metadata": {},
   "outputs": [],
   "source": [
    "for slide in preso.slides:\n",
    "    print('Next Slide')\n",
    "    for shape in slide.shapes:\n",
    "        print(shape.text)"
   ]
  }
 ],
 "metadata": {
  "kernelspec": {
   "display_name": "Python 3",
   "language": "python",
   "name": "python3"
  },
  "language_info": {
   "codemirror_mode": {
    "name": "ipython",
    "version": 3
   },
   "file_extension": ".py",
   "mimetype": "text/x-python",
   "name": "python",
   "nbconvert_exporter": "python",
   "pygments_lexer": "ipython3",
   "version": "3.6.1"
  }
 },
 "nbformat": 4,
 "nbformat_minor": 2
}
