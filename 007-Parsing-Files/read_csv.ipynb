{
 "cells": [
  {
   "cell_type": "markdown",
   "metadata": {
    "collapsed": true
   },
   "source": [
    "# Reading CSV Files\n",
    "\n",
    "CSV (comma-separated values) files can be read using the \"read_text\" method, but when certain values are quoted or not quoted, it is often easier to use the `csv` package which will handle various formats."
   ]
  },
  {
   "cell_type": "code",
   "execution_count": null,
   "metadata": {},
   "outputs": [],
   "source": [
    "# read csv without csv package\n",
    "path = r'007-Parsing-Files\\test.csv'\n",
    "# you may need to include \"encoding=\"utf-8\"\" for files produced by excel\n",
    "with open(path) as fh:\n",
    "    for line in fh:\n",
    "        line = line.strip()  # remove line ending\n",
    "        lst = line.split(',')\n",
    "        print(lst)"
   ]
  },
  {
   "cell_type": "code",
   "execution_count": null,
   "metadata": {},
   "outputs": [],
   "source": [
    "import csv \n",
    "\n",
    "with open(path) as fh:\n",
    "    for line in csv.reader(fh):\n",
    "        print(line)"
   ]
  },
  {
   "cell_type": "code",
   "execution_count": null,
   "metadata": {},
   "outputs": [],
   "source": [
    "# idiom to account for the header\n",
    "header = None\n",
    "with open(path) as fh:\n",
    "    for row_no, line in enumerate(csv.reader(fh)):\n",
    "        if row_no == 0:\n",
    "            header = line\n",
    "        else:  # data\n",
    "            print(line)"
   ]
  },
  {
   "cell_type": "markdown",
   "metadata": {},
   "source": [
    "# What's better about this method?\n",
    "\n",
    "The real value of the csv library is in it's detection/customization of various csv formats (look at the doco online), as well as the ease in writing them.\n",
    "\n",
    "There are many options, like varying the delimiters, etc."
   ]
  },
  {
   "cell_type": "code",
   "execution_count": null,
   "metadata": {
    "collapsed": true
   },
   "outputs": [],
   "source": [
    "data = [\n",
    "    [0, 'hello', 0.5],\n",
    "    [1, 'world', 1.23],\n",
    "    [2, '!', 9.6],\n",
    "]\n",
    "with open('out.csv', 'w') as fh:\n",
    "    writer = csv.writer(fh)\n",
    "    writer.writerow(['index', 'data', 'value'])  # header\n",
    "    for row in data:\n",
    "        writer.writerow(row)"
   ]
  }
 ],
 "metadata": {
  "kernelspec": {
   "display_name": "Python 3",
   "language": "python",
   "name": "python3"
  },
  "language_info": {
   "codemirror_mode": {
    "name": "ipython",
    "version": 3
   },
   "file_extension": ".py",
   "mimetype": "text/x-python",
   "name": "python",
   "nbconvert_exporter": "python",
   "pygments_lexer": "ipython3",
   "version": "3.6.1"
  }
 },
 "nbformat": 4,
 "nbformat_minor": 1
}
