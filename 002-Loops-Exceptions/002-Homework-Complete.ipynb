{
 "cells": [
  {
   "cell_type": "markdown",
   "metadata": {},
   "source": [
    "# PROBLEM 1\n",
    "Use a loop to count down from 5, and then print out 'blastoff'. Do it two ways, one with a `while` loop and one with a `for` loop.\n",
    "\n",
    "The output should be:\n",
    "```\n",
    "5\n",
    "4\n",
    "3\n",
    "2\n",
    "1\n",
    "Blastoff\n",
    "```"
   ]
  },
  {
   "cell_type": "code",
   "execution_count": 2,
   "metadata": {},
   "outputs": [
    {
     "name": "stdout",
     "output_type": "stream",
     "text": [
      "5\n4\n3\n2\n1\nBlastoff\n"
     ]
    }
   ],
   "source": [
    "# Do with for loop\n",
    "count = 5\n",
    "for i in range(count, 0, -1):\n",
    "    print(i)\n",
    "print('Blastoff')"
   ]
  },
  {
   "cell_type": "code",
   "execution_count": 3,
   "metadata": {},
   "outputs": [
    {
     "name": "stdout",
     "output_type": "stream",
     "text": [
      "5\n4\n3\n2\n1\nBlastoff\n"
     ]
    }
   ],
   "source": [
    "# Do with while loop\n",
    "count = 5\n",
    "while count > 0:\n",
    "    print(count)\n",
    "    count -= 1\n",
    "print('Blastoff')"
   ]
  },
  {
   "cell_type": "markdown",
   "metadata": {},
   "source": [
    "Do the above again, but instead of using the form:\n",
    "```\n",
    "count = count - 1\n",
    "```\n",
    "try this out:\n",
    "```\n",
    "count -= 1\n",
    "```\n",
    "\n",
    "What other Python operators (e.g., `+`, `*`, etc.) does this work with?"
   ]
  },
  {
   "cell_type": "code",
   "execution_count": 4,
   "metadata": {},
   "outputs": [
    {
     "name": "stdout",
     "output_type": "stream",
     "text": [
      "10\n5.0\n25.0\n"
     ]
    }
   ],
   "source": [
    "# What other Python operators (e.g., `+`, `*`, etc.) does this work with?\n",
    "count = 5\n",
    "count *= 2\n",
    "print(count)\n",
    "count /= 2\n",
    "print(count)\n",
    "count **= 2\n",
    "print(count)"
   ]
  },
  {
   "cell_type": "markdown",
   "metadata": {},
   "source": [
    "# PROBLEM 2\n",
    "Add all the items of an input list.\n",
    "\n",
    "* Input:\n",
    "```\n",
    "lst = [1, 2, 3, 4, -2, -1.5, 0]\n",
    "```\n",
    "\n",
    "* Output:\n",
    "```\n",
    "6.5\n",
    "```"
   ]
  },
  {
   "cell_type": "code",
   "execution_count": 5,
   "metadata": {},
   "outputs": [
    {
     "name": "stdout",
     "output_type": "stream",
     "text": [
      "6.5\n"
     ]
    }
   ],
   "source": [
    "lst = [1, 2, 3, 4, -2, -1.5, 0]\n",
    "count = 0\n",
    "# for/while loop here\n",
    "for element in lst:\n",
    "    count += element\n",
    "print(count)"
   ]
  },
  {
   "cell_type": "markdown",
   "metadata": {},
   "source": [
    "This is a very frequent process in Python programs, so there's a built-in function (like `type()` and `input()` and `print()`): `sum()`. \n",
    "\n",
    "Give it a try:"
   ]
  },
  {
   "cell_type": "code",
   "execution_count": 6,
   "metadata": {},
   "outputs": [
    {
     "data": {
      "text/plain": [
       "6.5"
      ]
     },
     "execution_count": 6,
     "metadata": {},
     "output_type": "execute_result"
    }
   ],
   "source": [
    "sum(lst)"
   ]
  },
  {
   "cell_type": "markdown",
   "metadata": {},
   "source": [
    "Using the same list, add every other element. \n",
    "\n",
    "If the number is negative, subtract it.\n",
    "\n",
    "There are two ways to do this, \n",
    "\n",
    "## I. One uses the list indexing:\n",
    "```\n",
    "lst[start: end: step] OR lst[::step]\n",
    "```"
   ]
  },
  {
   "cell_type": "code",
   "execution_count": 7,
   "metadata": {},
   "outputs": [
    {
     "data": {
      "text/plain": [
       "6"
      ]
     },
     "execution_count": 7,
     "metadata": {},
     "output_type": "execute_result"
    }
   ],
   "source": [
    "# for list with indexing\n",
    "count = 0\n",
    "for element in lst[::2]:\n",
    "    if element >= 0:  # positive \n",
    "        count += element\n",
    "    else:  # negative\n",
    "        count -= element\n",
    "count"
   ]
  },
  {
   "cell_type": "markdown",
   "metadata": {},
   "source": [
    "## II. Another uses the built-in function `enumerate()`:\n",
    "\n",
    "HINT: A number can be judged to be even using:\n",
    "```\n",
    "if x % 2 == 0:\n",
    "    print('even')\n",
    "else:\n",
    "    print('odd')\n",
    "```"
   ]
  },
  {
   "cell_type": "code",
   "execution_count": 8,
   "metadata": {},
   "outputs": [
    {
     "data": {
      "text/plain": [
       "6"
      ]
     },
     "execution_count": 8,
     "metadata": {},
     "output_type": "execute_result"
    }
   ],
   "source": [
    "# for list with enumeration\n",
    "for i, item in enumerate(lst):\n",
    "    if i % 2 == 0:\n",
    "            if element >= 0:  # positive \n",
    "                count += element\n",
    "            else:  # negative\n",
    "                count -= element\n",
    "count"
   ]
  },
  {
   "cell_type": "markdown",
   "metadata": {},
   "source": [
    "## III. Another solution\n",
    "\n",
    "This is a one liner, which begins to show some of the power of Python. This looks pretty confusing at first, but the syntax will become more readable.\n",
    "\n",
    "You'll notice the:\n",
    "* `for el in lst` is equivalent\n",
    "* `el if el >= 0 else -el` is equivalent to:\n",
    "\n",
    "```\n",
    "if el >= 0:\n",
    "   el\n",
    "else:\n",
    "   -el\n",
    "```"
   ]
  },
  {
   "cell_type": "code",
   "execution_count": 10,
   "metadata": {},
   "outputs": [
    {
     "data": {
      "text/plain": [
       "6"
      ]
     },
     "execution_count": 10,
     "metadata": {},
     "output_type": "execute_result"
    }
   ],
   "source": [
    "sum([el if el >= 0 else -el for el in lst[::2]])"
   ]
  },
  {
   "cell_type": "markdown",
   "metadata": {},
   "source": [
    "# PROBLEM 3\n",
    "Write a function to get the minimum and maximum values from a list.\n"
   ]
  },
  {
   "cell_type": "code",
   "execution_count": 11,
   "metadata": {},
   "outputs": [],
   "source": [
    "def minimum(lst):\n",
    "    curr_min = None\n",
    "    for element in lst:\n",
    "        if curr_min is None or element < curr_min:\n",
    "            curr_min = element\n",
    "    return curr_min"
   ]
  },
  {
   "cell_type": "code",
   "execution_count": 12,
   "metadata": {},
   "outputs": [
    {
     "name": "stdout",
     "output_type": "stream",
     "text": [
      "SUCCESS\nSUCCESS\nSUCCESS\nSUCCESS\n"
     ]
    }
   ],
   "source": [
    "print('SUCCESS' if minimum([1, 4, 5, 8, 100]) == 1 else 'FAILURE')\n",
    "print('SUCCESS' if minimum([1, -40, -5, 80, -100]) == -100 else 'FAILURE: Account for negative numbers')\n",
    "print('SUCCESS' if minimum([0, 4, 8.0, 10000]) == 0 else 'FAILURE: Minimum value is zero')\n",
    "print('SUCCESS' if minimum([-4, 4, 5, 8, -100000]) == -100000 else 'FAILURE')"
   ]
  },
  {
   "cell_type": "code",
   "execution_count": 13,
   "metadata": {},
   "outputs": [],
   "source": [
    "def maximum(lst):\n",
    "    curr_max = None\n",
    "    for element in lst:\n",
    "        if curr_max is None or element > curr_max:\n",
    "            curr_max = element\n",
    "    return curr_max"
   ]
  },
  {
   "cell_type": "code",
   "execution_count": 14,
   "metadata": {},
   "outputs": [
    {
     "name": "stdout",
     "output_type": "stream",
     "text": [
      "SUCCESS\nSUCCESS\nFAILURE: Maximum value is zero\nFAILURE\n"
     ]
    }
   ],
   "source": [
    "print('SUCCESS' if maximum([1, 4, 5, 8, 100, 100.1]) == 100.1 else 'FAILURE')\n",
    "print('SUCCESS' if maximum([-40, -50, -800, -100]) == -40 else 'FAILURE: Account for negative numbers')\n",
    "print('SUCCESS' if maximum([0, 4, 8.0, -100000]) == 0 else 'FAILURE: Maximum value is zero')\n",
    "print('SUCCESS' if maximum([-4, 4, 5, 8, 100000]) == -100000 else 'FAILURE')"
   ]
  },
  {
   "cell_type": "markdown",
   "metadata": {},
   "source": [
    "We've been looking at some of the common built-in functions, and these include `min` and `max`, try them out:"
   ]
  },
  {
   "cell_type": "code",
   "execution_count": 15,
   "metadata": {},
   "outputs": [
    {
     "name": "stdout",
     "output_type": "stream",
     "text": [
      "1\n1\n"
     ]
    }
   ],
   "source": [
    "print(min([1, 2, 3, 4]))\n",
    "print(max([-1, 0, 1]))"
   ]
  },
  {
   "cell_type": "code",
   "execution_count": null,
   "metadata": {},
   "outputs": [],
   "source": []
  }
 ],
 "metadata": {
  "kernelspec": {
   "display_name": "Python 2",
   "language": "python",
   "name": "python2"
  },
  "language_info": {
   "codemirror_mode": {
    "name": "ipython",
    "version": 2
   },
   "file_extension": ".py",
   "mimetype": "text/x-python",
   "name": "python",
   "nbconvert_exporter": "python",
   "pygments_lexer": "ipython2",
   "version": "2.7.6"
  }
 },
 "nbformat": 4,
 "nbformat_minor": 0
}
