{
 "cells": [
  {
   "cell_type": "markdown",
   "metadata": {
    "collapsed": true
   },
   "source": [
    "* if/elif/else - no case statements\n",
    "* For/while loops\n",
    "* Break/continue/pass"
   ]
  },
  {
   "cell_type": "markdown",
   "metadata": {},
   "source": [
    "* How does if/else work in SAS?\n",
    "* Other languages?\n",
    "* No case statements ('pythonic' to use if-else)"
   ]
  },
  {
   "cell_type": "markdown",
   "metadata": {},
   "source": [
    "```\n",
    "if CONDITION:\n",
    "    do_something()\n",
    "elif OTHER_CONDITION:\n",
    "    do_something_else()\n",
    "else:\n",
    "    do_something_even_more()\n",
    "```"
   ]
  },
  {
   "cell_type": "code",
   "execution_count": null,
   "metadata": {},
   "outputs": [],
   "source": [
    "if 0:\n",
    "    pass  # what do you think the pass is for?\n",
    "elif True:\n",
    "    print('hi')\n",
    "else:\n",
    "    pass"
   ]
  },
  {
   "cell_type": "code",
   "execution_count": null,
   "metadata": {},
   "outputs": [],
   "source": [
    "x = 2\n",
    "if x: print(5)  # not recommended, but this is possible"
   ]
  },
  {
   "cell_type": "markdown",
   "metadata": {},
   "source": [
    "Checking conditions is of primary importance when doing a loop/iteration. We want to go through each element and check something.\n",
    "\n",
    "Iterators/iteration is one of the three cornerstones in Python, though this doesn't make a lot of sense until you start utilizing the language."
   ]
  },
  {
   "cell_type": "markdown",
   "metadata": {},
   "source": [
    "# While Loop\n",
    "\n",
    "Very similar to SAS.\n",
    "```\n",
    "n=0;\n",
    "   do while(n<5);\n",
    "      put n=;\n",
    "      n+1;\n",
    "   end;\n",
    "```"
   ]
  },
  {
   "cell_type": "code",
   "execution_count": 2,
   "metadata": {
    "collapsed": true
   },
   "outputs": [
    {
     "name": "stdout",
     "output_type": "stream",
     "text": [
      "0\n1\n2\n3\n4\n"
     ]
    }
   ],
   "source": [
    "n = 0\n",
    "while n < 5:\n",
    "    print(n)\n",
    "    n = n + 1  # n += 1"
   ]
  },
  {
   "cell_type": "markdown",
   "metadata": {},
   "source": [
    "# Infinite Loop\n",
    "Infinite loops (ones that have no natural end) are also common practice in Python. To avoid them actually being infinite, we invoke the additional keyword `break`.\n",
    "\n",
    "```\n",
    "while True:\n",
    "  if CONDITION:\n",
    "    break  # this ends the loop\n",
    "```"
   ]
  },
  {
   "cell_type": "code",
   "execution_count": 3,
   "metadata": {
    "collapsed": true
   },
   "outputs": [
    {
     "ename": "KeyboardInterrupt",
     "evalue": "",
     "traceback": [
      "\u001b[1;31m---------------------------------------------------------------------------\u001b[0m",
      "\u001b[1;31mKeyboardInterrupt\u001b[0m                         Traceback (most recent call last)",
      "\u001b[1;32m<ipython-input-3-cccdd40a5a4c>\u001b[0m in \u001b[0;36m<module>\u001b[1;34m()\u001b[0m\n\u001b[0;32m      1\u001b[0m \u001b[1;32mwhile\u001b[0m \u001b[1;32mTrue\u001b[0m\u001b[1;33m:\u001b[0m\u001b[1;33m\u001b[0m\u001b[0m\n\u001b[1;32m----> 2\u001b[1;33m     \u001b[1;32mpass\u001b[0m\u001b[1;33m\u001b[0m\u001b[0m\n\u001b[0m",
      "\u001b[1;31mKeyboardInterrupt\u001b[0m: "
     ],
     "output_type": "error"
    }
   ],
   "source": [
    "while True:\n",
    "    pass"
   ]
  },
  {
   "cell_type": "markdown",
   "metadata": {},
   "source": [
    "Let's re-write the above code (print first five digits) with an infinite loop structure."
   ]
  },
  {
   "cell_type": "code",
   "execution_count": 4,
   "metadata": {},
   "outputs": [],
   "source": [
    "# print 0 through 4\n"
   ]
  },
  {
   "cell_type": "markdown",
   "metadata": {},
   "source": [
    "We can also use the `while` loop to go through the elements of a list?"
   ]
  },
  {
   "cell_type": "code",
   "execution_count": 6,
   "metadata": {
    "collapsed": true
   },
   "outputs": [
    {
     "name": "stdout",
     "output_type": "stream",
     "text": [
      "1\n2\n3\n4\n"
     ]
    }
   ],
   "source": [
    "lst = [1, 2, 3, 4]\n",
    "i = 0\n",
    "while i < len(lst):\n",
    "    print(lst[i])\n",
    "    i += 1"
   ]
  },
  {
   "cell_type": "markdown",
   "metadata": {},
   "source": [
    "* How would we go backwards through the list?\n",
    "* How would you go through every other element in a list?\n",
    "* How about in a string?\n",
    "* How about going through a set?\n",
    "* How about going through a dictionary?"
   ]
  },
  {
   "cell_type": "code",
   "execution_count": 7,
   "metadata": {},
   "outputs": [],
   "source": [
    "# experiment\n",
    "s = {1, 2, 3, 4}  # set \n",
    "d = {'a': 1, 2: 'b', 'c': [3, 4]}  # dictionary\n",
    "while True:\n",
    "    break"
   ]
  },
  {
   "cell_type": "markdown",
   "metadata": {},
   "source": [
    "# For Loop\n",
    "This is where Python's magic truly lies. It will take an iterable, and go element by element through it. This is similar to the `while` loop above.\n",
    "\n",
    "SAS has something like:\n",
    "```\n",
    "%do i=1 %to 10;\n",
    "   %let value=unquote(%qscan(&values,&i,%str(,)));\n",
    "%end;\n",
    "```\n",
    "\n",
    "And languages like Java have something like:\n",
    "```\n",
    "for (int i=0; i<lst.length; i++) {\n",
    "    lst[i]\n",
    "}\n",
    "```\n",
    "\n",
    "You'll notice that this is essentially a while loop done in one line\n",
    "* variable initialization\n",
    "* stopping criterion\n",
    "* increment (`i++` is Java syntactic sugar for `i += 1`)"
   ]
  },
  {
   "cell_type": "code",
   "execution_count": 8,
   "metadata": {},
   "outputs": [
    {
     "name": "stdout",
     "output_type": "stream",
     "text": [
      "0\n1\n2\n3\n4\n"
     ]
    }
   ],
   "source": [
    "# Python version of the increment for loop\n",
    "for i in range(5):\n",
    "    print(i)"
   ]
  },
  {
   "cell_type": "code",
   "execution_count": 13,
   "metadata": {},
   "outputs": [
    {
     "name": "stdout",
     "output_type": "stream",
     "text": [
      "Index: 0 \tValue: a\nIndex: 1 \tValue: b\nIndex: 2 \tValue: c\nIndex: 3 \tValue: d\nIndex: 4 \tValue: e\nIndex: 5 \tValue: f\n"
     ]
    }
   ],
   "source": [
    "lst = ['a', 'b', 'c', 'd', 'e', 'f']\n",
    "for i in range(len(lst)):\n",
    "    print('Index:', i, '\\tValue:', lst[i])"
   ]
  },
  {
   "cell_type": "code",
   "execution_count": 12,
   "metadata": {},
   "outputs": [
    {
     "name": "stdout",
     "output_type": "stream",
     "text": [
      "Index: 0 \tValue: a\nIndex: 2 \tValue: c\nIndex: 4 \tValue: e\n"
     ]
    }
   ],
   "source": [
    "lst = ['a', 'b', 'c', 'd', 'e', 'f']\n",
    "for i in range(0, len(lst), 2):\n",
    "    print('Index:', i, '\\tValue:', lst[i])"
   ]
  },
  {
   "cell_type": "markdown",
   "metadata": {},
   "source": [
    "This still doesn't work for all iterables (dictionaries, sets). For this, we need Python's for-each iterator."
   ]
  },
  {
   "cell_type": "code",
   "execution_count": 14,
   "metadata": {},
   "outputs": [
    {
     "name": "stdout",
     "output_type": "stream",
     "text": [
      "H\ne\nl\nl\no\n \nw\no\nr\nl\nd\n"
     ]
    }
   ],
   "source": [
    "s = 'Hello world'\n",
    "for letter in s:\n",
    "    print(letter)"
   ]
  },
  {
   "cell_type": "code",
   "execution_count": 15,
   "metadata": {},
   "outputs": [
    {
     "name": "stdout",
     "output_type": "stream",
     "text": [
      "1\n2\n3\n"
     ]
    }
   ],
   "source": [
    "for element in {1, 2, 3}:\n",
    "    print(element)"
   ]
  },
  {
   "cell_type": "markdown",
   "metadata": {},
   "source": [
    "This can even work for your own Classes that you write!"
   ]
  },
  {
   "cell_type": "markdown",
   "metadata": {},
   "source": [
    "# Better Example\n",
    "Let's say you had some data (from file? db? stream?)."
   ]
  },
  {
   "cell_type": "code",
   "execution_count": 18,
   "metadata": {},
   "outputs": [
    {
     "data": {
      "text/plain": [
       "[('Los Angeles', 28.1, 12.3, 17),\n ('Khartoum', 36.2, 22.9, 47),\n ('Tsetserleg', -8.3, -14.8, 50),\n ('Utsjoki', -2.2, -6.3, 88),\n ('Tsetserleg', -10.5, -13.2, 45),\n ('Vakhsh', 7.9, -3.7, 66)]"
      ]
     },
     "execution_count": 18,
     "metadata": {},
     "output_type": "execute_result"
    }
   ],
   "source": [
    "# data: location, high, low, humidity\n",
    "lst = [\n",
    "    ('Los Angeles', 28.1, 12.3, 17), \n",
    "    ('Khartoum', 36.2, 22.9, 47), \n",
    "    ('Tsetserleg', -8.3, -14.8, 50),\n",
    "    ('Utsjoki', -2.2, -6.3, 88),\n",
    "    ('Tsetserleg', -10.5, -13.2, 45),\n",
    "    ('Vakhsh', 7.9, -3.7, 66)\n",
    "]\n",
    "lst"
   ]
  },
  {
   "cell_type": "code",
   "execution_count": 19,
   "metadata": {},
   "outputs": [
    {
     "data": {
      "text/plain": [
       "(12.3, 'Vakhsh')"
      ]
     },
     "execution_count": 19,
     "metadata": {},
     "output_type": "execute_result"
    }
   ],
   "source": [
    "# access the index and record\n",
    "lst[0][2], lst[-1][0]"
   ]
  },
  {
   "cell_type": "code",
   "execution_count": 24,
   "metadata": {},
   "outputs": [
    {
     "name": "stdout",
     "output_type": "stream",
     "text": [
      "Difference 6.5\nDifference 4.1\nDifference 2.6999999999999993\n"
     ]
    }
   ],
   "source": [
    "# iterate through items\n",
    "for element in lst:\n",
    "    if element[1] > 0:  # high is > 0\n",
    "        continue\n",
    "    print('Difference', element[1] - element[2])"
   ]
  },
  {
   "cell_type": "code",
   "execution_count": 25,
   "metadata": {},
   "outputs": [
    {
     "name": "stdout",
     "output_type": "stream",
     "text": [
      "----\nLos Angeles\n28.1\n12.3\n17\n----\nKhartoum\n36.2\n22.9\n47\n----\nTsetserleg\n-8.3\n-14.8\n50\n----\nUtsjoki\n-2.2\n-6.3\n88\n----\nTsetserleg\n-10.5\n-13.2\n45\n----\nVakhsh\n7.9\n-3.7\n66\n"
     ]
    }
   ],
   "source": [
    "# embedded for loops\n",
    "for measurements in lst:\n",
    "    print('----')\n",
    "    for measure in measurements:\n",
    "        print(measure)"
   ]
  },
  {
   "cell_type": "markdown",
   "metadata": {},
   "source": [
    "# With dictionaries\n",
    "You iterate through the keys, not the values"
   ]
  },
  {
   "cell_type": "code",
   "execution_count": 28,
   "metadata": {},
   "outputs": [],
   "source": [
    "d = {\n",
    "    'a': 1,\n",
    "    'b': 2,\n",
    "    'c': 3,\n",
    "    'de': [4, 5]\n",
    "}"
   ]
  },
  {
   "cell_type": "code",
   "execution_count": 31,
   "metadata": {},
   "outputs": [
    {
     "name": "stdout",
     "output_type": "stream",
     "text": [
      "Key a\nValue 1\nKey b\nValue 2\nKey c\nValue 3\nKey de\nValue [4, 5]\n"
     ]
    }
   ],
   "source": [
    "for el in d:\n",
    "    print('Key', el)\n",
    "    print('Value', d[el])"
   ]
  }
 ],
 "metadata": {
  "kernelspec": {
   "display_name": "Python 2",
   "language": "python",
   "name": "python2"
  },
  "language_info": {
   "codemirror_mode": {
    "name": "ipython",
    "version": 2
   },
   "file_extension": ".py",
   "mimetype": "text/x-python",
   "name": "python",
   "nbconvert_exporter": "python",
   "pygments_lexer": "ipython2",
   "version": "2.7.6"
  }
 },
 "nbformat": 4,
 "nbformat_minor": 0
}
