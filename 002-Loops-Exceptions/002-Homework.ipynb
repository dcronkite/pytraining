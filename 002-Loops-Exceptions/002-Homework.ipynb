{
 "cells": [
  {
   "cell_type": "markdown",
   "metadata": {},
   "source": [
    "# PROBLEM 1\n",
    "Use a loop to count down from 5, and then print out 'blastoff'. Do it two ways, one with a `while` loop and one with a `for` loop.\n",
    "\n",
    "The output should be:\n",
    "```\n",
    "5\n",
    "4\n",
    "3\n",
    "2\n",
    "1\n",
    "Blastoff\n",
    "```\n",
    "\n",
    "In the `for` loop, you can use the `range` function, which takes arguments: `range(start_value, end_value, increment)`\n",
    "```\n",
    "for i in range(5):\n",
    "    print(i)\n",
    "```\n",
    "Output:\n",
    "```\n",
    "0\n",
    "1\n",
    "2\n",
    "3\n",
    "4\n",
    "```\n",
    "\n",
    "`for i in range(5, 0, -1)` <- start with: 5, stop when you reach 0, increment by -1"
   ]
  },
  {
   "cell_type": "code",
   "execution_count": null,
   "metadata": {},
   "outputs": [],
   "source": [
    "count = 5\n",
    "# Do with for/while loop\n",
    "print('Blastoff')"
   ]
  },
  {
   "cell_type": "markdown",
   "metadata": {},
   "source": [
    "Do the above again, but instead of using the form:\n",
    "```\n",
    "count = count - 1\n",
    "```\n",
    "try this out:\n",
    "```\n",
    "count -= 1\n",
    "```\n",
    "\n",
    "What other Python operators (e.g., `+`, `*`, etc.) does this work with?"
   ]
  },
  {
   "cell_type": "code",
   "execution_count": null,
   "metadata": {},
   "outputs": [],
   "source": [
    "# What other Python operators (e.g., `+`, `*`, etc.) does this work with?"
   ]
  },
  {
   "cell_type": "markdown",
   "metadata": {},
   "source": [
    "# PROBLEM 2\n",
    "Add all the items of an input list.\n",
    "\n",
    "* Input:\n",
    "```\n",
    "lst = [1, 2, 3, 4, -2, -1.5, 0]\n",
    "```\n",
    "\n",
    "* Output:\n",
    "```\n",
    "6.5\n",
    "```"
   ]
  },
  {
   "cell_type": "code",
   "execution_count": null,
   "metadata": {},
   "outputs": [],
   "source": [
    "lst = [1, 2, 3, 4, -2, -1.5, 0]\n",
    "count = 0\n",
    "# for/while loop here\n",
    "print(count)"
   ]
  },
  {
   "cell_type": "markdown",
   "metadata": {},
   "source": [
    "This is a very frequent process in Python programs, so there's a built-in function (like `type()` and `input()` and `print()`): `sum()`. \n",
    "\n",
    "Give it a try:"
   ]
  },
  {
   "cell_type": "code",
   "execution_count": null,
   "metadata": {},
   "outputs": [],
   "source": [
    ""
   ]
  },
  {
   "cell_type": "markdown",
   "metadata": {},
   "source": [
    "Using the same list, add every other element. \n",
    "\n",
    "If the number is negative, subtract it.\n",
    "\n",
    "There are two ways to do this, \n",
    "\n",
    "## I. One uses the list indexing:\n",
    "```\n",
    "lst[start: end: step] OR lst[::step]\n",
    "```"
   ]
  },
  {
   "cell_type": "code",
   "execution_count": null,
   "metadata": {},
   "outputs": [],
   "source": [
    "# for list with indexing"
   ]
  },
  {
   "cell_type": "markdown",
   "metadata": {},
   "source": [
    "## II. Another uses the built-in function `enumerate()`:\n",
    "\n",
    "HINT: A number can be judged to be even using:\n",
    "```\n",
    "if x % 2 == 0:\n",
    "    print('even')\n",
    "else:\n",
    "    print('odd')\n",
    "```"
   ]
  },
  {
   "cell_type": "code",
   "execution_count": null,
   "metadata": {},
   "outputs": [],
   "source": [
    "# for list with enumeration\n",
    "for i, item in enumerate(lst):\n",
    "    print(i, item)\n",
    "    # check if index `i` is even or odd"
   ]
  },
  {
   "cell_type": "markdown",
   "metadata": {},
   "source": [
    "# PROBLEM 3\n",
    "Write a function to get the minimum and maximum values from a list.\n"
   ]
  },
  {
   "cell_type": "code",
   "execution_count": null,
   "metadata": {},
   "outputs": [],
   "source": [
    "def minimum(lst):\n",
    "    curr_min = None\n",
    "    for element in lst:\n",
    "        # check if element is less than curr minimum\n",
    "        # if current minimum is None, just take the element\n",
    "        pass  # this doesn't do anything\n",
    "    return curr_min"
   ]
  },
  {
   "cell_type": "code",
   "execution_count": null,
   "metadata": {},
   "outputs": [],
   "source": [
    "print('SUCCESS' if minimum([1, 4, 5, 8, 100]) == 1 else 'FAILURE')\n",
    "print('SUCCESS' if minimum([1, -40, -5, 80, -100]) == -100 else 'FAILURE: Account for negative numbers')\n",
    "print('SUCCESS' if minimum([0, 4, 8.0, 10000]) == 0 else 'FAILURE: Minimum value is zero')\n",
    "print('SUCCESS' if minimum([-4, 4, 5, 8, -100000]) == -100000 else 'FAILURE')"
   ]
  },
  {
   "cell_type": "code",
   "execution_count": null,
   "metadata": {},
   "outputs": [],
   "source": [
    "def maximum(lst):\n",
    "    curr_max = None\n",
    "    return curr_max"
   ]
  },
  {
   "cell_type": "code",
   "execution_count": null,
   "metadata": {},
   "outputs": [],
   "source": [
    "print('SUCCESS' if maximum([1, 4, 5, 8, 100, 100.1]) == 100.1 else 'FAILURE')\n",
    "print('SUCCESS' if maximum([-40, -50, -800, -100]) == -40 else 'FAILURE: Account for negative numbers')\n",
    "print('SUCCESS' if maximum([0, 4, 8.0, -100000]) == 0 else 'FAILURE: Maximum value is zero')\n",
    "print('SUCCESS' if maximum([-4, 4, 5, 8, 100000]) == -100000 else 'FAILURE')"
   ]
  },
  {
   "cell_type": "markdown",
   "metadata": {},
   "source": [
    "We've been looking at some of the common built-in functions, and these include `min` and `max`, try them out:"
   ]
  },
  {
   "cell_type": "code",
   "execution_count": null,
   "metadata": {},
   "outputs": [],
   "source": [
    "min([1, 2, 3, 4])\n",
    "max([-1, 0, 1])"
   ]
  }
 ],
 "metadata": {
  "kernelspec": {
   "display_name": "Python 2",
   "language": "python",
   "name": "python2"
  },
  "language_info": {
   "codemirror_mode": {
    "name": "ipython",
    "version": 2
   },
   "file_extension": ".py",
   "mimetype": "text/x-python",
   "name": "python",
   "nbconvert_exporter": "python",
   "pygments_lexer": "ipython2",
   "version": "2.7.6"
  }
 },
 "nbformat": 4,
 "nbformat_minor": 0
}
