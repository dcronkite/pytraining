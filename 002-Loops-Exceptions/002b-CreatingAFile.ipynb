{
 "cells": [
  {
   "cell_type": "markdown",
   "metadata": {
    "collapsed": true
   },
   "source": [
    "* How to actually create a Python file\n",
    "* How to run it\n",
    "    * Using Notepad++/Sublime\n",
    "    * Using IDE\n",
    "* How to take user input (input)"
   ]
  },
  {
   "cell_type": "code",
   "execution_count": null,
   "metadata": {},
   "outputs": [],
   "source": [
    "# calculate total \n",
    "x = ''\n",
    "total = 0\n",
    "while True:\n",
    "    x = input('I will count length of what you put in:')\n",
    "    if x.lower() in ['stop', 'quit']:\n",
    "        break\n",
    "    print('Length', len(x))\n",
    "    total += len(x)\n",
    "print('Total', total)"
   ]
  }
 ],
 "metadata": {
  "kernelspec": {
   "display_name": "Python 2",
   "language": "python",
   "name": "python2"
  },
  "language_info": {
   "codemirror_mode": {
    "name": "ipython",
    "version": 2
   },
   "file_extension": ".py",
   "mimetype": "text/x-python",
   "name": "python",
   "nbconvert_exporter": "python",
   "pygments_lexer": "ipython2",
   "version": "2.7.6"
  }
 },
 "nbformat": 4,
 "nbformat_minor": 0
}
