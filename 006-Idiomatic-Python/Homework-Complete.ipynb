{
 "cells": [
  {
   "cell_type": "markdown",
   "metadata": {
    "collapsed": true
   },
   "source": [
    "# Homework-Completed\n",
    "This will review for loops and consider the application of the list comprehension."
   ]
  },
  {
   "cell_type": "code",
   "execution_count": null,
   "metadata": {},
   "outputs": [],
   "source": [
    "dickens = '''\n",
    "I HAVE endeavoured in this Ghostly little book,\n",
    "to raise the Ghost of an Idea, which shall not put my\n",
    "readers out of humour with themselves, with each other,\n",
    "with the season, or with me.  May it haunt their houses\n",
    "pleasantly, and no one wish to lay it.\n",
    "'''"
   ]
  },
  {
   "cell_type": "code",
   "execution_count": null,
   "metadata": {},
   "outputs": [],
   "source": [
    "# let's format this code using the regex library\n",
    "import re\n",
    "# much of learning about a language is learning to read it \n",
    "#  see if you can parse this regular expression\n",
    "#  note that using parenthesis in re.split causes\n",
    "#  the splitting value to get captured\n",
    "# Go ahead and consult the doco too: https://docs.python.org/3.6/library/re.html#re.split\n",
    "# Use the extra cells to play with pieces of this code to see what each part is doing\n",
    "sentences = [re.split('(\\s+|\\W)', sentence) for sentence in dickens.strip().split('\\n')]\n",
    "sentences"
   ]
  },
  {
   "cell_type": "code",
   "execution_count": null,
   "metadata": {},
   "outputs": [],
   "source": [
    "dickens.strip()  # what did this do?"
   ]
  },
  {
   "cell_type": "code",
   "execution_count": null,
   "metadata": {},
   "outputs": [],
   "source": [
    "dickens.strip().split('\\n')  # what did this do?"
   ]
  },
  {
   "cell_type": "markdown",
   "metadata": {},
   "source": [
    "Let's count the number of words in this passage in dickens. We'll break it down into smaller steps."
   ]
  },
  {
   "cell_type": "code",
   "execution_count": null,
   "metadata": {},
   "outputs": [],
   "source": [
    "# start by using a traditional for-loop to get the length of each sentence\n",
    "# for sentence in sentences...\n",
    "res = []\n",
    "for sentence in sentences:\n",
    "    res.append(len(sentence))"
   ]
  },
  {
   "cell_type": "code",
   "execution_count": null,
   "metadata": {},
   "outputs": [],
   "source": [
    "# convert the for-loop into a list comprehension\n",
    "res = [len(sentence) for sentence in sentences]"
   ]
  },
  {
   "cell_type": "code",
   "execution_count": null,
   "metadata": {},
   "outputs": [],
   "source": [
    "# this isn't a good metric since we're counting all that white space too\n",
    "# in our for-loop, we'll need to check if value is not just white space\n",
    "# to do this, we can use the str.strip method which removes extra white space\n",
    "' '.strip(), ' hello world '.strip()"
   ]
  },
  {
   "cell_type": "code",
   "execution_count": null,
   "metadata": {},
   "outputs": [],
   "source": [
    "# the if statement in Python is quite powerful, but a bit tricky\n",
    "# consider these:\n",
    "if ' ':\n",
    "    print('Resolves to true')\n",
    "else:\n",
    "    print('Resolves to false')"
   ]
  },
  {
   "cell_type": "code",
   "execution_count": null,
   "metadata": {},
   "outputs": [],
   "source": [
    "# let's see what happens with the empty string\n",
    "if '':\n",
    "    print('Resolves to true')\n",
    "else:\n",
    "    print('Resolves to false')"
   ]
  },
  {
   "cell_type": "code",
   "execution_count": null,
   "metadata": {},
   "outputs": [],
   "source": [
    "# what will this resolve to?\n",
    "if ' '.strip():\n",
    "    print('Resolves to true')\n",
    "else:\n",
    "    print('Resolves to false')"
   ]
  },
  {
   "cell_type": "code",
   "execution_count": null,
   "metadata": {},
   "outputs": [],
   "source": [
    "# how about this?\n",
    "if not '   '.strip():\n",
    "    print('Resolves to true')\n",
    "else:\n",
    "    print('Resolves to false')"
   ]
  },
  {
   "cell_type": "markdown",
   "metadata": {},
   "source": [
    "Interesting... the `' '.strip` method can help us identify blank spaces, let's add it to a for-loop going word by word"
   ]
  },
  {
   "cell_type": "code",
   "execution_count": null,
   "metadata": {},
   "outputs": [],
   "source": [
    "# let's only words and punctuation to results, ignore spaces\n",
    "results = []\n",
    "for word in sentences[0]:  # just get the first sentence for now\n",
    "    # insert if statement:\n",
    "    if not word.strip():\n",
    "        results.append(word)"
   ]
  },
  {
   "cell_type": "code",
   "execution_count": null,
   "metadata": {},
   "outputs": [],
   "source": [
    "# convert the above into a list comprehension\n",
    "# remember that the `if not word.strip()` will go at the end\n",
    "results = [word for word in sentences[0] if not word.strip()]"
   ]
  },
  {
   "cell_type": "code",
   "execution_count": null,
   "metadata": {},
   "outputs": [],
   "source": [
    "# write embedded for-loops to process all the words in all sentences\n",
    "# and add them to a single list\n",
    "# for sentence in sentences...for word in sentence...if...\n",
    "results = []\n",
    "for sentence in sentences:\n",
    "    for word in sentence:\n",
    "        if not word.strip():\n",
    "            results.append(word)"
   ]
  },
  {
   "cell_type": "code",
   "execution_count": null,
   "metadata": {},
   "outputs": [],
   "source": [
    "# we can actually make this into a list comprehension as well\n",
    "results = [word for sentence in sentences for word in sentence if not word.strip()]\n",
    "results"
   ]
  },
  {
   "cell_type": "markdown",
   "metadata": {},
   "source": [
    "I think you can see how list comprehensions can start becoming somewhat unreadable or difficult to maintain.\n",
    "\n",
    "When using any complex list comprehension, it's usually worth leaving a practical comment about what's going on here. Or, perhaps consider using a traditional for-loop."
   ]
  }
 ],
 "metadata": {
  "kernelspec": {
   "display_name": "Python 2",
   "language": "python",
   "name": "python2"
  },
  "language_info": {
   "codemirror_mode": {
    "name": "ipython",
    "version": 2
   },
   "file_extension": ".py",
   "mimetype": "text/x-python",
   "name": "python",
   "nbconvert_exporter": "python",
   "pygments_lexer": "ipython2",
   "version": "2.7.6"
  }
 },
 "nbformat": 4,
 "nbformat_minor": 0
}
