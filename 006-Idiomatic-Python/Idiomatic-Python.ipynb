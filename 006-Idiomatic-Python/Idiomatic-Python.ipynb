{
 "cells": [
  {
   "cell_type": "markdown",
   "metadata": {
    "collapsed": true
   },
   "source": [
    "# Idiomatic Python\n",
    "\n",
    "* convert for-loop to list comprehension (dict)\n",
    "    * add if-check\n",
    "    * `if x` rather than `if x is None`\n",
    "    * `enumerate` and `range`\n",
    "* `try` - `except`\n",
    "* `from x import y`\n",
    "* Review `find_in_directory.py`\n",
    "* how to run a Python file\n",
    "    * sys.argv\n",
    "    * argparse\n",
    "* packages\n",
    "* Use the batteries: the library already exists\n",
    "* comments, documentation\n",
    "* logging\n",
    "* Extra: argparse"
   ]
  },
  {
   "cell_type": "markdown",
   "metadata": {},
   "source": [
    "We're going to start by looking at iterating a few data structures, and then\n",
    "we'll look at how to make these more idiomatic. The syntax may look a bit foreign\n",
    "at first, but you'll find it ends up cleaning up your code quite a bit. These idioms\n",
    "are not meant to be universally applicable -- and through experimentation, you'll get\n",
    "a feel for when and how to use them: and how not to use them. ;)"
   ]
  },
  {
   "cell_type": "code",
   "execution_count": null,
   "metadata": {
    "collapsed": true
   },
   "outputs": [],
   "source": [
    "# get some data\n",
    "lst = [\n",
    "    'george@gmail.com',\n",
    "    'miksi@hotmail.fi',\n",
    "    'python3.1@gmail.com',\n",
    "    'spam@gmail.com',\n",
    "    'spam@hotmail.com',\n",
    "    'hacked@yahoo.com'\n",
    "]"
   ]
  },
  {
   "cell_type": "code",
   "execution_count": null,
   "metadata": {
    "collapsed": true
   },
   "outputs": [],
   "source": [
    "# how do we iterate through these in a for-loop?\n"
   ]
  },
  {
   "cell_type": "code",
   "execution_count": null,
   "metadata": {
    "collapsed": true
   },
   "outputs": [],
   "source": [
    "out = []  # how would you add these to the list `out`?"
   ]
  },
  {
   "cell_type": "code",
   "execution_count": null,
   "metadata": {},
   "outputs": [],
   "source": [
    "# here's an idiomatic way to write it\n",
    "[email for email in lst]"
   ]
  },
  {
   "cell_type": "code",
   "execution_count": null,
   "metadata": {},
   "outputs": [],
   "source": [
    "# how could we modify this to get the lengths of the emails in a separate list?"
   ]
  },
  {
   "cell_type": "code",
   "execution_count": null,
   "metadata": {},
   "outputs": [],
   "source": [
    "# what if we only want the lengths of gmail addresses, not the hotmail ones?\n",
    "# use a regular for-loop"
   ]
  },
  {
   "cell_type": "code",
   "execution_count": null,
   "metadata": {},
   "outputs": [],
   "source": [
    "# what do you think the list comprehension idiom looks like?"
   ]
  },
  {
   "cell_type": "code",
   "execution_count": null,
   "metadata": {},
   "outputs": [],
   "source": [
    "# let's create a new list that only includes the domain portion (e.g., 'gmail.com')\n",
    "# use the traditional for-loop"
   ]
  },
  {
   "cell_type": "code",
   "execution_count": null,
   "metadata": {},
   "outputs": [],
   "source": [
    "# and the list comprehension?"
   ]
  },
  {
   "cell_type": "code",
   "execution_count": null,
   "metadata": {},
   "outputs": [],
   "source": [
    "# how can we get a unique set of domains?"
   ]
  },
  {
   "cell_type": "code",
   "execution_count": null,
   "metadata": {},
   "outputs": [],
   "source": [
    "# how do we get the first part but exclude gmail users?"
   ]
  },
  {
   "cell_type": "code",
   "execution_count": null,
   "metadata": {},
   "outputs": [],
   "source": [
    "# ascii letters to ordinal value\n",
    "from string import ascii_letters\n",
    "ascii_letters"
   ]
  },
  {
   "cell_type": "code",
   "execution_count": null,
   "metadata": {},
   "outputs": [],
   "source": [
    "# we can get the \"ordinal\" value of these characters by using `ord` function\n",
    "ord('a')"
   ]
  },
  {
   "cell_type": "code",
   "execution_count": null,
   "metadata": {},
   "outputs": [],
   "source": [
    "# get a list of all the ordinal values of the letters"
   ]
  },
  {
   "cell_type": "code",
   "execution_count": null,
   "metadata": {},
   "outputs": [],
   "source": [
    "# let's create a conversion table from the letters to the ordinal values\n",
    "{letter: ord(letter) for letter in ascii_letters}"
   ]
  },
  {
   "cell_type": "code",
   "execution_count": null,
   "metadata": {
    "collapsed": true
   },
   "outputs": [],
   "source": [
    "# how does Python know to use set or dict for the { }s ?"
   ]
  },
  {
   "cell_type": "code",
   "execution_count": null,
   "metadata": {},
   "outputs": [],
   "source": [
    "# enumerate\n",
    "# when iterating through a list, often you need to know what index you're at\n",
    "for letter in ascii_letters:\n",
    "    print(letter)"
   ]
  },
  {
   "cell_type": "code",
   "execution_count": null,
   "metadata": {},
   "outputs": [],
   "source": [
    "for index, letter in enumerate(ascii_letters):\n",
    "    print(index, letter)"
   ]
  },
  {
   "cell_type": "code",
   "execution_count": null,
   "metadata": {},
   "outputs": [],
   "source": [
    "# start at 1 rather than 0"
   ]
  },
  {
   "cell_type": "markdown",
   "metadata": {},
   "source": [
    "# Other Idiomatic Expressions"
   ]
  },
  {
   "cell_type": "code",
   "execution_count": null,
   "metadata": {
    "collapsed": true
   },
   "outputs": [],
   "source": [
    "# easier to ask forgiveness than permisison\n",
    "try: \n",
    "    raise ValueError\n",
    "except ValueError:\n",
    "    pass"
   ]
  },
  {
   "cell_type": "code",
   "execution_count": null,
   "metadata": {},
   "outputs": [],
   "source": [
    "x = ''\n",
    "if x:\n",
    "    print('Is x!')\n",
    "else:\n",
    "    print('x is false')"
   ]
  },
  {
   "cell_type": "code",
   "execution_count": null,
   "metadata": {},
   "outputs": [],
   "source": [
    "# Python's ternary operator\n",
    "# similar to: predicate ? if_true : if_false\n",
    "x = 0 if x else 1\n",
    "x"
   ]
  },
  {
   "cell_type": "markdown",
   "metadata": {},
   "source": [
    "# Notes for Editing Project File\n",
    "## Importing Modules: Don't use \"*\"\n",
    "\n",
    "    from module import *\n",
    "\n",
    "You've probably seen this \"wild card\" form of the import statement. You may even like it. Don't use it.\n",
    "\n",
    "To adapt a well-known exchange:\n",
    "\n",
    "    (Exterior Dagobah, jungle, swamp, and mist.)\n",
    "\n",
    "    LUKE: Is from module import * better than explicit imports?\n",
    "\n",
    "    YODA: No, not better. Quicker, easier, more seductive.\n",
    "\n",
    "    LUKE: But how will I know why explicit imports are better than the wild-card form?\n",
    "\n",
    "    YODA: Know you will when your code you try to read six months from now.\n",
    "\n",
    "Wild-card imports are from the dark side of Python.\n",
    "\n",
    "- source: http://python.net/~goodger/projects/pycon/2007/idiomatic/handout.html\n",
    "\n",
    "## Parsing Arguments\n",
    "\n",
    "    import sys\n",
    "    sys.argv  # this is a list containing arguments\n",
    "    \n",
    "### Argparse: When Complexity comes into play\n",
    "* See: https://docs.python.org/3/library/argparse.html"
   ]
  }
 ],
 "metadata": {
  "kernelspec": {
   "display_name": "Python 3",
   "language": "python",
   "name": "python3"
  },
  "language_info": {
   "codemirror_mode": {
    "name": "ipython",
    "version": 3
   },
   "file_extension": ".py",
   "mimetype": "text/x-python",
   "name": "python",
   "nbconvert_exporter": "python",
   "pygments_lexer": "ipython3",
   "version": "3.6.1"
  }
 },
 "nbformat": 4,
 "nbformat_minor": 1
}
