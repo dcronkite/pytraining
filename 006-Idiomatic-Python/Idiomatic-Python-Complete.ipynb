{
 "cells": [
  {
   "cell_type": "markdown",
   "metadata": {
    "collapsed": true
   },
   "source": [
    "# Idiomatic Python\n",
    "\n",
    "* convert for-loop to list comprehension (dict)\n",
    "    * add if-check\n",
    "    * `if x` rather than `if x is None`\n",
    "    * `enumerate` and `range`\n",
    "* `try` - `except`\n",
    "* `from x import y`\n",
    "* Review `find_in_directory.py`\n",
    "* how to run a Python file\n",
    "    * sys.argv\n",
    "    * argparse\n",
    "* packages\n",
    "* Use the batteries: the library already exists\n",
    "* comments, documentation\n",
    "* logging\n",
    "* Extra: argparse"
   ]
  },
  {
   "cell_type": "markdown",
   "metadata": {},
   "source": [
    "Importing\n",
    "\n",
    "    from module import *\n",
    "\n",
    "You've probably seen this \"wild card\" form of the import statement. You may even like it. Don't use it.\n",
    "\n",
    "To adapt a well-known exchange:\n",
    "\n",
    "    (Exterior Dagobah, jungle, swamp, and mist.)\n",
    "\n",
    "    LUKE: Is from module import * better than explicit imports?\n",
    "\n",
    "    YODA: No, not better. Quicker, easier, more seductive.\n",
    "\n",
    "    LUKE: But how will I know why explicit imports are better than the wild-card form?\n",
    "\n",
    "    YODA: Know you will when your code you try to read six months from now.\n",
    "\n",
    "Wild-card imports are from the dark side of Python.\n",
    "\n",
    "- source: http://python.net/~goodger/projects/pycon/2007/idiomatic/handout.html"
   ]
  },
  {
   "cell_type": "markdown",
   "metadata": {},
   "source": [
    "We're going to start by looking at iterating a few data structures, and then\n",
    "we'll look at how to make these more idiomatic. The syntax may look a bit foreign\n",
    "at first, but you'll find it ends up cleaning up your code quite a bit. These idioms\n",
    "are not meant to be universally applicable -- and through experimentation, you'll get\n",
    "a feel for when and how to use them: and how not to use them. ;)"
   ]
  },
  {
   "cell_type": "code",
   "execution_count": null,
   "metadata": {},
   "outputs": [],
   "source": [
    "# get some data\n",
    "lst = [\n",
    "    'george@gmail.com',\n",
    "    'miksi@hotmail.fi',\n",
    "    'python3.1@gmail.com',\n",
    "    'spam@gmail.com',\n",
    "    'spam@hotmail.com',\n",
    "    'hacked@yahoo.com'\n",
    "]"
   ]
  },
  {
   "cell_type": "code",
   "execution_count": null,
   "metadata": {},
   "outputs": [],
   "source": [
    "# how do we iterate through these in a for-loop?\n",
    "for email in lst:\n",
    "    pass"
   ]
  },
  {
   "cell_type": "code",
   "execution_count": null,
   "metadata": {},
   "outputs": [],
   "source": [
    "out = []\n",
    "for email in lst:\n",
    "    out.append(email)"
   ]
  },
  {
   "cell_type": "code",
   "execution_count": null,
   "metadata": {},
   "outputs": [],
   "source": [
    "# here's an idiomatic way to write it\n",
    "out = [email for email in lst]\n",
    "out"
   ]
  },
  {
   "cell_type": "code",
   "execution_count": null,
   "metadata": {},
   "outputs": [],
   "source": [
    "# how could we modify this to get the lengths of the emails in a separate list?\n",
    "out = [len(email) for email in lst]\n",
    "out"
   ]
  },
  {
   "cell_type": "code",
   "execution_count": null,
   "metadata": {},
   "outputs": [],
   "source": [
    "# what if we only want the lengths of gmail addresses\n",
    "out = []\n",
    "for email in lst:\n",
    "    if 'gmail' in email:\n",
    "        out.append(email)\n",
    "out"
   ]
  },
  {
   "cell_type": "code",
   "execution_count": null,
   "metadata": {},
   "outputs": [],
   "source": [
    "# what do you think the idiom looks like?\n",
    "out = [len(email) for email in lst if 'gmail' in email]\n",
    "out"
   ]
  },
  {
   "cell_type": "code",
   "execution_count": null,
   "metadata": {},
   "outputs": [],
   "source": [
    "# let's create a new list that only includes the url portion\n",
    "out = []\n",
    "for email in lst:\n",
    "    path, url = '@'.split(email)\n",
    "    out.append(url)\n",
    "    # or, rewrite as\n",
    "    out.append('@'.split(email)[1])\n",
    "out"
   ]
  },
  {
   "cell_type": "code",
   "execution_count": null,
   "metadata": {},
   "outputs": [],
   "source": [
    "out = ['@'.split(email)[1] for email in lst]\n",
    "out"
   ]
  },
  {
   "cell_type": "code",
   "execution_count": null,
   "metadata": {},
   "outputs": [],
   "source": [
    "# how can we get a unique set?\n",
    "out = {'@'.split(email)[1] for email in lst}\n",
    "out"
   ]
  },
  {
   "cell_type": "code",
   "execution_count": null,
   "metadata": {},
   "outputs": [],
   "source": [
    "# how do we get the first part but exclude gmail users?\n",
    "out = {'@'.split(email)[0] for email in lst if 'gmail' not in email}\n",
    "out"
   ]
  },
  {
   "cell_type": "code",
   "execution_count": null,
   "metadata": {},
   "outputs": [],
   "source": [
    "# ascii letters to ordinal value\n",
    "from string import ascii_letters\n",
    "ascii_letters"
   ]
  },
  {
   "cell_type": "code",
   "execution_count": null,
   "metadata": {},
   "outputs": [],
   "source": [
    "# we can get the \"ordinal\" value of these characters by using `ord` function\n",
    "ord('a')"
   ]
  },
  {
   "cell_type": "code",
   "execution_count": null,
   "metadata": {},
   "outputs": [],
   "source": [
    "# get a list of all the ordinal values of the letters\n",
    "[ord(letter) for letter in ascii_letters]"
   ]
  },
  {
   "cell_type": "code",
   "execution_count": null,
   "metadata": {},
   "outputs": [],
   "source": [
    "# let's create a conversion table from the letters to the ordinal values\n",
    "{letter: ord(letter) for letter in ascii_letters}"
   ]
  },
  {
   "cell_type": "code",
   "execution_count": null,
   "metadata": {},
   "outputs": [],
   "source": [
    "# how does Python know to use set or dict for the { }s ?"
   ]
  },
  {
   "cell_type": "code",
   "execution_count": null,
   "metadata": {},
   "outputs": [],
   "source": [
    "# enumerate"
   ]
  }
 ],
 "metadata": {
  "kernelspec": {
   "display_name": "Python 2",
   "language": "python",
   "name": "python2"
  },
  "language_info": {
   "codemirror_mode": {
    "name": "ipython",
    "version": 2
   },
   "file_extension": ".py",
   "mimetype": "text/x-python",
   "name": "python",
   "nbconvert_exporter": "python",
   "pygments_lexer": "ipython2",
   "version": "2.7.6"
  }
 },
 "nbformat": 4,
 "nbformat_minor": 0
}
