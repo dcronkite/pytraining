{
 "cells": [
  {
   "cell_type": "markdown",
   "metadata": {},
   "source": [
    "# Regular Expressions and Text\n",
    "The primary goal of this practice will be to engage with an use regular expressions. Text processing--particularly with the support of regexes (regular expressions)--is one of Python's strong suits. Not to mention, that as of Python 3.6 (the version you downloaded), regexes are faster than ever.\n",
    "\n",
    "**If you are not familiar with regular expressions or feel a bit weak in that regard, try a gentle exercise-oriented introduction like: https://regexone.com/lesson/introduction_abcs**"
   ]
  },
  {
   "cell_type": "markdown",
   "metadata": {},
   "source": [
    "## For the Regex Expert\n",
    "If, on the other hand, you're a regex pro, make sure you understand how regular expressions work (e.g., regular languages, formal language theory, etc.)--always have a decent grasp of what's going on at the level below which you actually work. :) Check out these resources:\n",
    "* https://en.wikipedia.org/wiki/Regular_expression\n",
    "* https://softwareengineering.stackexchange.com/a/122469\n",
    "* http://www.moserware.com/2009/03/how-net-regular-expressions-really-work.html <- C#, but still helpful"
   ]
  },
  {
   "cell_type": "markdown",
   "metadata": {},
   "source": [
    "## Homework"
   ]
  },
  {
   "cell_type": "markdown",
   "metadata": {},
   "source": [
    "When using regular expressions, most of the time, we want to start by compiling a pattern. This has the advantage of:\n",
    "* Making our code more maintainable\n",
    "* Telling Python to keep track of the compiled regex"
   ]
  },
  {
   "cell_type": "markdown",
   "metadata": {},
   "source": [
    "## Task: Create a List of All Area Codes in a Text Block\n",
    "We're going to take some small steps to build up a regular expression.\n",
    "\n",
    "If you get stuck, copy the regex and the text into regexr.com (or your favorite regex site!)."
   ]
  },
  {
   "cell_type": "code",
   "execution_count": null,
   "metadata": {
    "collapsed": true
   },
   "outputs": [],
   "source": [
    "import re  # import re"
   ]
  },
  {
   "cell_type": "code",
   "execution_count": null,
   "metadata": {
    "collapsed": false
   },
   "outputs": [],
   "source": [
    "# Step 1: Create a regex to match a single number\n",
    "text = '4'\n",
    "pat = re.compile(r'\\d')\n",
    "# match tries to match the entire string\n",
    "# starting from the beginning\n",
    "m = pat.match(text)  \n",
    "m  # you should get a result containing the number"
   ]
  },
  {
   "cell_type": "code",
   "execution_count": null,
   "metadata": {
    "collapsed": false
   },
   "outputs": [],
   "source": [
    "# Step 2: Generalize to any three numbers\n",
    "texts = ['458', '324', '123', '444']\n",
    "pat = re.compile(r'\\d+')  # use the digit capture\n",
    "for text in texts:\n",
    "    m = pat.match(text)\n",
    "    print(m.group())\n",
    "    assert len(m.group()) == 3  # make sure there are only 3 characters"
   ]
  },
  {
   "cell_type": "code",
   "execution_count": null,
   "metadata": {
    "collapsed": true
   },
   "outputs": [],
   "source": [
    "# Step 3: Only capture first three numbers\n",
    "# You can specify the number you expect rather than\n",
    "#  being vague with the `+` or `*`.\n",
    "# r't{2,4}'  # capture 2, 3, or 4 't's\n",
    "texts = ['4582', '324', '123405', '444-33']\n",
    "pat = re.compile(r'\\d{3}')  # specify number using `{#}`\n",
    "for text in texts:\n",
    "    m = pat.match(text)\n",
    "    print(m.group())\n",
    "    assert len(m.group()) == 3"
   ]
  },
  {
   "cell_type": "code",
   "execution_count": null,
   "metadata": {
    "collapsed": false
   },
   "outputs": [],
   "source": [
    "# Step 4: Use capturing parentheses\n",
    "# every () combo captures what's inside\n",
    "# to do a non-capturing parenthesis, use (?:)\n",
    "# Build a regex for entire expression, but capture\n",
    "#   the first three values\n",
    "# Use \\D for non-digit, use \\D? for optional non-digit\n",
    "texts = [\n",
    "    '4582112312', \n",
    "    '324 231 2234',\n",
    "    '123 405 4999', \n",
    "    '444-332-2311']\n",
    "pat = re.compile(r'(\\d{3})\\D?\\d{3}\\D?\\d{4}')  \n",
    "for text in texts:\n",
    "    m = pat.match(text)\n",
    "    print(m.group(1))  # group 1, so need to capture\n",
    "    assert len(m.group(1)) == 3"
   ]
  },
  {
   "cell_type": "code",
   "execution_count": null,
   "metadata": {
    "collapsed": false
   },
   "outputs": [],
   "source": [
    "# Step 5: Account for more variation\n",
    "# We're now going to need to account for escaping characters\n",
    "#  that have special meaning in the regex language: +, (, and ).\n",
    "# To escape a character that has special meaning, but a\n",
    "#  slash in front of it. This tells the regex compiler to \n",
    "#  treat the following symbol literally.\n",
    "# Other hints:\n",
    "#   * Don't forget to account for the optional spaces\n",
    "#        using \\s* or \\D*\n",
    "#   * I would account for the ( and ) directly since these\n",
    "#        are common features of American telephone numbers.\n",
    "texts = [\n",
    "    '4582112312', \n",
    "    '+1 324 231 2234', # you want to skip the country code\n",
    "        # to escape the + sign, use \\+\n",
    "    '(123) 405 4999', \n",
    "        # to escape the ( and ), use \\( and \\)\n",
    "    '444-332-2311']\n",
    "pat = re.compile(r'(?:\\+\\d{,3}\\D*)?\\(?(\\d{3})\\)?\\D?\\d{3}\\D?\\d{4}')  \n",
    "for text in texts:\n",
    "    m = pat.match(text)\n",
    "    print(m.group(1))\n",
    "    assert len(m.group(1)) == 3"
   ]
  },
  {
   "cell_type": "code",
   "execution_count": null,
   "metadata": {
    "collapsed": false
   },
   "outputs": [],
   "source": [
    "# Step 6: Awesomeness\n",
    "# Let's use the regex you built!\n",
    "text = '''\n",
    "Apple Online Store\n",
    "Apple.com is a convenient place to purchase Apple products and accessories from Apple and other manufacturers. You can buy online, chat, or call (800) MY–APPLE (800–692–7753), 7 days a week from 7:00 a.m. to 11:00 p.m. Central time.\n",
    "\n",
    "You can get information about an order you placed on the Apple Online Store through the Order Status page. If you prefer, you can also get order status or make changes by phone at (800) 692–7753, 7 days a week from 7:00 a.m. to 11:00 p.m. Central time.\n",
    "\n",
    "Apple Retail Stores\n",
    "Experience the digital lifestyle at any of the Apple Retail Stores around the country. Find store hours and contact information for all locations.\n",
    "\n",
    "2656 NE University Village Street\n",
    "Seattle, WA 98105\n",
    "(206) 892-0433\n",
    "\n",
    "213 Bellevue Square\n",
    "Bellevue, WA 98004\n",
    "(425) 519-0080\n",
    "\n",
    "3000 184th Street S.W.\n",
    "Lynnwood, WA 98037\n",
    "(425) 921-1560\n",
    "\n",
    "300 Post Street\n",
    "San Francisco, CA 94108\n",
    "(415) 486-4800\n",
    "\n",
    "Apple Stonestown\n",
    "3251 20th Avenue\n",
    "San Francisco, CA 94132\n",
    "\n",
    "3251 20th Avenue\n",
    "San Francisco, CA 94132\n",
    "(415) 571-2780\n",
    "\n",
    "2125 Chestnut Street\n",
    "San Francisco, CA 94123\n",
    "(415) 848-4445\n",
    "\n",
    "6455 Macleod Trail SW\n",
    "Calgary, Alberta T2H 0K8\n",
    "(403) 444-3759\n",
    "\n",
    "3625 Shaganappi Trail NW\n",
    "Calgary, Alberta T3A 0E2\n",
    "(403) 648-4865\n",
    "\n",
    "5015 111 St\n",
    "Edmonton, Alberta T6H 4M6\n",
    "(780) 801-3820\n",
    "\n",
    "320 4700 Kingsway\n",
    "Burnaby, British Columbia V5H 4J2\n",
    "(778) 373-4810\n",
    "\n",
    "Richmond, Richmond Centre\n",
    "6551 No. 3 Road\n",
    "Richmond, British Columbia V6Y 2B6\n",
    "(604) 248-3940\n",
    "\n",
    "1485 Portage Avenue\n",
    "Winnipeg, Manitoba R3G 0W4\n",
    "(204) 777-4500\n",
    "\n",
    "7001 Mumford Road\n",
    "Halifax, Nova Scotia B3L 4N9\n",
    "(902) 442-3495\n",
    "\n",
    "5000 Highway 7 East\n",
    "Markham, Ontario L3R 4M9\n",
    "(905) 513-2860\n",
    "\n",
    "100 City Centre Drive\n",
    "Mississauga, Ontario L5B 2C9\n",
    "(905) 366-0580\n",
    "\n",
    "Ottawa, Bayshore Shopping Centre\n",
    "100 Bayshore Drive\n",
    "Ottawa, Ontario K2B 8C1\n",
    "(613) 288-7950\n",
    "\n",
    "Ottawa, Rideau\n",
    "50 Rideau Street\n",
    "Ottawa, Ontario K1N 9J7\n",
    "(613) 688-5575\n",
    "\n",
    "Toronto, Eaton Centre\n",
    "220 Yonge Street\n",
    "Toronto, Ontario M5B 2H1\n",
    "(647) 258-0801\n",
    "\n",
    "Toronto, Fairview\n",
    "1800 Sheppard Avenue East\n",
    "Toronto, Ontario M2J 5A7\n",
    "(416) 646-4412\n",
    "\n",
    "Waterloo, Conestoga\n",
    "550 King Street North\n",
    "Waterloo, Ontario N2L 5W6\n",
    "(519) 772-5150\n",
    "\n",
    "Brossard, DIX30\n",
    "9120 boul. Leduc\n",
    "Brossard, Quebec J4Y 0L3\n",
    "(450) 618-1400\n",
    "\n",
    "Laval, Carrefour Laval\n",
    "3035, boulevard Le Carrefour, local C14B\n",
    "Laval, Quebec H7T 1C8\n",
    "(450) 902-4400\n",
    "\n",
    "Montreal, Sainte-Catherine\n",
    "1321 Rue Ste-Catherine Ouest\n",
    "Montreal, Quebec H3G 1P7\n",
    "(514) 906-8400\n",
    "\n",
    "Pointe-Claire, Fairview Pointe-Claire\n",
    "6801, Transcanada Highway\n",
    "Pointe-Claire, Quebec H9R 5J2\n",
    "(514) 630-8800\n",
    "\n",
    "Quebec City, Place Ste-Foy\n",
    "2450 Boulevard Laurier\n",
    "Quebec City, Quebec G1V 2L1\n",
    "(418) 266-8600\n",
    "\n",
    "17711 Chenal Parkway\n",
    "Little Rock, AR 72223\n",
    "(501) 821-5130\n",
    "\n",
    "8687 North Central Expressway\n",
    "Dallas, TX 75225\n",
    "(214) 765-0820\n",
    "\n",
    "8687 North Central Expressway\n",
    "Dallas, TX 75225\n",
    "(214) 765-0820\n",
    "\n",
    "3401 Nicholasville Road\n",
    "Lexington, KY 40503\n",
    "(859) 971-5400\n",
    "\n",
    "4305 La Jolla Village Drive\n",
    "San Diego, CA 92122\n",
    "(858) 795-6870\n",
    "\n",
    "Get Financing for You, Your Business, or Your School\n",
    "Apple Financial Services offers financing on Apple products for consumers, educational institutions, and businesses. Speak with your Apple representative to learn more.\n",
    "\n",
    "Find Consultants\n",
    "Visit our Apple Consultants Network page to find a consultant in the U.S. or Canada.\n",
    "\n",
    "Find Authorized Training Centers\n",
    "Use our Training Center Locator to find Apple Authorized Training Centers worldwide.\n",
    "\n",
    "How to Buy for Business\n",
    "If you are a business or professional user, visit the Apple Store for Business or call 1–800–854–3680, 7 days a week from 7:00 a.m. to 7:00 p.m. Central time.\n",
    "\n",
    "Corporate and Government Sales:\n",
    "\n",
    "Apple Enterprise Sales (877) 412–7753\n",
    "Apple Government Sales (877) 412–7753\n",
    "How to Buy for Education\n",
    "If you are a student or teacher, visit the Apple Store for Education or call 1–800–692–7753, 7 days a week from 7:00 a.m. to 10:00 p.m. Central time.\n",
    "\n",
    "If you are buying on behalf of an educational institution, visit the Apple Store for Education Institutions or call 1–800–800–2775, 7 days a week from 9:00 a.m. to 6:00 p.m. Central time.\n",
    "\n",
    "Find Apple Authorized Resellers\n",
    "Use our Reseller Locator to find an Apple Authorized Reseller in the U.S.\n",
    "\n",
    "Apple Authorized Resellers offer industry expertise, multi-platform services, and Mac-based solutions for a wide variety of organizations.\n",
    "'''\n",
    "for match in pat.finditer(text):\n",
    "    print(match.group(1))"
   ]
  },
  {
   "cell_type": "markdown",
   "metadata": {},
   "source": [
    "Step 7: How many different area codes did you find? (No, don't count by hand, fix the for-in loop!)\n",
    "\n",
    "Step 7b: What was the most common code you found?\n",
    "* Check out collections.Counter: https://docs.python.org/3.6/library/collections.html#collections.Counter\n",
    "    * It takes an iterable/list, so you can create one of those and pass it in\n",
    "    * Or, you can treat it like a dictionary c[key] += 1"
   ]
  },
  {
   "cell_type": "code",
   "execution_count": null,
   "metadata": {
    "collapsed": false
   },
   "outputs": [],
   "source": [
    "# Step 7\n",
    "results = set()  # sets will only keep unique elements\n",
    "for match in pat.finditer(text):\n",
    "    results.add(match.group(1))\n",
    "len(results)"
   ]
  },
  {
   "cell_type": "code",
   "execution_count": null,
   "metadata": {
    "collapsed": false
   },
   "outputs": [],
   "source": [
    "from collections import Counter\n",
    "c = Counter()\n",
    "for match in pat.finditer(text):\n",
    "    c[match.group(1)] += 1\n",
    "c.most_common()"
   ]
  },
  {
   "cell_type": "code",
   "execution_count": null,
   "metadata": {
    "collapsed": false
   },
   "outputs": [],
   "source": [
    "results = []\n",
    "for match in pat.finditer(text):\n",
    "    results.append(match.group(1))\n",
    "c = Counter(results)\n",
    "c.most_common()"
   ]
  },
  {
   "cell_type": "markdown",
   "metadata": {},
   "source": [
    "# Extra Credit\n",
    "Can you capture the street addresses too? How would you approach that?\n",
    "\n",
    "* `^` for beginning of line and `$` for end of line might help\n",
    "    * if you use either of these, include re.MULTILINE after the regex like this \n",
    "    * you can play with multline (and other flags) on regexr: look for \"Flags\" at top right\n",
    "    \n",
    "```\n",
    "re.compile(r'^...', re.MULTILINE)\n",
    "```\n"
   ]
  },
  {
   "cell_type": "code",
   "execution_count": null,
   "metadata": {
    "collapsed": false
   },
   "outputs": [],
   "source": [
    "pat = re.compile(r'^\\W*?(\\d{2,},?(?:\\s+\\w+){0,5})\\W*(?:\\w+\\W)\\w+,\\W\\w+\\W(\\w{3}\\W\\w{3}|\\d{5})',\n",
    "                re.MULTILINE)\n",
    "for match in pat.finditer(text):\n",
    "    print(match.group(0))"
   ]
  },
  {
   "cell_type": "code",
   "execution_count": null,
   "metadata": {
    "collapsed": true
   },
   "outputs": [],
   "source": []
  }
 ],
 "metadata": {
  "kernelspec": {
   "display_name": "Python 3",
   "language": "python",
   "name": "python3"
  },
  "language_info": {
   "codemirror_mode": {
    "name": "ipython",
    "version": 3
   },
   "file_extension": ".py",
   "mimetype": "text/x-python",
   "name": "python",
   "nbconvert_exporter": "python",
   "pygments_lexer": "ipython3",
   "version": "3.5.1"
  }
 },
 "nbformat": 4,
 "nbformat_minor": 0
}
