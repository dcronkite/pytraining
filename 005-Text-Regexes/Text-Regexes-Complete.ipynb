{
 "cells": [
  {
   "cell_type": "markdown",
   "metadata": {
    "collapsed": true
   },
   "source": [
    "# Text Formatting, Text Processing, and Regular Expressions\n",
    "\n",
    "One of Python's greatest strengths is its ability to effortlessly handle text. Other languages, like Java, rely on the Apache StringUtils library, but I have always found this cludgy and somewhat cumbersome. Python provides native support for deftly and clearly handling text."
   ]
  },
  {
   "cell_type": "markdown",
   "metadata": {},
   "source": [
    "## Text Formatting\n",
    "Briefly, let's take a look at the most common methods for \"formatting\" a string (i.e., combining and coercing disparate pieces of data/types into a string)."
   ]
  },
  {
   "cell_type": "code",
   "execution_count": 1,
   "metadata": {},
   "outputs": [
    {
     "data": {
      "text/plain": [
       "'Shirt x 4 @ $12.99'"
      ]
     },
     "execution_count": 1,
     "metadata": {},
     "output_type": "execute_result"
    }
   ],
   "source": [
    "# How do I combine these elements into a string\n",
    "s = 'Shirt'\n",
    "quantity = 4\n",
    "cost = 12.99\n",
    "# expected output: \"Shirt x 4 @ $12.99\n",
    "s + ' x ' + str(quantity) + ' @ $' + str(cost)"
   ]
  },
  {
   "cell_type": "code",
   "execution_count": 2,
   "metadata": {},
   "outputs": [
    {
     "data": {
      "text/plain": [
       "'Shirt x 4 @ $12.99'"
      ]
     },
     "execution_count": 2,
     "metadata": {},
     "output_type": "execute_result"
    }
   ],
   "source": [
    "# all of those str() were rather cludgy, and the result\n",
    "# is not particularly readable\n",
    "# we can instead use format strings\n",
    "res = '{} x {} @ ${}'.format(s, quantity, cost)  # super flexible\n",
    "res"
   ]
  },
  {
   "cell_type": "code",
   "execution_count": 3,
   "metadata": {},
   "outputs": [
    {
     "data": {
      "text/plain": [
       "'Shirt x 4 @ $12.99'"
      ]
     },
     "execution_count": 3,
     "metadata": {},
     "output_type": "execute_result"
    }
   ],
   "source": [
    "res = f'{s} x {quantity} @ ${cost}'  # not as flexible, but readable\n",
    "res"
   ]
  },
  {
   "cell_type": "markdown",
   "metadata": {},
   "source": [
    "Another one worth learning about, especially in the context of regular expressions is the `r''`, which treats all characters as literals rather than interpreting them. Let's take a look."
   ]
  },
  {
   "cell_type": "markdown",
   "metadata": {},
   "source": [
    "What do these symbols signify?\n",
    "* `\\n`\n",
    "* `\\r`\n",
    "* `\\t`\n",
    "* `\\u0000`\n",
    "* `\\u10A7`"
   ]
  },
  {
   "cell_type": "code",
   "execution_count": 4,
   "metadata": {},
   "outputs": [
    {
     "name": "stdout",
     "output_type": "stream",
     "text": [
      "\n",
      "\t\r\n"
     ]
    }
   ],
   "source": [
    "# print these out (all strings are unicode!)\n",
    "print('\\n\\t\\r')"
   ]
  },
  {
   "cell_type": "code",
   "execution_count": 5,
   "metadata": {},
   "outputs": [
    {
     "name": "stdout",
     "output_type": "stream",
     "text": [
      "\u0000Ⴇ\n"
     ]
    }
   ],
   "source": [
    "print('\\u0000\\u10A7')"
   ]
  },
  {
   "cell_type": "code",
   "execution_count": 6,
   "metadata": {},
   "outputs": [
    {
     "data": {
      "text/plain": [
       "'\\\\u10A7\\\\n\\\\r'"
      ]
     },
     "execution_count": 6,
     "metadata": {},
     "output_type": "execute_result"
    }
   ],
   "source": [
    "# but this doesn't help us figure out what these actually are\n",
    "# preface with `r` to input the string literal\n",
    "r'\\u10A7\\n\\r'"
   ]
  },
  {
   "cell_type": "code",
   "execution_count": 7,
   "metadata": {},
   "outputs": [
    {
     "name": "stdout",
     "output_type": "stream",
     "text": [
      "C:\\Program Files\tableau\n",
      "ewitem.txt\n"
     ]
    }
   ],
   "source": [
    "# this is most useful with paths\n",
    "print('C:\\Program Files\\tableau\\newitem.txt')"
   ]
  },
  {
   "cell_type": "code",
   "execution_count": 8,
   "metadata": {},
   "outputs": [
    {
     "name": "stdout",
     "output_type": "stream",
     "text": [
      "C:\\Program Files\\tableau\\newitem.txt\n"
     ]
    }
   ],
   "source": [
    "print(r'C:\\Program Files\\tableau\\newitem.txt')"
   ]
  },
  {
   "cell_type": "markdown",
   "metadata": {},
   "source": [
    "# Intro to Regular Expressions\n",
    "* Regexr.com\n",
    "    * Text\n",
    "    * A-z, 0-9\n",
    "    * \\w, \\W, \\s, \\S\n",
    "    * `*`, `+`, & `?`\n",
    "    * `.`\n",
    "    * IGNORECASE flag\n",
    "    * `(x|y)`"
   ]
  },
  {
   "cell_type": "code",
   "execution_count": 9,
   "metadata": {
    "collapsed": true
   },
   "outputs": [],
   "source": [
    "telephone_numbers = [\n",
    "    '211-3012',\n",
    "    '(214)-214-2014',\n",
    "    'cell: 1234567890'\n",
    "]"
   ]
  },
  {
   "cell_type": "code",
   "execution_count": null,
   "metadata": {
    "collapsed": true
   },
   "outputs": [],
   "source": [
    "help(re.match)"
   ]
  },
  {
   "cell_type": "code",
   "execution_count": 11,
   "metadata": {},
   "outputs": [
    {
     "data": {
      "text/plain": [
       "<_sre.SRE_Match object; span=(0, 8), match='211-3012'>"
      ]
     },
     "execution_count": 11,
     "metadata": {},
     "output_type": "execute_result"
    }
   ],
   "source": [
    "# capture the first one\n",
    "import re\n",
    "m = re.match('211-3012', telephone_numbers[0])\n",
    "m"
   ]
  },
  {
   "cell_type": "code",
   "execution_count": null,
   "metadata": {
    "collapsed": true
   },
   "outputs": [],
   "source": [
    "# explore .start/.end/.group\n",
    "help(m)"
   ]
  },
  {
   "cell_type": "code",
   "execution_count": 12,
   "metadata": {},
   "outputs": [
    {
     "data": {
      "text/plain": [
       "('211-3012', 0, 8)"
      ]
     },
     "execution_count": 12,
     "metadata": {},
     "output_type": "execute_result"
    }
   ],
   "source": [
    "m.group(), m.start(), m.end()"
   ]
  },
  {
   "cell_type": "code",
   "execution_count": 13,
   "metadata": {},
   "outputs": [
    {
     "data": {
      "text/plain": [
       "'211-3012'"
      ]
     },
     "execution_count": 13,
     "metadata": {},
     "output_type": "execute_result"
    }
   ],
   "source": [
    "telephone_numbers[0][m.start(): m.end()]"
   ]
  },
  {
   "cell_type": "code",
   "execution_count": null,
   "metadata": {
    "collapsed": true
   },
   "outputs": [],
   "source": [
    "re.match(r'\\d+-\\d+', telephone_numbers[0])"
   ]
  },
  {
   "cell_type": "code",
   "execution_count": 16,
   "metadata": {
    "collapsed": true
   },
   "outputs": [],
   "source": [
    "# extra mmse scores from the text\n",
    "mmse_scores = '''\n",
    "Your MMSE is 24/30\n",
    "MMSE had 24 out of 30\n",
    "mmse is 21/30\n",
    "mmse: 30/30\n",
    "'''"
   ]
  },
  {
   "cell_type": "code",
   "execution_count": null,
   "metadata": {
    "collapsed": true
   },
   "outputs": [],
   "source": [
    "help(re.finditer)"
   ]
  },
  {
   "cell_type": "code",
   "execution_count": 18,
   "metadata": {},
   "outputs": [
    {
     "name": "stdout",
     "output_type": "stream",
     "text": [
      "<_sre.SRE_Match object; span=(6, 19), match='MMSE is 24/30'>\n",
      "<_sre.SRE_Match object; span=(20, 41), match='MMSE had 24 out of 30'>\n",
      "<_sre.SRE_Match object; span=(42, 55), match='mmse is 21/30'>\n",
      "<_sre.SRE_Match object; span=(56, 67), match='mmse: 30/30'>\n"
     ]
    }
   ],
   "source": [
    "for m in re.finditer(r'mmse(\\W+\\w+){,4}?\\W*\\d{1,2}(/|\\Wout of\\W)\\d{2}', mmse_scores, re.IGNORECASE):\n",
    "    print(m)"
   ]
  },
  {
   "cell_type": "code",
   "execution_count": 20,
   "metadata": {},
   "outputs": [
    {
     "name": "stdout",
     "output_type": "stream",
     "text": [
      "<_sre.SRE_Match object; span=(6, 19), match='MMSE is 24/30'> 24 30\n",
      "<_sre.SRE_Match object; span=(20, 41), match='MMSE had 24 out of 30'> 24 30\n",
      "<_sre.SRE_Match object; span=(42, 55), match='mmse is 21/30'> 21 30\n",
      "<_sre.SRE_Match object; span=(56, 67), match='mmse: 30/30'> 30 30\n"
     ]
    }
   ],
   "source": [
    "# capturing\n",
    "# (?:) -> non-capturing parentheses\n",
    "# all other parentheses are capturing and can be accessed by match.group()\n",
    "for m in re.finditer(r'mmse(?:\\W+\\w+){,4}?\\W*(\\d{1,2})(?:/|\\Wout of\\W)(\\d{2})', mmse_scores, re.IGNORECASE):\n",
    "    print(m, m.group(1), m.group(2))"
   ]
  },
  {
   "cell_type": "code",
   "execution_count": 21,
   "metadata": {},
   "outputs": [
    {
     "name": "stdout",
     "output_type": "stream",
     "text": [
      "<_sre.SRE_Match object; span=(6, 19), match='MMSE is 24/30'> 24 30\n",
      "<_sre.SRE_Match object; span=(20, 41), match='MMSE had 24 out of 30'> 24 30\n",
      "<_sre.SRE_Match object; span=(42, 55), match='mmse is 21/30'> 21 30\n",
      "<_sre.SRE_Match object; span=(56, 67), match='mmse: 30/30'> 30 30\n"
     ]
    }
   ],
   "source": [
    "# named groups\n",
    "# (?P<name>...) - capture group\n",
    "# (?P=name) - subsequent match of named group\n",
    "for m in re.finditer(r'mmse(?:\\W+\\w+){,4}?\\W*(?P<num>\\d{1,2})(?:/|\\Wout of\\W)(?P<denom>\\d{2})', mmse_scores, re.IGNORECASE):\n",
    "    print(m, m.group('num'), m.group('denom'))"
   ]
  },
  {
   "cell_type": "code",
   "execution_count": null,
   "metadata": {
    "collapsed": true
   },
   "outputs": [],
   "source": [
    "help(re.compile)"
   ]
  },
  {
   "cell_type": "markdown",
   "metadata": {},
   "source": [
    "# Advanced String Formatting and Math\n",
    "* Inserting datetime\n",
    "* Inserting numbers"
   ]
  },
  {
   "cell_type": "code",
   "execution_count": 22,
   "metadata": {},
   "outputs": [
    {
     "data": {
      "text/plain": [
       "'0.6666666666666666'"
      ]
     },
     "execution_count": 22,
     "metadata": {},
     "output_type": "execute_result"
    }
   ],
   "source": [
    "'{}'.format(2/3)"
   ]
  },
  {
   "cell_type": "code",
   "execution_count": 23,
   "metadata": {},
   "outputs": [
    {
     "data": {
      "text/plain": [
       "'0.67'"
      ]
     },
     "execution_count": 23,
     "metadata": {},
     "output_type": "execute_result"
    }
   ],
   "source": [
    "'{:.2}'.format(2/3)"
   ]
  },
  {
   "cell_type": "code",
   "execution_count": 24,
   "metadata": {},
   "outputs": [
    {
     "data": {
      "text/plain": [
       "'2    '"
      ]
     },
     "execution_count": 24,
     "metadata": {},
     "output_type": "execute_result"
    }
   ],
   "source": [
    "'{:<5}'.format(2)"
   ]
  },
  {
   "cell_type": "code",
   "execution_count": 25,
   "metadata": {},
   "outputs": [
    {
     "data": {
      "text/plain": [
       "'    2'"
      ]
     },
     "execution_count": 25,
     "metadata": {},
     "output_type": "execute_result"
    }
   ],
   "source": [
    "'{:>5}'.format(2)"
   ]
  },
  {
   "cell_type": "code",
   "execution_count": 26,
   "metadata": {},
   "outputs": [
    {
     "data": {
      "text/plain": [
       "'  2  '"
      ]
     },
     "execution_count": 26,
     "metadata": {},
     "output_type": "execute_result"
    }
   ],
   "source": [
    "'{:^5}'.format(2)"
   ]
  },
  {
   "cell_type": "code",
   "execution_count": 29,
   "metadata": {},
   "outputs": [
    {
     "data": {
      "text/plain": [
       "'      0.67'"
      ]
     },
     "execution_count": 29,
     "metadata": {},
     "output_type": "execute_result"
    }
   ],
   "source": [
    "# How to right-align 2/3?\n",
    "'{:>10.2}'.format(2/3)"
   ]
  },
  {
   "cell_type": "code",
   "execution_count": 30,
   "metadata": {
    "collapsed": true
   },
   "outputs": [],
   "source": [
    "# In a single line, left align words, and right-align numbers\n",
    "prices = [\n",
    "    ('jacket', 10.99),\n",
    "    ('hat', 4.89),\n",
    "    ('shirt', 14),\n",
    "]"
   ]
  },
  {
   "cell_type": "code",
   "execution_count": 31,
   "metadata": {},
   "outputs": [
    {
     "name": "stdout",
     "output_type": "stream",
     "text": [
      "jacket.........10.99\n",
      "20\n",
      "hat.............4.89\n",
      "20\n",
      "shirt..........14.00\n",
      "20\n"
     ]
    }
   ],
   "source": [
    "for item, price in prices:\n",
    "    print('{:.<10}{:.>10.2f}'.format(item, price))\n",
    "    print(len('{:.<10}{:.>10.2f}'.format(item, price)))"
   ]
  },
  {
   "cell_type": "code",
   "execution_count": 32,
   "metadata": {
    "collapsed": true
   },
   "outputs": [],
   "source": [
    "# format datetime\n",
    "import datetime\n",
    "dt = datetime.datetime.now()"
   ]
  },
  {
   "cell_type": "code",
   "execution_count": 33,
   "metadata": {},
   "outputs": [
    {
     "data": {
      "text/plain": [
       "'20180211223723'"
      ]
     },
     "execution_count": 33,
     "metadata": {},
     "output_type": "execute_result"
    }
   ],
   "source": [
    "'{:%Y%m%d%H%M%S}'.format(dt)"
   ]
  },
  {
   "cell_type": "code",
   "execution_count": 34,
   "metadata": {},
   "outputs": [
    {
     "data": {
      "text/plain": [
       "'20180211223723'"
      ]
     },
     "execution_count": 34,
     "metadata": {},
     "output_type": "execute_result"
    }
   ],
   "source": [
    "dt.strftime('%Y%m%d%H%M%S')"
   ]
  },
  {
   "cell_type": "markdown",
   "metadata": {},
   "source": [
    "See: https://docs.python.org/3.6/library/datetime.html#strftime-and-strptime-behavior"
   ]
  },
  {
   "cell_type": "code",
   "execution_count": 36,
   "metadata": {},
   "outputs": [
    {
     "data": {
      "text/plain": [
       "'20180211223723 - Sunday (Sun)'"
      ]
     },
     "execution_count": 36,
     "metadata": {},
     "output_type": "execute_result"
    }
   ],
   "source": [
    "dt.strftime('%Y%m%d%H%M%S - %A (%a)')"
   ]
  },
  {
   "cell_type": "code",
   "execution_count": null,
   "metadata": {
    "collapsed": true
   },
   "outputs": [],
   "source": []
  }
 ],
 "metadata": {
  "kernelspec": {
   "display_name": "Python 3",
   "language": "python",
   "name": "python3"
  },
  "language_info": {
   "codemirror_mode": {
    "name": "ipython",
    "version": 3
   },
   "file_extension": ".py",
   "mimetype": "text/x-python",
   "name": "python",
   "nbconvert_exporter": "python",
   "pygments_lexer": "ipython3",
   "version": "3.6.1"
  }
 },
 "nbformat": 4,
 "nbformat_minor": 1
}
